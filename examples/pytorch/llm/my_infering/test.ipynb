{
 "cells": [
  {
   "cell_type": "code",
   "execution_count": 1,
   "metadata": {},
   "outputs": [
    {
     "data": {
      "text/plain": [
       "['lr=2e-5-20240123-13:13:18',\n",
       " 'lr=1.4e-4-20240122-06:40:09',\n",
       " 'lr=1.6e-4-20240122-10:30:35',\n",
       " 'lr=1.7e-4-20240122-14:21:05',\n",
       " 'lr=1.3e-4-20240122-02:49:28',\n",
       " 'lr=1.9e-4-20240123-01:44:22',\n",
       " 'lr=1.8e-4-20240122-22:44:45',\n",
       " 'lr=1.1e-4-20240119-12:38:03',\n",
       " 'lr=1.5e-4-20240119-19:54:10',\n",
       " 'lr=1.2e-4-20240120-18:19:49',\n",
       " 'lr=2e-4-20240121-22:58:58']"
      ]
     },
     "execution_count": 1,
     "metadata": {},
     "output_type": "execute_result"
    }
   ],
   "source": [
    "ckpt_list = [\n",
    "\n",
    "]\n",
    "path = \"/home/hanlv/workspace/code/research/infodemic/LLM/swift/examples/pytorch/llm/output/Mistral-7B-Instruct-v0.2/with_solar_info/brave/data1-split=8:2-ratio=1.0/lora\"\n",
    "\n",
    "import subprocess\n",
    "import os\n",
    "os.environ['CUDA_VISIBLE_DEVICES'] = '0'\n",
    "# 要运行的Python文件的路径\n",
    "\n",
    "if len(ckpt_list) == 0 and len(path) == 0:\n",
    "    raise Exception()\n",
    "if len(ckpt_list) > 0 and len(path) > 0:\n",
    "    raise Exception()\n",
    "\n",
    "if len(path) > 0:\n",
    "    for file in os.listdir(path):\n",
    "        ckpt_list.append(os.path.join(path, file, \"checkpoint-609\"))\n"
   ]
  }
 ],
 "metadata": {
  "kernelspec": {
   "display_name": "swift",
   "language": "python",
   "name": "python3"
  },
  "language_info": {
   "codemirror_mode": {
    "name": "ipython",
    "version": 3
   },
   "file_extension": ".py",
   "mimetype": "text/x-python",
   "name": "python",
   "nbconvert_exporter": "python",
   "pygments_lexer": "ipython3",
   "version": "3.10.13"
  }
 },
 "nbformat": 4,
 "nbformat_minor": 2
}
