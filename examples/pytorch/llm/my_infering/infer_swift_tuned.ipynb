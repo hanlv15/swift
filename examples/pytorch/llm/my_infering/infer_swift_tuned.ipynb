{
 "cells": [
  {
   "cell_type": "code",
   "execution_count": 4,
   "metadata": {},
   "outputs": [
    {
     "name": "stderr",
     "output_type": "stream",
     "text": [
      "[INFO:swift] Setting torch_dtype: torch.bfloat16\n",
      "[INFO:swift] model_config: MistralConfig {\n",
      "  \"_name_or_path\": \"/home/css/models/openchat-3.5-0106\",\n",
      "  \"architectures\": [\n",
      "    \"MistralForCausalLM\"\n",
      "  ],\n",
      "  \"attention_dropout\": 0.0,\n",
      "  \"bos_token_id\": 1,\n",
      "  \"eos_token_id\": 32000,\n",
      "  \"hidden_act\": \"silu\",\n",
      "  \"hidden_size\": 4096,\n",
      "  \"initializer_range\": 0.02,\n",
      "  \"intermediate_size\": 14336,\n",
      "  \"max_position_embeddings\": 8192,\n",
      "  \"model_type\": \"mistral\",\n",
      "  \"num_attention_heads\": 32,\n",
      "  \"num_hidden_layers\": 32,\n",
      "  \"num_key_value_heads\": 8,\n",
      "  \"rms_norm_eps\": 1e-05,\n",
      "  \"rope_theta\": 10000.0,\n",
      "  \"sliding_window\": 4096,\n",
      "  \"tie_word_embeddings\": false,\n",
      "  \"torch_dtype\": \"bfloat16\",\n",
      "  \"transformers_version\": \"4.36.2\",\n",
      "  \"use_cache\": true,\n",
      "  \"vocab_size\": 32002\n",
      "}\n",
      "\n",
      "Special tokens have been added in the vocabulary, make sure the associated word embeddings are fine-tuned or trained.\n"
     ]
    },
    {
     "data": {
      "application/vnd.jupyter.widget-view+json": {
       "model_id": "9fbcf05478414639997dd31ef967084b",
       "version_major": 2,
       "version_minor": 0
      },
      "text/plain": [
       "Loading checkpoint shards:   0%|          | 0/3 [00:00<?, ?it/s]"
      ]
     },
     "metadata": {},
     "output_type": "display_data"
    },
    {
     "name": "stderr",
     "output_type": "stream",
     "text": [
      "WARNING:root:Some parameters are on the meta device device because they were offloaded to the cpu.\n"
     ]
    },
    {
     "ename": "ValueError",
     "evalue": "Mixed using with peft is not allowed now.",
     "output_type": "error",
     "traceback": [
      "\u001b[0;31m---------------------------------------------------------------------------\u001b[0m",
      "\u001b[0;31mValueError\u001b[0m                                Traceback (most recent call last)",
      "Cell \u001b[0;32mIn[4], line 25\u001b[0m\n\u001b[1;32m     23\u001b[0m model_type, template_type \u001b[38;5;241m=\u001b[39m sft_args[\u001b[38;5;124m\"\u001b[39m\u001b[38;5;124mmodel_type\u001b[39m\u001b[38;5;124m\"\u001b[39m], sft_args[\u001b[38;5;124m\"\u001b[39m\u001b[38;5;124mtemplate_type\u001b[39m\u001b[38;5;124m\"\u001b[39m]\n\u001b[1;32m     24\u001b[0m model, tokenizer \u001b[38;5;241m=\u001b[39m get_model_tokenizer(model_type, model_kwargs\u001b[38;5;241m=\u001b[39m{\u001b[38;5;124m'\u001b[39m\u001b[38;5;124mdevice_map\u001b[39m\u001b[38;5;124m'\u001b[39m: \u001b[38;5;124m'\u001b[39m\u001b[38;5;124mauto\u001b[39m\u001b[38;5;124m'\u001b[39m})\n\u001b[0;32m---> 25\u001b[0m model \u001b[38;5;241m=\u001b[39m \u001b[43mSwift\u001b[49m\u001b[38;5;241;43m.\u001b[39;49m\u001b[43mfrom_pretrained\u001b[49m\u001b[43m(\u001b[49m\u001b[43mmodel\u001b[49m\u001b[43m,\u001b[49m\u001b[43m \u001b[49m\u001b[43mckpt_dir\u001b[49m\u001b[43m,\u001b[49m\u001b[43m \u001b[49m\u001b[43minference_mode\u001b[49m\u001b[38;5;241;43m=\u001b[39;49m\u001b[38;5;28;43;01mTrue\u001b[39;49;00m\u001b[43m)\u001b[49m\n\u001b[1;32m     26\u001b[0m model\u001b[38;5;241m.\u001b[39mgeneration_config\u001b[38;5;241m.\u001b[39mmax_new_tokens \u001b[38;5;241m=\u001b[39m \u001b[38;5;241m512\u001b[39m\n\u001b[1;32m     27\u001b[0m model\u001b[38;5;241m.\u001b[39mgeneration_config\u001b[38;5;241m.\u001b[39mdo_sample \u001b[38;5;241m=\u001b[39m \u001b[38;5;28;01mFalse\u001b[39;00m\n",
      "File \u001b[0;32m~/workspace/code/research/infodemic/LLM/swift/swift/tuners/base.py:660\u001b[0m, in \u001b[0;36mSwift.from_pretrained\u001b[0;34m(model, model_id, adapter_name, revision, **kwargs)\u001b[0m\n\u001b[1;32m    653\u001b[0m     \u001b[38;5;28;01mreturn\u001b[39;00m PeftModel\u001b[38;5;241m.\u001b[39mfrom_pretrained(\n\u001b[1;32m    654\u001b[0m         model,\n\u001b[1;32m    655\u001b[0m         model_id,\n\u001b[1;32m    656\u001b[0m         revision\u001b[38;5;241m=\u001b[39mrevision,\n\u001b[1;32m    657\u001b[0m         adapter_name\u001b[38;5;241m=\u001b[39madapter_name \u001b[38;5;129;01mor\u001b[39;00m \u001b[38;5;124m'\u001b[39m\u001b[38;5;124mdefault\u001b[39m\u001b[38;5;124m'\u001b[39m,\n\u001b[1;32m    658\u001b[0m         \u001b[38;5;241m*\u001b[39m\u001b[38;5;241m*\u001b[39mkwargs)\n\u001b[1;32m    659\u001b[0m \u001b[38;5;28;01melse\u001b[39;00m:\n\u001b[0;32m--> 660\u001b[0m     \u001b[38;5;28;01mreturn\u001b[39;00m \u001b[43mSwiftModel\u001b[49m\u001b[38;5;241;43m.\u001b[39;49m\u001b[43mfrom_pretrained\u001b[49m\u001b[43m(\u001b[49m\n\u001b[1;32m    661\u001b[0m \u001b[43m        \u001b[49m\u001b[43mmodel\u001b[49m\u001b[43m,\u001b[49m\n\u001b[1;32m    662\u001b[0m \u001b[43m        \u001b[49m\u001b[43mmodel_id\u001b[49m\u001b[43m,\u001b[49m\n\u001b[1;32m    663\u001b[0m \u001b[43m        \u001b[49m\u001b[43mrevision\u001b[49m\u001b[38;5;241;43m=\u001b[39;49m\u001b[43mrevision\u001b[49m\u001b[43m,\u001b[49m\n\u001b[1;32m    664\u001b[0m \u001b[43m        \u001b[49m\u001b[43madapter_name\u001b[49m\u001b[38;5;241;43m=\u001b[39;49m\u001b[43madapter_name\u001b[49m\u001b[43m,\u001b[49m\n\u001b[1;32m    665\u001b[0m \u001b[43m        \u001b[49m\u001b[38;5;241;43m*\u001b[39;49m\u001b[38;5;241;43m*\u001b[39;49m\u001b[43mkwargs\u001b[49m\u001b[43m)\u001b[49m\n",
      "File \u001b[0;32m~/workspace/code/research/infodemic/LLM/swift/swift/tuners/base.py:271\u001b[0m, in \u001b[0;36mSwiftModel.from_pretrained\u001b[0;34m(cls, model, model_id, adapter_name, inference_mode, revision, **kwargs)\u001b[0m\n\u001b[1;32m    268\u001b[0m     json_object \u001b[38;5;241m=\u001b[39m json\u001b[38;5;241m.\u001b[39mload(file)\n\u001b[1;32m    270\u001b[0m \u001b[38;5;28;01mif\u001b[39;00m SWIFT_TYPE_KEY \u001b[38;5;129;01mnot\u001b[39;00m \u001b[38;5;129;01min\u001b[39;00m json_object:\n\u001b[0;32m--> 271\u001b[0m     \u001b[38;5;28;01mraise\u001b[39;00m \u001b[38;5;167;01mValueError\u001b[39;00m(\u001b[38;5;124m'\u001b[39m\u001b[38;5;124mMixed using with peft is not allowed now.\u001b[39m\u001b[38;5;124m'\u001b[39m)\n\u001b[1;32m    272\u001b[0m \u001b[38;5;28;01melse\u001b[39;00m:\n\u001b[1;32m    273\u001b[0m     key \u001b[38;5;241m=\u001b[39m _name \u001b[38;5;28;01mif\u001b[39;00m \u001b[38;5;129;01mnot\u001b[39;00m \u001b[38;5;28misinstance\u001b[39m(adapter_name,\n\u001b[1;32m    274\u001b[0m                                   \u001b[38;5;28mdict\u001b[39m) \u001b[38;5;28;01melse\u001b[39;00m adapter_name[_name]\n",
      "\u001b[0;31mValueError\u001b[0m: Mixed using with peft is not allowed now."
     ]
    }
   ],
   "source": [
    "# 修改checkpoint路径\n",
    "ckpt_dir = '/home/hanlv/workspace/code/research/infodemic/LLM/swift/examples/pytorch/llm/output/openchat_3.5/with_solar_info/brave/data1-split=8:2-ratio=1.0/lr=1.2e-4-20240117-03:47:14'\n",
    "\n",
    "import os\n",
    "import sys\n",
    "import json\n",
    "os.environ['CUDA_VISIBLE_DEVICES'] = '0'\n",
    "\n",
    "dirs = [\"..\"]\n",
    "for _dir in dirs:\n",
    "    if _dir not in sys.path:\n",
    "        sys.path.append(_dir)\n",
    "\n",
    "from swift.llm import (\n",
    "    get_model_tokenizer, get_template, inference\n",
    ")\n",
    "from swift.tuners import Swift\n",
    "from custom import CustomModelType, CustomTemplateType\n",
    "import evaluation\n",
    "\n",
    "with open(f\"{ckpt_dir}/sft_args.json\", \"r\") as f:\n",
    "    sft_args = json.load(f)\n",
    "model_type, template_type = sft_args[\"model_type\"], sft_args[\"template_type\"]\n",
    "model, tokenizer = get_model_tokenizer(model_type, model_kwargs={'device_map': 'auto'})\n",
    "model = Swift.from_pretrained(model, ckpt_dir, inference_mode=True)\n",
    "model.generation_config.max_new_tokens = 512\n",
    "model.generation_config.do_sample = False\n",
    "\n",
    "template = get_template(template_type, tokenizer)\n",
    "\n",
    "get_response = lambda prompt : inference(model, template, prompt)\n"
   ]
  },
  {
   "cell_type": "code",
   "execution_count": 3,
   "metadata": {},
   "outputs": [
    {
     "name": "stdout",
     "output_type": "stream",
     "text": [
      "9 / 2439\n",
      "{0: 7, 2: 1, -2: 0, 'wrong': 0}\n",
      "ACC: 1.0\n",
      "F1: 1.0\n",
      "Precision: 1.0\n",
      "Recall: 1.0\n",
      "\n",
      "\n",
      "Prompt:\n",
      "According to the CLAIM and the PRIOR KNOWLEDGE, please classify the CLAIM as TRUE or FALSE. If the content described by the CLAIM is correct, then classify it as TRUE; if the content described by the CLAIM is incorrect, then classify it as FALSE.\n",
      "\n",
      "CLAIM:\n",
      "Publication date: 2020-04-03\n",
      "Content: A map shows that Madagascar is the only country without coronavirus cases.\n",
      "\n",
      "PRIOR KNOWLEDGE:\n",
      "Information 1:\n",
      "Publication date: 2020-04-03\n",
      "Title: FALSE: A map shows that Madagascar is the only country without ...\n",
      "Content:\n",
      "Home <strong>A</strong> <strong>map</strong> <strong>shows</strong> <strong>that</strong> <strong>Madagascar</strong> <strong>is</strong> <strong>the</strong> <strong>only</strong> <strong>country</strong> <strong>without</strong> <strong>coronavirus</strong> <strong>cases</strong>. ... Explanation: The origin and purpose of <strong>the</strong> <strong>map</strong> <strong>is</strong> unknown. In addition, since March the first <strong>cases</strong> of patients with <strong>coronavirus</strong> were reported in the African <strong>country</strong>. Read the Full Article (Spondeo Media)\n",
      "Information 2:\n",
      "Publication date: None\n",
      "Title: Madagascar: Coronavirus Pandemic Country Profile - Our World in Data\n",
      "Content:\n",
      "Map view: switch to a global map of confirmed cases using the ‘MAP’ tab at the bottom of the chart. Differences in the population size between different countries are often large. To compare countries, it is insightful to look at the number of confirmed cases per million people – this is what the chart shows.\n",
      "And the second map shows the percentage change (growth rate) over this period: blue are all those countries in which the case count in the last two weeks was lower than in the two weeks before. In red countries the case count has increased.\n",
      "In a separate post we discuss how models of COVID-19 help us estimate the true number of infections. → We provide more detail on these points in our page on Cases of COVID-19. By clicking on Edit countries and regions you can show and compare the data for any country in the world you are interested in.\n",
      "By clicking on Edit countries and regions you can show and compare the data for any country in the world you are interested in. If you click on the title of the chart, the chart will open in a new tab. You can then copy-paste the URL and share it. You can switch the chart to a logarithmic axis by clicking on ‘LOG’. If you move both ends of the time-slider to a single point you will see a bar chart for that point in time. Map view: switch to a global map of confirmed cases using the ‘MAP’ tab at the bottom of the chart.\n",
      "Information 3:\n",
      "Publication date: 2020-09-14\n",
      "Title: Madagascar: the latest coronavirus counts, charts and maps\n",
      "Content:\n",
      "Every country reports those figures a little differently and, inevitably, misses undiagnosed infections and deaths. With this project we are focusing on the trends within countries as they try to contain the virus’ spread, whether they are approaching or past peak infection rates, or if they are seeing a resurgence of infections or deaths.\n",
      "Looking at a variety of metrics gives you a more complete view of the virus’ toll on each country. These charts show several different statistics, each with their own strengths and weaknesses, that mark the various ways each country’s outbreak compares in its region and the world.\n",
      "Can minimize the scale of the virus’ impact on smaller countries. Reuters is collecting daily COVID-19 infections and deaths data for 240 countries and territories around the world, updated regularly throughout each day.\n",
      "Information 4:\n",
      "Publication date: None\n",
      "Title: Madagascar Country Overview | World Health Organization\n",
      "Content:\n",
      "Antananarivo is the capital city of the Republic of Madagascar. ... Below are key statistics from WHO’s Global Health Observatory. ... Data reported to WHO in the last 24 hours. Latest update: . ... Health and Climate Change Country Profile on Madagascar, monitoring of national and global progress on health and climate change.\n",
      "Health and Climate Change Country Profile on Madagascar, monitoring of national and global progress on health and climate change. ... The rationale for the development of the country profiles is that while data on individual indicators such as child marriage prevalence or modern contraceptive...\n",
      "Madagascar Country Overview | World Health Organization\n",
      "Information 5:\n",
      "Publication date: 2011-06-21\n",
      "Title: Madagascar country profile - BBC News\n",
      "Content:\n",
      "Since gaining independence from France in 1960, Madagascar has experienced repeated bouts of political instability, including coups, violent unrest and disputed elections. The most recent coup in 2009 led to five years of political deadlock, international condemnation and economic sanctions. Read more country profiles - Profiles by BBC Monitoring\n",
      "The most recent coup in 2009 led to five years of political deadlock, international condemnation and economic sanctions. Read more country profiles - Profiles by BBC Monitoring ... Madagascar's incumbent President Andry Rajoelina is serving a third term, having won the disputed November 2023 election that was boycotted by the opposition and its supporters.\n",
      "Madagascar's incumbent President Andry Rajoelina is serving a third term, having won the disputed November 2023 election that was boycotted by the opposition and its supporters. He got 59% of the vote - defeating his two closest rivals, the ousted ex-President Marc Ravalomanana and Siteny Randrianasoloniaiko. The election recorded a voter turnout of 46%, considered to be the lowest in the island country's history.\n",
      "Situated off the southeast coast of Africa, Madagascar is the fourth largest island in the world. Having developed in isolation, the island nation is famed for its unique wildlife. Traditionally, the economy has been based on the cultivation of paddy rice, coffee, vanilla and cloves.\n",
      "\n",
      "To accurately classify the claim, it is essential to analyze the available information in the context of the claim's publication date (2020-04-03). The claim states that a map shows Madagascar as the only country without coronavirus cases.\n",
      "\n",
      "Information 1, published on the same date as the claim, debunks the claim by stating that the map in question is false. It explains that by March, Madagascar had already reported its first coronavirus cases.\n",
      "\n",
      "Information 2, published by Our World in Data, provides a map and data related to the coronavirus pandemic in Madagascar. It shows the number of confirmed cases per million people and the percentage change in cases over a period. This information also contradicts the claim, as it presents data on the coronavirus situation in Madagascar.\n",
      "\n",
      "Information 3, published on September 14, 2020, also provides data on Madagascar's coronavirus cases and deaths. This information further confirms that Madagascar had coronavirus cases during the time the claim was made.\n",
      "\n",
      "Information 4, published by the World Health Organization (WHO), provides general statistics about Madagascar, including data reported to WHO on COVID-19 infections and deaths. This information also supports the fact that Madagascar had coronavirus cases.\n",
      "\n",
      "Lastly, Information 5, published in 2011, is not directly related to the coronavirus situation in Madagascar but provides background information on the country's political history.\n",
      "\n",
      "Considering the evidence provided by the relevant information published around the time of the claim, it can be classified as FALSE. The claim that a map shows Madagascar as the only country without coronavirus cases is incorrect, as multiple sources have reported coronavirus cases in Madagascar by April 2020.\n",
      "Answer:\n",
      "FALSE.\n",
      "\n"
     ]
    }
   ],
   "source": [
    "wrong_ans = evaluation.cal_metric_single_llm(sft_args, get_response, save=True)\n"
   ]
  },
  {
   "cell_type": "code",
   "execution_count": 3,
   "metadata": {},
   "outputs": [
    {
     "ename": "",
     "evalue": "",
     "output_type": "error",
     "traceback": [
      "\u001b[1;31mThe Kernel crashed while executing code in the the current cell or a previous cell. Please review the code in the cell(s) to identify a possible cause of the failure. Click <a href='https://aka.ms/vscodeJupyterKernelCrash'>here</a> for more info. View Jupyter <a href='command:jupyter.viewOutput'>log</a> for further details."
     ]
    }
   ],
   "source": [
    "exit()"
   ]
  }
 ],
 "metadata": {
  "kernelspec": {
   "display_name": "tune",
   "language": "python",
   "name": "python3"
  },
  "language_info": {
   "codemirror_mode": {
    "name": "ipython",
    "version": 3
   },
   "file_extension": ".py",
   "mimetype": "text/x-python",
   "name": "python",
   "nbconvert_exporter": "python",
   "pygments_lexer": "ipython3",
   "version": "3.10.13"
  }
 },
 "nbformat": 4,
 "nbformat_minor": 2
}
