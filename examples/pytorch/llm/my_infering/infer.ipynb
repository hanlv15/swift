{
 "cells": [
  {
   "cell_type": "code",
   "execution_count": null,
   "metadata": {},
   "outputs": [],
   "source": [
    "import os\n",
    "os.environ['CUDA_VISIBLE_DEVICES'] = '0'\n",
    "\n",
    "from swift.llm import (\n",
    "    ModelType, get_vllm_engine, get_default_template_type,\n",
    "    get_template, inference_vllm\n",
    ")\n",
    "\n",
    "model_type = ModelType.qwen_7b_chat\n",
    "llm_engine = get_vllm_engine(model_type)\n",
    "template_type = get_default_template_type(model_type)\n",
    "template = get_template(template_type, llm_engine.tokenizer)\n",
    "# 与`transformers.GenerationConfig`类似的接口\n",
    "llm_engine.generation_config.max_new_tokens = 256\n",
    "\n",
    "request_list = [{'query': '你好!'}, {'query': '浙江的省会在哪？'}]\n",
    "resp_list = inference_vllm(llm_engine, template, request_list)\n",
    "for request, resp in zip(request_list, resp_list):\n",
    "    print(f\"query: {request['query']}\")\n",
    "    print(f\"response: {resp['response']}\")\n",
    "\n",
    "history1 = resp_list[1]['history']\n",
    "request_list = [{'query': '这有什么好吃的', 'history': history1}]\n",
    "resp_list = inference_vllm(llm_engine, template, request_list)\n",
    "for request, resp in zip(request_list, resp_list):\n",
    "    print(f\"query: {request['query']}\")\n",
    "    print(f\"response: {resp['response']}\")\n",
    "    print(f\"history: {resp['history']}\")\n",
    "\n",
    "\"\"\"Out[0]\n",
    "query: 你好!\n",
    "response: 你好！很高兴为你服务。有什么我可以帮助你的吗？\n",
    "query: 浙江的省会在哪？\n",
    "response: 浙江省会是杭州市。\n",
    "query: 这有什么好吃的\n",
    "response: 杭州是一个美食之城，拥有许多著名的菜肴和小吃，例如西湖醋鱼、东坡肉、叫化童子鸡等。此外，杭州还有许多小吃店，可以品尝到各种各样的本地美食。\n",
    "history: [('浙江的省会在哪？', '浙江省会是杭州市。'), ('这有什么好吃的', '杭州是一个美食之城，拥有许多著名的菜肴和小吃，例如西湖醋鱼、东坡肉、叫化童子鸡等。此外，杭州还有许多小吃店，可以品尝到各种各样的本地美食。')]\n",
    "\"\"\""
   ]
  }
 ],
 "metadata": {
  "language_info": {
   "name": "python"
  }
 },
 "nbformat": 4,
 "nbformat_minor": 2
}
