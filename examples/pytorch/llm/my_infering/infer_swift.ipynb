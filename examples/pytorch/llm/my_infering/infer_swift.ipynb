{
 "cells": [
  {
   "cell_type": "code",
   "execution_count": 1,
   "metadata": {},
   "outputs": [
    {
     "name": "stderr",
     "output_type": "stream",
     "text": [
      "2024-01-21 01:31:05,431 - modelscope - INFO - PyTorch version 2.1.2 Found.\n",
      "2024-01-21 01:31:05,434 - modelscope - INFO - Loading ast index from /home/hanlv/.cache/modelscope/ast_indexer\n",
      "2024-01-21 01:31:05,459 - modelscope - INFO - Loading done! Current index file version is 1.11.0, with md5 dc3cda2b56a86b0242cd145399a14071 and a total number of 953 components indexed\n",
      "[INFO:swift] Setting torch_dtype: torch.float16\n",
      "[INFO:swift] model_config: MistralConfig {\n",
      "  \"_name_or_path\": \"/home/css/models/DareBeagle-7B-v2\",\n",
      "  \"architectures\": [\n",
      "    \"MistralForCausalLM\"\n",
      "  ],\n",
      "  \"attention_dropout\": 0.0,\n",
      "  \"bos_token_id\": 1,\n",
      "  \"eos_token_id\": 2,\n",
      "  \"hidden_act\": \"silu\",\n",
      "  \"hidden_size\": 4096,\n",
      "  \"initializer_range\": 0.02,\n",
      "  \"intermediate_size\": 14336,\n",
      "  \"max_position_embeddings\": 32768,\n",
      "  \"model_type\": \"mistral\",\n",
      "  \"num_attention_heads\": 32,\n",
      "  \"num_hidden_layers\": 32,\n",
      "  \"num_key_value_heads\": 8,\n",
      "  \"rms_norm_eps\": 1e-05,\n",
      "  \"rope_theta\": 10000.0,\n",
      "  \"sliding_window\": 4096,\n",
      "  \"tie_word_embeddings\": false,\n",
      "  \"torch_dtype\": \"float16\",\n",
      "  \"transformers_version\": \"4.36.2\",\n",
      "  \"use_cache\": true,\n",
      "  \"vocab_size\": 32000\n",
      "}\n",
      "\n"
     ]
    },
    {
     "name": "stdout",
     "output_type": "stream",
     "text": [
      "Template type: neural\n"
     ]
    },
    {
     "data": {
      "application/vnd.jupyter.widget-view+json": {
       "model_id": "10cc9577b68a4e2e855183bc3fe86cbd",
       "version_major": 2,
       "version_minor": 0
      },
      "text/plain": [
       "Loading checkpoint shards:   0%|          | 0/2 [00:00<?, ?it/s]"
      ]
     },
     "metadata": {},
     "output_type": "display_data"
    }
   ],
   "source": [
    "import os\n",
    "import sys\n",
    "os.environ['CUDA_VISIBLE_DEVICES'] = '1'\n",
    "\n",
    "dirs = [\"..\"]\n",
    "for _dir in dirs:\n",
    "    if _dir not in sys.path:\n",
    "        sys.path.append(_dir)\n",
    "\n",
    "from swift.llm import (\n",
    "    get_model_tokenizer, get_template, inference, ModelType, get_default_template_type, TemplateType\n",
    ")\n",
    "\n",
    "from custom import CustomModelType, CustomTemplateType\n",
    "\n",
    "# model_dir = '/home/hanlv/workspace/code/research/infodemic/LLM/swift/examples/pytorch/llm/output/openchat_3.5/with_solar_info/brave/data1/lr=1.1e-4/lora_rank=8/split_type=8:2-train_ratio=1.0-20240116-00:52:51/checkpoint-609'\n",
    "model_type = CustomModelType.darebeagle_7b\n",
    "template_type = get_default_template_type(model_type)\n",
    "print(f\"Template type: {template_type}\")\n",
    "\n",
    "model, tokenizer = get_model_tokenizer(model_type)\n",
    "model.generation_config.max_new_tokens = 512\n",
    "template = get_template(template_type, tokenizer)\n",
    "\n"
   ]
  },
  {
   "cell_type": "code",
   "execution_count": 2,
   "metadata": {},
   "outputs": [
    {
     "name": "stdout",
     "output_type": "stream",
     "text": [
      "The longest river in the world is the Nile River, which is located in Africa and has a length of approximately 6,650 kilometers (4,130 miles).\n",
      "\n",
      "The Nile River flows through 11 countries in Africa, including Tanzania, Uganda, Rwanda, Burundi, Democratic Republic of the Congo, Kenya, Ethiopia, Eritrea, Sudan, South Sudan, and Egypt. It is a vital source of water and sustains the livelihoods of millions of people in the region.\n",
      "\n",
      "The Nile River is divided into two main tributaries: the White Nile and the Blue Nile. The White Nile originates in the Great Lakes region of Central Africa and flows northward through Uganda, South Sudan, and Sudan. The Blue Nile originates in Ethiopia and flows westward into Sudan, where it meets the White Nile near Khartoum. The combined flow of the two tributaries forms the main Nile River, which flows northward through Egypt and empties into the Mediterranean Sea.\n",
      "\n",
      "The Nile River has played a significant role in the history and development of the civilizations that have flourished along its banks, including ancient Egypt, Nubia, and modern-day Sudan and Egypt. It remains an important source of water, agriculture, and transportation for the millions of people who live in the region today.\n"
     ]
    }
   ],
   "source": [
    "# template_type = TemplateType.chatml\n",
    "query = \"longest river?\"\n",
    "\n",
    "response, history = inference(\n",
    "    model, template, query, \n",
    "    verbose=False, prompt_prefix='', output_prefix=''\n",
    ")\n",
    "\n",
    "print(response)\n"
   ]
  }
 ],
 "metadata": {
  "kernelspec": {
   "display_name": "tune",
   "language": "python",
   "name": "python3"
  },
  "language_info": {
   "codemirror_mode": {
    "name": "ipython",
    "version": 3
   },
   "file_extension": ".py",
   "mimetype": "text/x-python",
   "name": "python",
   "nbconvert_exporter": "python",
   "pygments_lexer": "ipython3",
   "version": "3.10.13"
  }
 },
 "nbformat": 4,
 "nbformat_minor": 2
}
