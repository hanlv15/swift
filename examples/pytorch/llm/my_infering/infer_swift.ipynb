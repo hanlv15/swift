{
 "cells": [
  {
   "cell_type": "code",
   "execution_count": 1,
   "metadata": {},
   "outputs": [
    {
     "name": "stderr",
     "output_type": "stream",
     "text": [
      "2024-01-11 16:02:39,128 - modelscope - INFO - PyTorch version 2.1.2 Found.\n",
      "2024-01-11 16:02:39,131 - modelscope - INFO - Loading ast index from /home/hanlv/.cache/modelscope/ast_indexer\n",
      "2024-01-11 16:02:39,169 - modelscope - INFO - Loading done! Current index file version is 1.11.0, with md5 dc3cda2b56a86b0242cd145399a14071 and a total number of 953 components indexed\n",
      "[INFO:swift] Setting torch_dtype: torch.float16\n",
      "[INFO:swift] model_config: LlamaConfig {\n",
      "  \"_name_or_path\": \"/home/css/models/SOLAR-10.7B-Instruct-v1.0\",\n",
      "  \"architectures\": [\n",
      "    \"LlamaForCausalLM\"\n",
      "  ],\n",
      "  \"attention_bias\": false,\n",
      "  \"attention_dropout\": 0.0,\n",
      "  \"bos_token_id\": 1,\n",
      "  \"eos_token_id\": 2,\n",
      "  \"hidden_act\": \"silu\",\n",
      "  \"hidden_size\": 4096,\n",
      "  \"initializer_range\": 0.02,\n",
      "  \"intermediate_size\": 14336,\n",
      "  \"max_position_embeddings\": 4096,\n",
      "  \"model_type\": \"llama\",\n",
      "  \"num_attention_heads\": 32,\n",
      "  \"num_hidden_layers\": 48,\n",
      "  \"num_key_value_heads\": 8,\n",
      "  \"pad_token_id\": 2,\n",
      "  \"pretraining_tp\": 1,\n",
      "  \"rms_norm_eps\": 1e-05,\n",
      "  \"rope_scaling\": null,\n",
      "  \"rope_theta\": 10000.0,\n",
      "  \"tie_word_embeddings\": false,\n",
      "  \"torch_dtype\": \"float16\",\n",
      "  \"transformers_version\": \"4.36.2\",\n",
      "  \"use_cache\": true,\n",
      "  \"vocab_size\": 32000\n",
      "}\n",
      "\n"
     ]
    },
    {
     "name": "stdout",
     "output_type": "stream",
     "text": [
      "template_type: solar\n"
     ]
    },
    {
     "data": {
      "application/vnd.jupyter.widget-view+json": {
       "model_id": "b9f72bd731dd4352b5d173d574c3d80e",
       "version_major": 2,
       "version_minor": 0
      },
      "text/plain": [
       "Loading checkpoint shards:   0%|          | 0/5 [00:00<?, ?it/s]"
      ]
     },
     "metadata": {},
     "output_type": "display_data"
    },
    {
     "name": "stderr",
     "output_type": "stream",
     "text": [
      "[INFO:swift] Global seed set to 42\n"
     ]
    },
    {
     "data": {
      "text/plain": [
       "42"
      ]
     },
     "execution_count": 1,
     "metadata": {},
     "output_type": "execute_result"
    }
   ],
   "source": [
    "import os, sys\n",
    "os.environ['CUDA_VISIBLE_DEVICES'] = '0'\n",
    "\n",
    "dir_list = ['..', \"/home/hanlv/workspace/code/research/infodemic/LLM/autogen/create_prompt_bing_llm\"]\n",
    "for dir in dir_list:\n",
    "    if not dir in sys.path:\n",
    "        sys.path.append(dir)\n",
    "\n",
    "from custom import CustomModelType, CustomTemplateType\n",
    "import prompt_rag\n",
    "\n",
    "from swift.llm import (\n",
    "    get_model_tokenizer, get_template, inference,\n",
    ")\n",
    "from swift.utils import seed_everything\n",
    "\n",
    "model_type = CustomModelType.solar_10_7b\n",
    "template_type = CustomTemplateType.solar\n",
    "print(f'template_type: {template_type}')  # template_type: qwen\n",
    "\n",
    "\n",
    "kwargs = {}\n",
    "kwargs['use_flash_attn'] = False  # 使用flash_attn\n",
    "\n",
    "model, tokenizer = get_model_tokenizer(model_type, model_kwargs={'device_map': 'auto'}, **kwargs)\n",
    "\n",
    "# 修改max_new_tokens\n",
    "model.generation_config.max_new_tokens = 4096\n",
    "\n",
    "template = get_template(template_type, tokenizer)\n",
    "seed_everything(42)\n"
   ]
  },
  {
   "cell_type": "code",
   "execution_count": 6,
   "metadata": {},
   "outputs": [],
   "source": [
    "import json\n",
    "\n",
    "search_engine = \"brave\"\n",
    "\n",
    "with open(f\"/home/hanlv/workspace/data/machine_learning/dataset/research/misinformation_dataset/COVMIS-main/data/train_{search_engine}_search.json\", \"r\") as f:\n",
    "    data_search = json.load(f)\n",
    "\n",
    "try:\n",
    "    with open(f\"/home/hanlv/workspace/data/machine_learning/dataset/research/misinformation_dataset/COVMIS-main/data/train_{search_engine}_search_llm.json\", \"r\") as f:\n",
    "        data_search_llm = json.load(f)\n",
    "except:\n",
    "    data_search_llm = [{\n",
    "        \"claim\": i[\"claim\"],\n",
    "        \"claimant\": i[\"claimant\"],\n",
    "        \"label\": i[\"label\"],\n",
    "        \"date\": i[\"date\"],\n",
    "    } for i in data_search]\n",
    "    with open(f\"/home/hanlv/workspace/data/machine_learning/dataset/research/misinformation_dataset/COVMIS-main/data/train_{search_engine}_search_llm.json\", \"w\") as f:\n",
    "        json.dump(data_search_llm, f, indent=4)\n"
   ]
  },
  {
   "cell_type": "code",
   "execution_count": 7,
   "metadata": {},
   "outputs": [
    {
     "name": "stdout",
     "output_type": "stream",
     "text": [
      "Below is a CLAIM and some INFORMATION searched online. These pieces of INFORMATION are relevant to the CLAIM. This CLAIM and all INFORMATION include their respective publication dates and contents. To classify the CLAIM more accurately (if the content described by the CLAIM is correct, it will be classified as TRUE; if the content described by the CLAIM is incorrect, it will be classified as FALSE), please first expand on the given INFORMATION and provide a detailed summary of it. Then analyze, reason, and provide reasonable evidence to judge the correctness of the CLAIM based on the available information and your knowledge, and finally generate prior knowledge that helps classify the CLAIM.\n",
      "\n",
      "CLAIM:\n",
      "Publication date: 2020-04-30\n",
      "Content: COVID-19 Daily: Hospital Mortality Data, Drug Trial Raises Eyebrows\n",
      "\n",
      "INFORMATION:\n",
      "Information 1:\n",
      "Publication date: 2020-04-30\n",
      "Title: COVID-19 Daily: Hospital Mortality Data, Drug Trial Raises Eyebrows\n",
      "Content:\n",
      "These are the coronavirus stories you need to know about today.\n",
      "Information 2:\n",
      "Publication date: 2013-08-06\n",
      "Title: COVID-19 Daily: Hospital Mortality Data, Drug Trial Raises ...\n",
      "Content:\n",
      "<strong>COVID</strong>-<strong>19</strong> is a new type of coronavirus that causes mild to severe cases. Here’s a quick guide on how to spot symptoms, risk factors, prevent spread of the disease, and find out what to do if you think you have it.\n",
      "Information 3:\n",
      "Publication date: None\n",
      "Title: COVID-19 Hospital Data - In-hospital mortality among confirmed ...\n",
      "Content:\n",
      "Tabulated data show the percentage of confirmed COVID-19 encounters in which an in-hospital death occurred. Data are presented for each setting (inpatient and ED) and for each week, by age and sex. Additionally, data show the percentage of in-hospital deaths among confirmed COVID-19 discharges, with and without intubation or ventilator use.\n",
      "Information 4:\n",
      "Publication date: None\n",
      "Title: Mortality Analyses - Johns Hopkins Coronavirus Resource Center\n",
      "Content:\n",
      "For the twenty countries currently most affected by COVID-19 worldwide, the bars in the chart below show the number of deaths either per 100 confirmed cases (observed case-fatality ratio) or per 100,000 population (this represents a country’s general population, with both confirmed cases and healthy people). Countries at the top of this figure have the most deaths proportionally to their COVID-19 cases or population, not necessarily the most deaths overall.\n",
      "Countries falling on the uppermost lines have the highest observed case fatality ratios. Points with a black border correspond to the 20 most affected countries by COVID-19 worldwide, based on the number of deaths. Hover over the circles to see the country name and a ratio value.\n",
      "One of the most important ways to measure the burden of COVID-19 is mortality. Countries throughout the world have reported very different case fatality ratios – the number of deaths divided by the number of confirmed cases. Differences in mortality numbers can be caused by:\n",
      "After three years of around-the-clock tracking of COVID-19 data from...\n",
      "Information 5:\n",
      "Publication date: None\n",
      "Title: Coronavirus (COVID-19) Deaths - Our World in Data\n",
      "Content:\n",
      "This page provides <strong>data</strong> on the number of confirmed deaths from <strong>COVID</strong>-<strong>19</strong>.\n",
      "Information 6:\n",
      "Publication date: 2020-03-28\n",
      "Title: CDC COVID-19 Data Tracker\n",
      "Content:\n",
      "CDC’s home for COVID-19 data. Visualizations, graphs, and data in one easy-to-use website.\n",
      "Information 7:\n",
      "Publication date: 2022-09-15\n",
      "Title: Mortality Risk Among Patients Hospitalized Primarily for COVID-19...\n",
      "Content:\n",
      "This report describes in-<strong>hospital</strong> <strong>mortality</strong> risk among patients <strong>hospitalized</strong> <strong>for</strong> <strong>COVID</strong>-<strong>19</strong>.\n",
      "Information 8:\n",
      "Publication date: 2020-02-11\n",
      "Title: Selected Adverse Events Reported after COVID-19 Vaccination | CDC\n",
      "Content:\n",
      "Rare instances of adverse events following COVID-19 vaccinations have been reported to the Vaccine Adverse Event Reporting System.\n",
      "Information 9:\n",
      "Publication date: 2023-03-29\n",
      "Title: Coronavirus (COVID-19) latest insights - Office for National ...\n",
      "Content:\n",
      "The latest <strong>data</strong> and trends about the coronavirus (<strong>COVID</strong>-18) pandemic from the Office for National Statistics and other sources.\n",
      "Information 10:\n",
      "Publication date: None\n",
      "Title: Provisional Death Counts for Coronavirus Disease 2019 (COVID-19)\n",
      "Content:\n",
      "The provisional counts for COVID-19 deaths are based on a current flow of mortality data in the National Vital Statistics System. National provisional counts include deaths occurring within the 50 states and the District of Columbia that have been received and coded as of the date specified.\n",
      "Previous analyses of 2015–2016 provisional data completeness have found that completeness is lower in the first few weeks following the date of death (<25%), and then increases over time such that data are generally at least 75% complete within 8 weeks of when the death occurred (8). Recent improvements in the timeliness of provisional mortality data suggest that the data are at least 94% complete within 8 weeks of when the death occurred, see Technical Notes.\n",
      "Note: Provisional death counts are based on death certificate data received and coded by the National Center for Health Statistics as of December 28, 2023. Death counts are delayed and may differ from other published sources (see Technical Notes). Counts will be updated Thursdays by 5pm. The provisional counts for COVID-19 deaths are based on a current flow of mortality data in the National Vital Statistics System.\n",
      "The provisional data presented on this page include the provisional counts of deaths in the United States due to COVID-19, deaths from all causes and percent of expected deaths (i.e., number of deaths received over number of deaths expected based on data from previous years), pneumonia deaths (excluding pneumonia deaths involving influenza), pneumonia deaths involving COVID-19, influenza deaths, and deaths involving pneumonia, influenza, or COVID-19; by week ending date, month, and year, and specific jurisdictions. For the Index of Provisional COVID-19 Mortality Surveillance and Ad-hoc Data Files, click here.\n",
      "\n",
      "The CLAIM, published on 2020-04-30, discusses two main aspects: COVID-19 hospital mortality data and a drug trial raising concerns. To analyze the claim's accuracy, we can refer to the provided information.\n",
      "\n",
      "Information 1 is the CLAIM itself, which does not provide any new data or context. Information 2 is unrelated to the CLAIM as it discusses COVID-19 symptoms, risk factors, and prevention, published in 2013, before the pandemic.\n",
      "\n",
      "Information 3 and 4 both provide data on hospital mortality rates and case fatality ratios. Information 3 is specific to the United States, presenting data on in-hospital deaths among confirmed COVID-19 cases, while Information 4 compares mortality rates among 20 countries most affected by COVID-19. These two pieces of information support the first part of the CLAIM about hospital mortality data.\n",
      "\n",
      "Information 5 and 9 are also related to mortality data, providing global and UK-specific COVID-19 death statistics, respectively. Information 5 is from 2022, while Information 9 is from 2023, further supporting the claim's relevance over time.\n",
      "\n",
      "Information 6 provides access to COVID-19 data trackers from the CDC, which likely includes hospital mortality data. Information 7 discusses the mortality risk among patients hospitalized primarily for COVID-19, further supporting the claim.\n",
      "\n",
      "Information 8 discusses adverse events reported after COVID-19 vaccination, which is related to the second part of the CLAIM about a drug trial. However, it does not provide specific details about a particular drug trial raising eyebrows.\n",
      "\n",
      "In conclusion, the majority of the provided information supports the first part of the CLAIM about COVID-19 hospital mortality data. However, there is insufficient information to verify the second part about a drug trial raising eyebrows. Overall, the CLAIM can be classified as MOSTLY TRUE, as it accurately represents the focus on hospital mortality data and COVID-19, but the second part about the drug trial requires further evidence to confirm its accuracy.\n"
     ]
    }
   ],
   "source": [
    "K = 10\n",
    "def get_id(claim):\n",
    "    for i in range(len(data_search)):\n",
    "        if claim.strip() in data_search[i][\"claim\"].strip():\n",
    "            return i\n",
    "\n",
    "# i = 0\n",
    "i = get_id(\"COVID-19 Daily: Hospital Mortality Data, Drug Trial Raises Eyebrows\")\n",
    "\n",
    "claim = data_search[i][\"claim\"]\n",
    "search_results = data_search[i][f\"{search_engine}_search_results\"]\n",
    "\n",
    "prompt = prompt_rag.get_prompt_for_generating_prior_knowledge_v2(\n",
    "    claim, data_search[i][\"date\"], search_engine, search_results, K=K, sort=False)\n",
    "print(prompt)\n",
    "\n",
    "response, history = inference(model, template, prompt)\n",
    "print(response.strip())\n"
   ]
  },
  {
   "cell_type": "code",
   "execution_count": 5,
   "metadata": {},
   "outputs": [
    {
     "name": "stdout",
     "output_type": "stream",
     "text": [
      "[PROMPT]### User:\n",
      "Hello?\n",
      "\n",
      "### Assistant:\n",
      "[OUTPUT]Hello, how can I assist you today? Please feel free to ask me any questions or provide me with a task that I can help you with. I'm here to provide you with information, answer your queries, and make your life a little easier.</s>\n"
     ]
    }
   ],
   "source": [
    "query = 'Hello?'\n",
    "response, history = inference(\n",
    "    model, template, query, \n",
    "    verbose=True, # 带有聊天模板\n",
    ")\n",
    "# print(f'query: {query}')\n",
    "# print(f'response: {response}')\n",
    "\n",
    "\n",
    "# # 流式输出对话模板\n",
    "# inference(model, template, '第一个问题是什么', history, verbose=True, stream=True)\n"
   ]
  }
 ],
 "metadata": {
  "kernelspec": {
   "display_name": "tune",
   "language": "python",
   "name": "python3"
  },
  "language_info": {
   "codemirror_mode": {
    "name": "ipython",
    "version": 3
   },
   "file_extension": ".py",
   "mimetype": "text/x-python",
   "name": "python",
   "nbconvert_exporter": "python",
   "pygments_lexer": "ipython3",
   "version": "3.10.13"
  }
 },
 "nbformat": 4,
 "nbformat_minor": 2
}
