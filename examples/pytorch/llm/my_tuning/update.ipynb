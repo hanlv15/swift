{
 "cells": [
  {
   "cell_type": "markdown",
   "metadata": {},
   "source": [
    "update to peft"
   ]
  },
  {
   "cell_type": "code",
   "execution_count": 4,
   "metadata": {},
   "outputs": [
    {
     "data": {
      "text/plain": [
       "{'a': None}"
      ]
     },
     "execution_count": 4,
     "metadata": {},
     "output_type": "execute_result"
    }
   ],
   "source": [
    "ckpt_list = []\n",
    "\n",
    "# tuning output path\n",
    "path = \"/home/hanlv/workspace/code/research/infodemic/LLM/swift/examples/pytorch/llm/my_inferencing/test_metric_single_llm/with_solar_info/brave/data1-split=8:2-ratio=1.0/adalora-r=3_8\"\n",
    "\n",
    "#path = \"\"\n",
    "import subprocess\n",
    "import os\n",
    "os.environ['CUDA_VISIBLE_DEVICES'] = '0'\n",
    "\n",
    "\n",
    "# 要运行的Python文件的路径\n",
    "if len(path) == 0 or \"lora_plus\"in path:\n",
    "    raise Exception()\n",
    "# if len(ckpt_list) > 0 and len(path) > 0:\n",
    "#     raise Exception()\n",
    "\n",
    "if len(path) > 0:\n",
    "    for file in os.listdir(path):\n",
    "        ckpt_dir = os.path.join(path, file, \"checkpoint-609\")\n",
    "        if os.path.exists(ckpt_dir):\n",
    "            ckpt_list.append(ckpt_dir)\n",
    "\n",
    "\n",
    "# 使用subprocess运行Python文件\n",
    "for ckpt in ckpt_list:\n",
    "    subprocess.run([\"python\", \"../llm_export.py\", \"--ckpt\", ckpt, \"--to_peft_format\", \"true\"])\n",
    "\n"
   ]
  },
  {
   "cell_type": "markdown",
   "metadata": {},
   "source": [
    "add train loss"
   ]
  }
 ],
 "metadata": {
  "kernelspec": {
   "display_name": "tune",
   "language": "python",
   "name": "python3"
  },
  "language_info": {
   "codemirror_mode": {
    "name": "ipython",
    "version": 3
   },
   "file_extension": ".py",
   "mimetype": "text/x-python",
   "name": "python",
   "nbconvert_exporter": "python",
   "pygments_lexer": "ipython3",
   "version": "3.10.13"
  }
 },
 "nbformat": 4,
 "nbformat_minor": 2
}
