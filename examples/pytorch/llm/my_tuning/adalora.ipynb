{
 "cells": [
  {
   "cell_type": "code",
   "execution_count": 1,
   "metadata": {},
   "outputs": [
    {
     "data": {
      "text/plain": [
       "['2e-4', '1.2e-4', '1.3e-4', '1.4e-4', '1.6e-4', '1.7e-4', '1.8e-4', '1.9e-4']"
      ]
     },
     "execution_count": 1,
     "metadata": {},
     "output_type": "execute_result"
    }
   ],
   "source": [
    "lrs2 = [\"1.1e-4\", \"1.5e-4\", \"2e-4\", \"1.2e-4\", \"1.3e-4\", \"1.4e-4\", \"1.6e-4\", \"1.7e-4\", \"1.8e-4\", \"1.9e-4\"]\n",
    "\n",
    "lr_del = [\"1.1e-4\", \"1.5e-4\"]\n",
    "\n",
    "lrs = [value for value in lrs2 if value not in lr_del]\n",
    "\n",
    "lrs"
   ]
  }
 ],
 "metadata": {
  "kernelspec": {
   "display_name": "tune",
   "language": "python",
   "name": "python3"
  },
  "language_info": {
   "codemirror_mode": {
    "name": "ipython",
    "version": 3
   },
   "file_extension": ".py",
   "mimetype": "text/x-python",
   "name": "python",
   "nbconvert_exporter": "python",
   "pygments_lexer": "ipython3",
   "version": "3.10.13"
  }
 },
 "nbformat": 4,
 "nbformat_minor": 2
}
