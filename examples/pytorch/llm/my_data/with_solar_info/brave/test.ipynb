{
 "cells": [
  {
   "cell_type": "code",
   "execution_count": 1,
   "metadata": {},
   "outputs": [
    {
     "name": "stderr",
     "output_type": "stream",
     "text": [
      "2024-04-02 18:52:20,348 - modelscope - INFO - PyTorch version 2.1.2 Found.\n",
      "2024-04-02 18:52:20,351 - modelscope - INFO - Loading ast index from /home/hanlv/.cache/modelscope/ast_indexer\n",
      "2024-04-02 18:52:20,387 - modelscope - INFO - Loading done! Current index file version is 1.13.1, with md5 ad87f4a589251d86333765b92ab59e41 and a total number of 972 components indexed\n",
      "[INFO:swift] Loading the model using model_dir: /home/css/models/openchat-3.5-0106\n",
      "[INFO:swift] Setting torch_dtype: torch.bfloat16\n",
      "[INFO:swift] model_config: MistralConfig {\n",
      "  \"_name_or_path\": \"/home/css/models/openchat-3.5-0106\",\n",
      "  \"architectures\": [\n",
      "    \"MistralForCausalLM\"\n",
      "  ],\n",
      "  \"attention_dropout\": 0.0,\n",
      "  \"bos_token_id\": 1,\n",
      "  \"eos_token_id\": 32000,\n",
      "  \"hidden_act\": \"silu\",\n",
      "  \"hidden_size\": 4096,\n",
      "  \"initializer_range\": 0.02,\n",
      "  \"intermediate_size\": 14336,\n",
      "  \"max_position_embeddings\": 8192,\n",
      "  \"model_type\": \"mistral\",\n",
      "  \"num_attention_heads\": 32,\n",
      "  \"num_hidden_layers\": 32,\n",
      "  \"num_key_value_heads\": 8,\n",
      "  \"rms_norm_eps\": 1e-05,\n",
      "  \"rope_theta\": 10000.0,\n",
      "  \"sliding_window\": 4096,\n",
      "  \"tie_word_embeddings\": false,\n",
      "  \"torch_dtype\": \"bfloat16\",\n",
      "  \"transformers_version\": \"4.39.2\",\n",
      "  \"use_cache\": true,\n",
      "  \"vocab_size\": 32002\n",
      "}\n",
      "\n",
      "Special tokens have been added in the vocabulary, make sure the associated word embeddings are fine-tuned or trained.\n"
     ]
    }
   ],
   "source": [
    "import torch\n",
    "import sys\n",
    "from swift.llm import get_model_tokenizer\n",
    "dirs = [\"/home/hanlv/workspace/code/research/infodemic/LLM/swift/examples/pytorch/llm\"]\n",
    "for _dir in dirs:\n",
    "    if _dir not in sys.path:\n",
    "        sys.path.append(_dir)\n",
    "from custom import CustomModelType, CustomTemplateType\n",
    "model_type = CustomModelType.openchat_35\n",
    "model, tokenizer = get_model_tokenizer(\n",
    "    model_type, \n",
    "    load_model=False\n",
    ")\n"
   ]
  },
  {
   "cell_type": "code",
   "execution_count": 2,
   "metadata": {},
   "outputs": [
    {
     "data": {
      "application/vnd.jupyter.widget-view+json": {
       "model_id": "79b605d923bc4f328bc26fab8148bf53",
       "version_major": 2,
       "version_minor": 0
      },
      "text/plain": [
       "  0%|          | 0/12192 [00:00<?, ?it/s]"
      ]
     },
     "metadata": {},
     "output_type": "display_data"
    }
   ],
   "source": [
    "import jsonlines\n",
    "from tqdm.notebook import tqdm\n",
    "\n",
    "dict_list = []\n",
    "version = \"1\"\n",
    "with jsonlines.open(f\"data{version}.jsonl\", mode=\"r\") as file_jsonl:\n",
    "    for item in file_jsonl.iter():\n",
    "        dict_list.append(item)\n",
    "\n",
    "lens1 = []\n",
    "lens2 = []\n",
    "\n",
    "for item in tqdm(dict_list):\n",
    "    lens1.append(len(tokenizer(item[\"query\"])[\"input_ids\"]))\n",
    "    # lens2.append(len(tokenizer.tokenize(item[\"query\"])))\n",
    "\n"
   ]
  },
  {
   "cell_type": "code",
   "execution_count": 3,
   "metadata": {},
   "outputs": [
    {
     "data": {
      "text/plain": [
       "[521, 724, 736, 750, 751, 758, 762, 771, 774, 776, 777, 778]"
      ]
     },
     "execution_count": 3,
     "metadata": {},
     "output_type": "execute_result"
    }
   ],
   "source": [
    "# 3705\n",
    "\n",
    "# [3675, 3674, 3671, 3665, 3662, 3662, 3640, 3638, 3636, 3632, 3616, 3604]\n",
    "\n",
    "\n",
    "sorted(lens1, reverse=False)[:12]\n"
   ]
  },
  {
   "cell_type": "markdown",
   "metadata": {},
   "source": [
    "修改较长的句子\n",
    "\n",
    "显卡 24GB\n",
    "\n",
    "7B模型，长度控制在3600以下 \n"
   ]
  },
  {
   "cell_type": "code",
   "execution_count": 8,
   "metadata": {},
   "outputs": [
    {
     "data": {
      "text/plain": [
       "[248]"
      ]
     },
     "execution_count": 8,
     "metadata": {},
     "output_type": "execute_result"
    }
   ],
   "source": [
    "del_ids = []\n",
    "for i, item in enumerate(lens1):\n",
    "    if item == 521:\n",
    "        del_ids.append(i)\n",
    "\n",
    "del_ids\n"
   ]
  },
  {
   "cell_type": "code",
   "execution_count": 6,
   "metadata": {},
   "outputs": [
    {
     "data": {
      "text/plain": [
       "'According to the CLAIM and the PRIOR KNOWLEDGE, please classify the CLAIM as TRUE or FALSE. If the content described by the CLAIM is correct, then classify it as TRUE; if the content described by the CLAIM is incorrect, then classify it as FALSE.\\n\\nCLAIM:\\nPublication date: 2020-11-06\\nContent: Former scientific advisor to Pfizer Michael Yeadon claims that the pandemic is fundamentally over in the U.K., and, we now know loads of people had prior immunity to COVID-19\\n\\nPRIOR KNOWLEDGE:\\nInformation 1:\\nPublication date: 2020-11-28\\nTitle: Science Feedback: Ex Pfizer Vice President, Michael Yeadon, made ...\\nContent:\\n\"After drugmaker Pfizer’s former Vice President Michael Yeadon claimed that “the pandemic is fundamentally over in the UK,” health #fact_checker Health Feedback termed his assertions “#false”. KD #Covid_19 https://t.co/2YCTx30Hpq— PIDA STS 2020 (@PidaSts) November 27, 2020 ... \\u2066@fordnation\\u2069 Dr. Michael Yeadon, VP, Chief Scientist of Pfizer (ret) “no need for vaccine..do not vaccinate people who aren’t at risk from a disease. don’t vaccinate millions of healthy people with a vaccine that hasn’t been extensively tested”.WTF? https://t.co/WqtwhKfs4g— Rob Burke (@RobBurk86526466) November 27, 2020\\nPingback: Dr M Yeadon: ‘Your government is lying to you in a way that could lead to your death.’ #Covid-19 disinformation (LifeSiteNews) | weehingthong · Was the Chinese Emperor Guangwu talking about the Resurrection of Jesus Christ? Chilean-American blogger, Gonzalo Lira: Arrested in Kharkiv, Ukraine for spreading Russian propaganda and calling for attacks on Ukraine · ‘Risk of royal wrath keeps coup plot in check’, especially among the Ten · Debunked: Michael Pollan\\'s claims about McDonald\\'s french fries\\nSadly, @Unlocked_UK_ interview with @MichaelYeadon3 on the government\\'s mismanagement of the pandemic has been removed from YouTube They cite \"COVID-19 medical misinformation policy\" PLS SHARE! #YeadonUnlocked For now, it is still available on Facebookhttps://t.co/GvkTy2TuW2 pic.twitter.com/iJSa7aovcg— Martin Daubney (@MartinDaubney) November 20, 2020 ... \"After drugmaker Pfizer’s former Vice President Michael Yeadon claimed that “the pandemic is fundamentally over in the UK,” health #fact_checker Health Feedback termed his assertions “#false”. KD #Covid_19 https://t.co/2YCTx30Hpq— PIDA STS 2020 (@PidaSts) November 27, 2020\\nInformation 2:\\nPublication date: None\\nTitle: PolitiFact | Former Pfizer employee wrong that coronavirus pandemic ...\\nContent:\\nHealth Feedback, \"A rise in the number of COVID-19 cases and deaths starting in September 2020 contradicts the claim by Michael Yeadon that \\'the pandemic is fundamentally over in the U.K.,\\'\" Nov. 10, 2020 · TalkRADIO on YouTube, \"‘It’s a massive claim; I think the pandemic is fundamentally over,\\'\" Oct. 16, 2020 · Lockdown Skeptics, \"What SAGE Has Got Wrong,\" Oct. 16, 2020 · Lead Stories, \"Fact Check: Former Pfizer Scientist NOT Correct Saying \\'Second Wave\\' Based on False-Positive COVID Tests, \\'Pandemic is Over,\\'\" Oct.\\nThe U.K. and other countries remain a long way from achieving herd immunity without a vaccine, experts said. It’s wrong to say there’s “no need for vaccines.” ... As Pfizer landed approval to begin distributing its COVID-19 vaccine in the United Kingdom, a former company employee’s wrong claims downplaying the pandemic recirculated online. The social media posts rely on statements made by Michael Yeadon, who argued in an Oct. 16 blog post that the coronavirus pandemic is \"effectively over\" in the U.K., and that \"there is absolutely no need for vaccines to extinguish the pandemic.\"\\nBBC, \"Covid-19: Pfizer/BioNTech vaccine judged safe for use in UK from next week,\" Dec. 2, 2020 · Shane Crotty on Twitter, Nov. 27, 2020 · Health Feedback, \"A rise in the number of COVID-19 cases and deaths starting in September 2020 contradicts the claim by Michael Yeadon that \\'the pandemic is fundamentally over in the U.K.,\\'\" Nov.\\nAs Pfizer landed approval to begin distributing its COVID-19 vaccine in the United Kingdom, a former company employee’s wrong claims downplaying the pandemic recirculated online. The social media posts rely on statements made by Michael Yeadon, who argued in an Oct. 16 blog post that the coronavirus pandemic is \"effectively over\" in the U.K., and that \"there is absolutely no need for vaccines to extinguish the pandemic.\" The posts suggest that Yeadon’s connection to Pfizer makes his views on the pandemic and vaccines credible.\\nInformation 3:\\nPublication date: 2024-01-02\\nTitle: Michael Yeadon - Wikipedia\\nContent:\\nMichael Yeadon is a British anti-vaccine activist and retired pharmacologist who attracted media attention in 2020 and 2021 for making false or unfounded claims about the COVID-19 pandemic and the safety of COVID-19 vaccines.\\nPfizer closed its Kent research facility in 2011. Yeadon, who had not worked with vaccines, then left Pfizer and with three colleagues founded the biotechnology company Ziarco, for which he served as CEO and which was sold to Novartis for $325 million in 2017. Yeadon falsely claimed in an October 2020 blog post that the COVID-19 pandemic in the United Kingdom was \"effectively over\".\\nThe Times has described him as \"a hero of Covid conspiracy theorists\" and \"a key figure in the antivax movement\". Until 2011, he served as the chief scientist and vice-president of the allergy and respiratory research division of the drug company Pfizer, and is the co-founder and former CEO of the biotechnology company Ziarco. Yeadon received his PhD under Ian Kitchen at the University of Surrey in Guildford, UK. His thesis was on the respiratory system of rats. Yeadon worked with Salvador Moncada at the Wellcome Research Laboratories, focusing on airway hyper-responsiveness and the effects of pollutants such as Ozone and Nitrogen oxide, as well as working on drug discovery of 5-LO and COX.\\nHe has contributed funding to Liberty Places, a group promising to build a community on the African archipelago of Zanzibar for Europeans to escape COVID-19 lockdowns and vaccine mandates. Interviewed on Bannon\\'s War Room podcast, Yeadon indicated he would also be providing support for “U.S. politicians and influencers\". Yeadon, Michael; Diamant, Zuzana (2000). New and exploratory therapeutic agents for asthma. New York: Marcel Dekker. ISBN  ... ^ In a November 2020 interview with talk show host Julia Hartley-Brewer, Yeadon falsely stated that the pandemic was \"fundamentally over in the UK\".\\nInformation 4:\\nPublication date: 2020-11-10\\nTitle: A rise in the number of COVID-19 cases and deaths starting in ...\\nContent:\\nFULL CLAIM: “When you\\'ve got a very low prevalence of the disease, as we had in July and August, and then you\\'re going to see far more false positives”; “the pandemic is fundamentally over in the U.K.”; “These are deaths with [COVID-19], not of [COVID-19]. So you can be in hospital, for a whole variety of other reasons, you could have heart disease, you could have cancer, if you test positive for [COVID-19], you still end up on these statistics, don\\'t you?”; “We now know that loads of people had prior immunity [...] I believe we are now firmly at community immunity.”; “Viruses don’t do waves.”; “Immunity to viruses is mostly conferred by what\\'s called T memory cells. Antibodies are probably not very important.” · This video by talkRADIO, a national talk radio station in the U.K., was uploaded to YouTube on 5 November 2020 and went viral on Facebook, receiving more than 93,000 views. The video features a conversation between talk show host Julia Hartley-Brewer and former Pfizer scientif\\nThe video features a conversation between talk show host Julia Hartley-Brewer and former Pfizer scientific advisor Michael Yeadon and contains several inaccurate claims about the COVID-19 pandemic that were previously debunked by Health Feedback and other fact-checkers, as explained below. Hartley-Brewer: “When you’ve got a very low prevalence of the disease, as we had in July and August, and then you’re going to see far more false positives, because even with a very low rate, say 0.8 of them are false positives […] if you’ve got a much lower prevalence of the disease then you’re going to have – 90 percent of them are going to be false.”\\n“the pandemic is fundamentally over in the U.K.”; “We now know that loads of people had prior immunity [...] I believe we are now firmly at community immunity.”; “Viruses don’t do waves.” ... SOURCE: Julia Hartley-Brewer, Michael Yeadon, talkRADIO, 5 Nov. 2020  ... Inaccurate: Between September and early November 2020, there was a spike in the number of daily new confirmed COVID-19 cases, hospitalizations, and deaths in the U.K, and this trend will likely persist for some time. The claim that “the pandemic is fundamentally over in the U.K.” is false.\\nYeadon: “I am saying the pandemic is fundamentally over in the U.K.” · The suggestion that COVID-19 PCR testing produces false positives as a result of “cross-reacting” and detecting common cold coronaviruses is unsupported. As this previous Health Feedback review explained, the PCR test for COVID-19 is highly specific for SARS-CoV-2 and does not detect coronaviruses that cause the common cold. Yeadon’s claim that the pandemic is “over in the U.K.” is contradicted by data from both the U.K. government and Our World in Data showing that there is a spike in the number of daily new confirmed COVID-19 cases in the U.K., going from below 5,000 in September to about 25,000 in November (Figure 2).\\nInformation 5:\\nPublication date: 2021-03-18\\nTitle: SPECIAL REPORT The ex-Pfizer scientist who became an anti-vax hero ...\\nContent:\\nIn January, a survey by the Kaiser Family Foundation (KFF), a non-profit organization, found that 13% of unvaccinated people in the United States had heard that \"COVID-19 vaccines have been shown to cause infertility.\" What gave the debunked claim credibility was that one of the petition\\'s co-authors, Michael Yeadon, wasn\\'t just any scientist. The 60-year-old is a former vice president of Pfizer, where he spent 16 years as an allergy and respiratory researcher. He later co-founded a biotech firm that the Swiss drugmaker Novartis purchased for at least $325 million. In recent months, Yeadon (pronounced Yee-don) has emerged as an unlikely hero of the so-called anti-vaxxers, whose adherents question the safety of many vaccines, including for the coronavirus.\\nSince then, the disease has killed about another 80,000 people in the UK. Yeadon isn\\'t the only respected scientist to have challenged the scientific consensus on COVID-19 and expressed controversial views. Michael Levitt, a winner of the Nobel Prize for chemistry, told the Stanford Daily last summer that he expected the pandemic would end in the United States in 2020 and kill no more than 175,000 Americans – a third of the current total – and \"when we come to look back, we\\'re going to say that wasn\\'t such a terrible disease.\"\\nThe visage and views of Yeadon, widely identified as an \"Ex-VP of Pfizer,\" can be seen on social media in languages including German, Portuguese, Danish and Czech. A Facebook post carries a video from November in which Yeadon claimed that the pandemic \"fundamentally… is over.\" The post has been viewed more than a million times. In October, Yeadon wrote a column for the United Kingdom\\'s Daily Mail newspaper that also appeared on MailOnline, one of the world\\'s most-visited news websites. It declared that deaths caused by COVID-19, which then totaled about 45,000 in Britain, will soon \"fizzle out\" and Britons \"should immediately be allowed to resume normal life.\"\\nKennedy Jr., scion of the American political dynasty, who recently was banned on Instagram because of his COVID-19 vaccine posts. Syndicated writer and vaccine skeptic Michelle Malkin reported Yeadon\\'s concern about fertility in a column last month under the headline, \"Pregnant Women: Beware of COVID Shots.\" And a blog with an alarmist headline – \"Head of Pfizer Research: Covid vaccine is female sterilization\" – was shared thousands of times on Facebook.\\n\\nThe CLAIM, published on 2020-11-06, attributes former Pfizer scientific advisor Michael Yeadon\\'s statement that the pandemic is fundamentally over in the U.K. and that many people had prior immunity to COVID-19.\\n\\nIn Information 1, Health Feedback, a fact-checking organization, debunked Yeadon\\'s assertion that the pandemic is over in the U.K., as it contradicts the rise in COVID-19 cases and deaths starting in September 2020. In Information 2, PolitiFact also addressed Yeadon\\'s claim, stating that experts said the U.K. was far from achieving herd immunity without a vaccine and that there was no need for vaccines to extinguish the pandemic.\\n\\nInformation 3 provides background on Michael Yeadon, describing him as a British anti-vaccine activist and retired pharmacologist who made false or unfounded claims about the COVID-19 pandemic and vaccine safety. Yeadon, who had not worked with vaccines, left Pfizer in 2011 and co-founded the biotechnology company Ziarco.\\n\\nInformation 4, published on 2020-11-10, addresses a conversation between Yeadon and talk show host Julia Hartley-Brewer. Health Feedback debunked several inaccurate claims made by Yeadon during this conversation, including the idea that the pandemic is over in the U.K., the prevalence of false positives in COVID-19 tests, and the concept that viruses don\\'t create waves.\\n\\nInformation 5, published in 2021, highlights how Yeadon has become an anti-vaccine hero despite his background at Pfizer. His claims, such as the pandemic being over in the U.K. and concerns about COVID-19 vaccines causing infertility, have been widely shared on social media and news websites.\\n\\nIn conclusion, while Michael Yeadon, a former Pfizer scientific advisor, claimed that the pandemic is fundamentally over in the U.K., this statement is contradicted by the available data on the rise in COVID-19 cases and deaths in the country. Additionally, Health Feedback and other fact-checkers have debunked several inaccurate claims made by Yeadon regarding the pandemic and vaccines. Therefore, the CLAIM can be classified as FALSE.'"
      ]
     },
     "execution_count": 6,
     "metadata": {},
     "output_type": "execute_result"
    }
   ],
   "source": [
    "# print(len(tokenizer(dict_list[4157][\"query\"])[\"input_ids\"]))\n",
    "dict_list[614][\"query\"]\n"
   ]
  },
  {
   "cell_type": "code",
   "execution_count": 9,
   "metadata": {},
   "outputs": [
    {
     "name": "stdout",
     "output_type": "stream",
     "text": [
      "According to the CLAIM and the PRIOR KNOWLEDGE, please classify the CLAIM as TRUE or FALSE. If the content described by the CLAIM is correct, then classify it as TRUE; if the content described by the CLAIM is incorrect, then classify it as FALSE.\n",
      "\n",
      "CLAIM:\n",
      "Publication date: 2020-04-13\n",
      "Content: Claim that the coronavirus brought something strange in the skies of town of Tetovo, North Macedonia, meaning a strange looking cloud. There is also a claim that the appearance of this cloud caused by the air, being much cleaner since lot of factories are shut down.\n",
      "\n",
      "PRIOR KNOWLEDGE:\n",
      "Information 1:\n",
      "Publication date: 2020-04-13\n",
      "Title: FALSE: Claim that the coronavirus brought something strange in ...\n",
      "Content:\n",
      "Explanation: There is nothing strange about this cloud. It is a lenticular cloud, and they existed before the COVID-19 pandemic. The experts say that while it is a rare appearance it has nothing to do with the coronavirus or with the cleaner air, but with the air movements happening in the troposphere.\n",
      "\n",
      "To classify the CLAIM accurately, it is essential to analyze the provided information and reason based on our knowledge. The CLAIM suggests that a strange-looking cloud appeared in the skies of Tetovo, North Macedonia, due to the coronavirus pandemic and the subsequent cleaner air caused by shutdowns of factories.\n",
      "\n",
      "However, Information 1, published on the same date as the CLAIM, debunks this claim. It explains that the cloud is not strange at all but is, in fact, a lenticular cloud, which existed before the pandemic. Experts have stated that while it is a rare occurrence, it is not related to the coronavirus or the cleaner air resulting from factory shutdowns. Instead, the formation of this cloud is attributed to air movements in the troposphere.\n",
      "\n",
      "Based on this information, the content described by the CLAIM appears to be incorrect. Therefore, the CLAIM should be classified as FALSE. Prior knowledge about meteorological phenomena, such as lenticular clouds, and understanding that they are not directly influenced by the coronavirus or air quality changes, further supports this classification.\n"
     ]
    }
   ],
   "source": [
    "print(dict_list[248][\"query\"])\n"
   ]
  }
 ],
 "metadata": {
  "kernelspec": {
   "display_name": "torch",
   "language": "python",
   "name": "python3"
  },
  "language_info": {
   "codemirror_mode": {
    "name": "ipython",
    "version": 3
   },
   "file_extension": ".py",
   "mimetype": "text/x-python",
   "name": "python",
   "nbconvert_exporter": "python",
   "pygments_lexer": "ipython3",
   "version": "3.10.13"
  }
 },
 "nbformat": 4,
 "nbformat_minor": 2
}
