{
 "cells": [
  {
   "cell_type": "code",
   "execution_count": 1,
   "metadata": {},
   "outputs": [
    {
     "name": "stderr",
     "output_type": "stream",
     "text": [
      "2024-01-14 15:36:16,653 - modelscope - INFO - PyTorch version 2.1.2 Found.\n",
      "2024-01-14 15:36:16,656 - modelscope - INFO - Loading ast index from /home/hanlv/.cache/modelscope/ast_indexer\n",
      "2024-01-14 15:36:16,683 - modelscope - INFO - Loading done! Current index file version is 1.11.0, with md5 dc3cda2b56a86b0242cd145399a14071 and a total number of 953 components indexed\n"
     ]
    }
   ],
   "source": [
    "from typing import Any, Dict, Optional, Tuple\n",
    "import torch\n",
    "from datasets import Dataset as HfDataset\n",
    "from modelscope import (AutoConfig, AutoModelForCausalLM, AutoTokenizer,\n",
    "                        MsDataset)\n",
    "from torch import dtype as Dtype\n",
    "from transformers.utils.versions import require_version\n",
    "\n",
    "from swift.llm import (LoRATM, Template, TemplateType, dataset_map,\n",
    "                       get_dataset, get_model_tokenizer, get_template,\n",
    "                       print_example, register_dataset, register_model,\n",
    "                       register_template)\n",
    "from swift.utils import get_logger\n",
    "logger = get_logger()\n"
   ]
  },
  {
   "cell_type": "code",
   "execution_count": 2,
   "metadata": {},
   "outputs": [],
   "source": [
    "def get_dpopenHermes_model_tokenizer(model_dir: str,\n",
    "                                 torch_dtype: Dtype,\n",
    "                                 model_kwargs: Dict[str, Any],\n",
    "                                 load_model: bool = True,\n",
    "                                 **kwargs):\n",
    "    model_config = AutoConfig.from_pretrained(model_dir)\n",
    "    model_config.torch_dtype = torch_dtype\n",
    "    logger.info(f'model_config: {model_config}')\n",
    "    tokenizer = AutoTokenizer.from_pretrained(model_dir)\n",
    "    model = None\n",
    "    if load_model:\n",
    "        model = AutoModelForCausalLM.from_pretrained(\n",
    "            model_dir,\n",
    "            config=model_config,\n",
    "            torch_dtype=torch_dtype,\n",
    "            **model_kwargs)\n",
    "    return model, tokenizer"
   ]
  },
  {
   "cell_type": "code",
   "execution_count": 3,
   "metadata": {},
   "outputs": [
    {
     "name": "stderr",
     "output_type": "stream",
     "text": [
      "[INFO:swift] model_config: MistralConfig {\n",
      "  \"_name_or_path\": \"/home/css/models/DPOpenHermes-7B-v2\",\n",
      "  \"architectures\": [\n",
      "    \"MistralForCausalLM\"\n",
      "  ],\n",
      "  \"attention_dropout\": 0.0,\n",
      "  \"bos_token_id\": 1,\n",
      "  \"eos_token_id\": 32000,\n",
      "  \"hidden_act\": \"silu\",\n",
      "  \"hidden_size\": 4096,\n",
      "  \"initializer_range\": 0.02,\n",
      "  \"intermediate_size\": 14336,\n",
      "  \"max_position_embeddings\": 32768,\n",
      "  \"model_type\": \"mistral\",\n",
      "  \"num_attention_heads\": 32,\n",
      "  \"num_hidden_layers\": 32,\n",
      "  \"num_key_value_heads\": 8,\n",
      "  \"rms_norm_eps\": 1e-05,\n",
      "  \"rope_theta\": 10000.0,\n",
      "  \"sliding_window\": 4096,\n",
      "  \"tie_word_embeddings\": false,\n",
      "  \"torch_dtype\": \"bfloat16\",\n",
      "  \"transformers_version\": \"4.36.2\",\n",
      "  \"use_cache\": false,\n",
      "  \"vocab_size\": 32002\n",
      "}\n",
      "\n",
      "Special tokens have been added in the vocabulary, make sure the associated word embeddings are fine-tuned or trained.\n",
      "Special tokens have been added in the vocabulary, make sure the associated word embeddings are fine-tuned or trained.\n"
     ]
    }
   ],
   "source": [
    "model, tokenizer = get_dpopenHermes_model_tokenizer(\n",
    "    '/home/css/models/DPOpenHermes-7B-v2', \n",
    "    torch.bfloat16,\n",
    "    {},\n",
    "    load_model=False\n",
    ")\n",
    "\n"
   ]
  },
  {
   "cell_type": "code",
   "execution_count": 4,
   "metadata": {},
   "outputs": [
    {
     "data": {
      "application/vnd.jupyter.widget-view+json": {
       "model_id": "80ff0421dcfa4cb1973339a07d1473a2",
       "version_major": 2,
       "version_minor": 0
      },
      "text/plain": [
       "  0%|          | 0/12192 [00:00<?, ?it/s]"
      ]
     },
     "metadata": {},
     "output_type": "display_data"
    }
   ],
   "source": [
    "import jsonlines\n",
    "from tqdm.notebook import tqdm\n",
    "\n",
    "dict_list = []\n",
    "version = \"1\"\n",
    "with jsonlines.open(f\"data{version}.jsonl\", mode=\"r\") as file_jsonl:\n",
    "    for item in file_jsonl.iter():\n",
    "        dict_list.append(item)\n",
    "\n",
    "lens1 = []\n",
    "lens2 = []\n",
    "\n",
    "for item in tqdm(dict_list):\n",
    "    lens1.append(len(tokenizer(item[\"query\"])[\"input_ids\"]))\n",
    "    # lens2.append(len(tokenizer.tokenize(item[\"query\"])))\n",
    "\n"
   ]
  },
  {
   "cell_type": "code",
   "execution_count": 5,
   "metadata": {},
   "outputs": [
    {
     "data": {
      "text/plain": [
       "[3593, 3568, 3561, 3555, 3554, 3540, 3536, 3536, 3535, 3530]"
      ]
     },
     "execution_count": 5,
     "metadata": {},
     "output_type": "execute_result"
    }
   ],
   "source": [
    "# 3705\n",
    "\n",
    "sorted(lens1, reverse=True)[:10]\n"
   ]
  },
  {
   "cell_type": "markdown",
   "metadata": {},
   "source": [
    "修改较长的句子\n",
    "\n",
    "显卡 24GB\n",
    "\n",
    "7B模型，长度控制在3600以下 \n"
   ]
  },
  {
   "cell_type": "code",
   "execution_count": 23,
   "metadata": {},
   "outputs": [
    {
     "data": {
      "text/plain": [
       "[783, 9321]"
      ]
     },
     "execution_count": 23,
     "metadata": {},
     "output_type": "execute_result"
    }
   ],
   "source": [
    "del_ids = []\n",
    "for i, item in enumerate(lens1):\n",
    "    if item == 3604:\n",
    "        del_ids.append(i)\n",
    "\n",
    "del_ids\n"
   ]
  },
  {
   "cell_type": "code",
   "execution_count": 26,
   "metadata": {},
   "outputs": [
    {
     "data": {
      "text/plain": [
       "'According to the CLAIM and the PRIOR KNOWLEDGE, please classify the CLAIM as TRUE or FALSE. If the content described by the CLAIM is correct, then classify it as TRUE; if the content described by the CLAIM is incorrect, then classify it as FALSE.\\n\\nCLAIM:\\nPublication date: 2020-03-28\\nContent: French State approved a medical protocol with Plaquenil, lopinavir/ritonavir to cure COVID-19, which is more expensive than Pr. Raoult’s protocol with chloroquine.\\n\\nPRIOR KNOWLEDGE:\\nInformation 1:\\nPublication date: 2020-05-22\\nTitle: He Was a Science Star. Then He Promoted a Questionable Cure for ...\\nContent:\\nRaoult reviewed that evidence in a 2007 paper, concluding that chloroquine and hydroxychloroquine might be “an interesting weapon to face present and future infectious diseases worldwide.” This winter, as the spread of SARS-CoV-2 began to take on the contours of a pandemic, he surveyed the data that had begun coming out of China. An early report on chloroquine showed good results in vitro. In mid-February, another Chinese team reported that, in more than 100 patients, it had been found to have “potent activity against Covid-19.” Raoult was elated.\\nIt’s called chloroquine.” Rigano, who at the time was falsely presenting himself as an adviser to Stanford Medical School, had recently self-published an acclamatory report on the potential of chloroquine, “An Effective Treatment for Coronavirus (Covid-19),” as a Google Doc formatted to resemble a scientific publication. It had begun to circulate in right-wing media and also in Silicon Valley; Elon Musk tweeted a link to it. Raoult saw it and noticed the attention it was receiving online.\\nIn mid-February, another Chinese team reported that, in more than 100 patients, it had been found to have “potent activity against Covid-19.” Raoult was elated. At the time, health authorities around the world were warning that a viable treatment could be months away. The Chinese reports, however, appeared to confirm Raoult’s longstanding hopes for chloroquine. A deadly virus for which no treatment existed could evidently be stopped by an inexpensive, widely studied, pre-existing molecule, and one that Raoult knew well.\\nWhen diagnosing the ills afflicting modern science, an entertainment that, along with the disparagement of his critics and fellow researchers, he counts among his great delights, the eminent French microbiologist Didier Raoult will lightly stroke his beard, lean back in his seat and, with a thin but unmistakable smile, declare the poor patient to be stricken with pride. Raoult, who has achieved international fame since his proposed treatment for Covid-19 was touted as a miracle cure by President Trump, believes that his colleagues fail to see that their ideas are the products of mere intellectual fashions — that they are hypnotized by methodology into believing that they understand what they do not and that they lack the discipline of mind that would permit them to comprehend their error.\\nInformation 2:\\nPublication date: 2020-07-04\\nTitle: WHO discontinues hydroxychloroquine and lopinavir/ritonavir treatment ...\\nContent:\\nThe Solidarity Trial was established by WHO to find an effective COVID-19 treatment for hospitalized patients. The International Steering Committee formulated the recommendation in light of the evidence for hydroxychloroquine vs standard-of-care and for lopinavir/ritonavir vs standard-of-care from the Solidarity trial interim results, and from a review of the evidence from all trials presented at the 1-2 July WHO Summit on COVID-19 research and innovation.\\nThese interim trial results show that hydroxychloroquine and lopinavir/ritonavir produce little or no reduction in the mortality of hospitalized COVID-19 patients when compared to standard of care. Solidarity trial investigators will interrupt the trials with immediate effect.\\nThis decision applies only to the conduct of the Solidarity trial in hospitalized patients and does not affect the possible evaluation in other studies of hydroxychloroquine or lopinavir/ritonavir in non-hospitalized patients or as pre- or post-exposure prophylaxis for COVID-19. The interim Solidarity results are now being readied for peer-reviewed publication.\\nThe International Steering Committee formulated the recommendation in light of the evidence for hydroxychloroquine vs standard-of-care and for lopinavir/ritonavir vs standard-of-care from the Solidarity trial interim results, and from a review of the evidence from all trials presented at the 1-2 July WHO Summit on COVID-19 research and innovation.  · These interim trial results show that hydroxychloroquine and lopinavir/ritonavir produce little or no reduction in the mortality of hospitalized COVID-19 patients when compared to standard of care.\\nInformation 3:\\nPublication date: 2020-03-26\\nTitle: Chloroquine genius Didier Raoult to save the world from COVID-19 ...\\nContent:\\nPresident Trump is convinced, but is Raoult\\'s research reliable, here and in general? ... Coronavirus COVID-19 pandemic is about to be stopped by a stroke of a French “genius” with a history of publishing manipulated data. The charismatic Didier Raoult, director of the Research Unit in Infectious and Tropical Emergent Diseases (URMITE) in Marseille has found a cure: the humble chloroquine, cheap unpatented substance used to treat malaria and autoimmune diseases lupus and rheumatism.\\nPeople worldwide stormed pharmacies and pet shops for chloroquine, some killed themselves with aquarium cleaner, India banned chloroquine export, while national authorities including French government decided to deploy chloroquine as the medicine to treat COVID19. All based on Trump’s tweets which in turn was based on Fox News promotion of this study by Raoult:\\nAs COVID19 pandemic rages on, French microbiologist Didier Raoult offers a cure. President Trump is convinced, but is Raoult\\'s research reliable, here and in general? ... Coronavirus COVID-19 pandemic is about to be stopped by a stroke of a French “genius” with a history of publishing manipulated data.\\nAs COVID19 pandemic rages on, French microbiologist Didier Raoult offers a cure. President Trump is convinced, but is Raoult’s research reliable, here and in general?\\nInformation 4:\\nPublication date: 2020-04-07\\nTitle: Covid 19: Can hydroxychloroquine be legally prescribed in France?\\nContent:\\nThe Council of State considered, on the one hand, that the stocks were sufficient for their use in the extremely limited framework provided for by the decree of March 26, 2020, on the other hand, that the CHU cannot be blamed and at the ARS of Guadeloupe not to anticipate the expected results of clinical trials \" shortly », Including the one started on April 1 by the University Hospital of Angers. For its part, the ANSM today calls on health professionals to be extremely careful, recalling in its communication of March 30, 2020, than : the use of PLAQUENIL (hydroxychloroquine) or KALETRA and its generic (lopinavir / ritonavir) for the management of patients with COVID-19 must be carried out as a priority in the context of ongoing clinical trials.\\nIn continuation of this notice, two decrees were successively published by the Ministry of Solidarity and Health, regulating the prescription, dispensing and administration of hydroxychloroquine for patients with COVID-19: By way of derogation from the provisions of the public health code relating to marketing authorizations, a Decree n ° 2020-314 of March 25, 2020 authorizes the prescription, dispensing and administration of hydroxychloroquine and the lopinavir / ritonavir combination \" under the responsibility of a doctor to patients affected by covid-19, in the health establishments that take care of them, as well as, for further processing if their condition allows it and with the authorization of the initial prescriber, home \".\\nBy way of derogation from the provisions of the public health code relating to marketing authorizations, a Decree n ° 2020-314 of March 25, 2020 authorizes the prescription, dispensing and administration of hydroxychloroquine and the lopinavir / ritonavir combination \" under the responsibility of a doctor to patients affected by covid-19, in the health establishments that take care of them, as well as, for further processing if their condition allows it and with the authorization of the initial prescriber, home \".  · In this case, these drugs are supplied, purchased, used and paid for by health facilities. This same decree specifies that the pharmaceutical specialty PLAQUENIL © and preparations based on hydroxychloroquine can only be dispensed by dispensing pharmacies within the framework of an initial prescription issued exclusively by specialists in rheumatology, internal medicine, dermatology and nephrology.\\nthe use of PLAQUENIL (hydroxychloroquine) or KALETRA and its generic (lopinavir / ritonavir) for the management of patients with COVID-19 must be carried out as a priority in the context of ongoing clinical trials. the use of these drugs can be considered on an exceptional basis and only within the framework of a prescription and dispensation to hospitalized patients. under no circumstances should these drugs be used for self-medication, or on prescription from a city doctor, or self-prescription by a doctor for himself, for the treatment of COVID-19.\\nInformation 5:\\nPublication date: None\\nTitle: A Trial of Lopinavir–Ritonavir in Adults Hospitalized with Severe ...\\nContent:\\nWe conducted a randomized, controlled, open-label trial involving hospitalized adult patients with confirmed SARS-CoV-2 infection, which causes the respiratory illness Covid-19, and an oxygen saturation (Sao2) of 94% or less while they were breathing ambient air or a ratio of the partial pressure of oxygen (Pao2) to the fraction of inspired oxygen (Fio2) of less than 300 mm Hg. Patients were randomly assigned in a 1:1 ratio to receive either lopinavir–ritonavir (400 mg and 100 mg, respectively) twice a day for 14 days, in addition to standard care, or standard care alone.\\nIn hospitalized adult patients with severe Covid-19, no benefit was observed with lopinavir–ritonavir treatment beyond standard care. Future trials in patients with severe illness may help to confirm or exclude the possibility of a treatment benefit. (Funded by Major Projects of National Science and Technology on New Drug Creation and Development and others; Chinese Clinical Trial Register number, ChiCTR2000029308.) QUICK TAKE Efficacy of a Potential Therapy for Covid-19 01:42\\nThe question of whether earlier lopinavir–ritonavir treatment in Covid-19 could have clinical benefit is an important one that requires further study. The finding is consistent with studies showing that patients with SARS-CoV-2 viral pneumonia have progression in the second week of illness1 and with the time-to-treatment effects observed in previous antiviral studies in SARS20 and severe influenza.21-23 In addition, we found that the numbers of lopinavir–ritonavir recipients who had serious complications (acute kidney injury and secondary infections) or requiring noninvasive or invasive mechanical ventilation for respiratory failure were fewer than in those not receiving treatment.\\nIn conclusion, we found that lopinavir–ritonavir treatment did not significantly accelerate clinical improvement, reduce mortality, or diminish throat viral RNA detectability in patients with serious Covid-19. These early data should inform future studies to assess this and other medication in the treatment of infection with SARS-CoV-2. Whether combining lopinavir–ritonavir with other antiviral agents, as has been done in SARS5,20 and is being studied in MERS-CoV,15 might enhance antiviral effects and improve clinical outcomes remains to be determined. Supported by grants from Major Projects of National Science and Technology on New Drug Creation and Development (2020ZX09201001) and (2020ZX09201012); the Chinese Academy of Medical Sciences (CAMS) Emergency Project of Covid-19 (2020HY320001); and a National Science Grant for Distinguished Young Scholars (81425001/H0104).\\n\\nThe CLAIM states that the French State approved a medical protocol with Plaquenil (hydroxychloroquine) and lopinavir/ritonavir to cure COVID-19, which is more expensive than Pr. Raoult\\'s protocol with chloroquine.\\n\\nTo analyze this claim, we need to gather relevant information and compare the costs of the mentioned treatments.\\n\\nInformation 1 provides context about Didier Raoult, a French microbiologist, who has been advocating for chloroquine and hydroxychloroquine as potential treatments for COVID-19. This information does not directly address the cost comparison between the French State\\'s protocol and Raoult\\'s protocol.\\n\\nInformation 2 reports that the World Health Organization (WHO) discontinued hydroxychloroquine and lopinavir/ritonavir treatment trials for hospitalized COVID-19 patients, as they showed little to no reduction in mortality compared to standard care. This information does not provide any cost comparison.\\n\\nInformation 3 highlights the attention given to Didier Raoult\\'s research on chloroquine as a potential cure for COVID-19. This information does not provide any cost comparison either.\\n\\nInformation 4 discusses the legal prescription of hydroxychloroquine in France and mentions a decree allowing its use for COVID-19 patients in hospitals. This information provides context on the availability and use of hydroxychloroquine in France but does not address the cost comparison.\\n\\nInformation 5 presents the results of a randomized controlled trial that found no benefit in treating severe COVID-19 patients with lopinavir-ritonavir beyond standard care. This information does not provide any cost comparison.\\n\\nWhile the information provided gives us insight into the context and use of hydroxychloroquine and lopinavir/ritonavir in France, none of the sources directly compare the costs of the French State\\'s protocol with Pr. Raoult\\'s protocol using chloroquine. Therefore, we cannot accurately classify the claim as true or false based on the available information.'"
      ]
     },
     "execution_count": 26,
     "metadata": {},
     "output_type": "execute_result"
    }
   ],
   "source": [
    "dict_list[9321][\"query\"]"
   ]
  },
  {
   "cell_type": "code",
   "execution_count": 27,
   "metadata": {},
   "outputs": [
    {
     "name": "stdout",
     "output_type": "stream",
     "text": [
      "According to the CLAIM and the PRIOR KNOWLEDGE, please classify the CLAIM as TRUE or FALSE. If the content described by the CLAIM is correct, then classify it as TRUE; if the content described by the CLAIM is incorrect, then classify it as FALSE.\n",
      "\n",
      "CLAIM:\n",
      "Publication date: 2020-03-28\n",
      "Content: French State approved a medical protocol with Plaquenil, lopinavir/ritonavir to cure COVID-19, which is more expensive than Pr. Raoult’s protocol with chloroquine.\n",
      "\n",
      "PRIOR KNOWLEDGE:\n",
      "Information 1:\n",
      "Publication date: 2020-05-22\n",
      "Title: He Was a Science Star. Then He Promoted a Questionable Cure for ...\n",
      "Content:\n",
      "Raoult reviewed that evidence in a 2007 paper, concluding that chloroquine and hydroxychloroquine might be “an interesting weapon to face present and future infectious diseases worldwide.” This winter, as the spread of SARS-CoV-2 began to take on the contours of a pandemic, he surveyed the data that had begun coming out of China. An early report on chloroquine showed good results in vitro. In mid-February, another Chinese team reported that, in more than 100 patients, it had been found to have “potent activity against Covid-19.” Raoult was elated.\n",
      "It’s called chloroquine.” Rigano, who at the time was falsely presenting himself as an adviser to Stanford Medical School, had recently self-published an acclamatory report on the potential of chloroquine, “An Effective Treatment for Coronavirus (Covid-19),” as a Google Doc formatted to resemble a scientific publication. It had begun to circulate in right-wing media and also in Silicon Valley; Elon Musk tweeted a link to it. Raoult saw it and noticed the attention it was receiving online.\n",
      "In mid-February, another Chinese team reported that, in more than 100 patients, it had been found to have “potent activity against Covid-19.” Raoult was elated. At the time, health authorities around the world were warning that a viable treatment could be months away. The Chinese reports, however, appeared to confirm Raoult’s longstanding hopes for chloroquine. A deadly virus for which no treatment existed could evidently be stopped by an inexpensive, widely studied, pre-existing molecule, and one that Raoult knew well.\n",
      "When diagnosing the ills afflicting modern science, an entertainment that, along with the disparagement of his critics and fellow researchers, he counts among his great delights, the eminent French microbiologist Didier Raoult will lightly stroke his beard, lean back in his seat and, with a thin but unmistakable smile, declare the poor patient to be stricken with pride. Raoult, who has achieved international fame since his proposed treatment for Covid-19 was touted as a miracle cure by President Trump, believes that his colleagues fail to see that their ideas are the products of mere intellectual fashions — that they are hypnotized by methodology into believing that they understand what they do not and that they lack the discipline of mind that would permit them to comprehend their error.\n",
      "Information 2:\n",
      "Publication date: 2020-07-04\n",
      "Title: WHO discontinues hydroxychloroquine and lopinavir/ritonavir treatment ...\n",
      "Content:\n",
      "The Solidarity Trial was established by WHO to find an effective COVID-19 treatment for hospitalized patients. The International Steering Committee formulated the recommendation in light of the evidence for hydroxychloroquine vs standard-of-care and for lopinavir/ritonavir vs standard-of-care from the Solidarity trial interim results, and from a review of the evidence from all trials presented at the 1-2 July WHO Summit on COVID-19 research and innovation.\n",
      "These interim trial results show that hydroxychloroquine and lopinavir/ritonavir produce little or no reduction in the mortality of hospitalized COVID-19 patients when compared to standard of care. Solidarity trial investigators will interrupt the trials with immediate effect.\n",
      "This decision applies only to the conduct of the Solidarity trial in hospitalized patients and does not affect the possible evaluation in other studies of hydroxychloroquine or lopinavir/ritonavir in non-hospitalized patients or as pre- or post-exposure prophylaxis for COVID-19. The interim Solidarity results are now being readied for peer-reviewed publication.\n",
      "The International Steering Committee formulated the recommendation in light of the evidence for hydroxychloroquine vs standard-of-care and for lopinavir/ritonavir vs standard-of-care from the Solidarity trial interim results, and from a review of the evidence from all trials presented at the 1-2 July WHO Summit on COVID-19 research and innovation.  · These interim trial results show that hydroxychloroquine and lopinavir/ritonavir produce little or no reduction in the mortality of hospitalized COVID-19 patients when compared to standard of care.\n",
      "Information 3:\n",
      "Publication date: 2020-03-26\n",
      "Title: Chloroquine genius Didier Raoult to save the world from COVID-19 ...\n",
      "Content:\n",
      "President Trump is convinced, but is Raoult's research reliable, here and in general? ... Coronavirus COVID-19 pandemic is about to be stopped by a stroke of a French “genius” with a history of publishing manipulated data. The charismatic Didier Raoult, director of the Research Unit in Infectious and Tropical Emergent Diseases (URMITE) in Marseille has found a cure: the humble chloroquine, cheap unpatented substance used to treat malaria and autoimmune diseases lupus and rheumatism.\n",
      "People worldwide stormed pharmacies and pet shops for chloroquine, some killed themselves with aquarium cleaner, India banned chloroquine export, while national authorities including French government decided to deploy chloroquine as the medicine to treat COVID19. All based on Trump’s tweets which in turn was based on Fox News promotion of this study by Raoult:\n",
      "As COVID19 pandemic rages on, French microbiologist Didier Raoult offers a cure. President Trump is convinced, but is Raoult's research reliable, here and in general? ... Coronavirus COVID-19 pandemic is about to be stopped by a stroke of a French “genius” with a history of publishing manipulated data.\n",
      "As COVID19 pandemic rages on, French microbiologist Didier Raoult offers a cure. President Trump is convinced, but is Raoult’s research reliable, here and in general?\n",
      "Information 4:\n",
      "Publication date: 2020-04-07\n",
      "Title: Covid 19: Can hydroxychloroquine be legally prescribed in France?\n",
      "Content:\n",
      "The Council of State considered, on the one hand, that the stocks were sufficient for their use in the extremely limited framework provided for by the decree of March 26, 2020, on the other hand, that the CHU cannot be blamed and at the ARS of Guadeloupe not to anticipate the expected results of clinical trials \" shortly », Including the one started on April 1 by the University Hospital of Angers. For its part, the ANSM today calls on health professionals to be extremely careful, recalling in its communication of March 30, 2020, than : the use of PLAQUENIL (hydroxychloroquine) or KALETRA and its generic (lopinavir / ritonavir) for the management of patients with COVID-19 must be carried out as a priority in the context of ongoing clinical trials.\n",
      "In continuation of this notice, two decrees were successively published by the Ministry of Solidarity and Health, regulating the prescription, dispensing and administration of hydroxychloroquine for patients with COVID-19: By way of derogation from the provisions of the public health code relating to marketing authorizations, a Decree n ° 2020-314 of March 25, 2020 authorizes the prescription, dispensing and administration of hydroxychloroquine and the lopinavir / ritonavir combination \" under the responsibility of a doctor to patients affected by covid-19, in the health establishments that take care of them, as well as, for further processing if their condition allows it and with the authorization of the initial prescriber, home \".\n",
      "By way of derogation from the provisions of the public health code relating to marketing authorizations, a Decree n ° 2020-314 of March 25, 2020 authorizes the prescription, dispensing and administration of hydroxychloroquine and the lopinavir / ritonavir combination \" under the responsibility of a doctor to patients affected by covid-19, in the health establishments that take care of them, as well as, for further processing if their condition allows it and with the authorization of the initial prescriber, home \".  · In this case, these drugs are supplied, purchased, used and paid for by health facilities. This same decree specifies that the pharmaceutical specialty PLAQUENIL © and preparations based on hydroxychloroquine can only be dispensed by dispensing pharmacies within the framework of an initial prescription issued exclusively by specialists in rheumatology, internal medicine, dermatology and nephrology.\n",
      "the use of PLAQUENIL (hydroxychloroquine) or KALETRA and its generic (lopinavir / ritonavir) for the management of patients with COVID-19 must be carried out as a priority in the context of ongoing clinical trials. the use of these drugs can be considered on an exceptional basis and only within the framework of a prescription and dispensation to hospitalized patients. under no circumstances should these drugs be used for self-medication, or on prescription from a city doctor, or self-prescription by a doctor for himself, for the treatment of COVID-19.\n",
      "Information 5:\n",
      "Publication date: None\n",
      "Title: A Trial of Lopinavir–Ritonavir in Adults Hospitalized with Severe ...\n",
      "Content:\n",
      "We conducted a randomized, controlled, open-label trial involving hospitalized adult patients with confirmed SARS-CoV-2 infection, which causes the respiratory illness Covid-19, and an oxygen saturation (Sao2) of 94% or less while they were breathing ambient air or a ratio of the partial pressure of oxygen (Pao2) to the fraction of inspired oxygen (Fio2) of less than 300 mm Hg. Patients were randomly assigned in a 1:1 ratio to receive either lopinavir–ritonavir (400 mg and 100 mg, respectively) twice a day for 14 days, in addition to standard care, or standard care alone.\n",
      "In hospitalized adult patients with severe Covid-19, no benefit was observed with lopinavir–ritonavir treatment beyond standard care. Future trials in patients with severe illness may help to confirm or exclude the possibility of a treatment benefit. (Funded by Major Projects of National Science and Technology on New Drug Creation and Development and others; Chinese Clinical Trial Register number, ChiCTR2000029308.) QUICK TAKE Efficacy of a Potential Therapy for Covid-19 01:42\n",
      "The question of whether earlier lopinavir–ritonavir treatment in Covid-19 could have clinical benefit is an important one that requires further study. The finding is consistent with studies showing that patients with SARS-CoV-2 viral pneumonia have progression in the second week of illness1 and with the time-to-treatment effects observed in previous antiviral studies in SARS20 and severe influenza.21-23 In addition, we found that the numbers of lopinavir–ritonavir recipients who had serious complications (acute kidney injury and secondary infections) or requiring noninvasive or invasive mechanical ventilation for respiratory failure were fewer than in those not receiving treatment.\n",
      "In conclusion, we found that lopinavir–ritonavir treatment did not significantly accelerate clinical improvement, reduce mortality, or diminish throat viral RNA detectability in patients with serious Covid-19. These early data should inform future studies to assess this and other medication in the treatment of infection with SARS-CoV-2. Whether combining lopinavir–ritonavir with other antiviral agents, as has been done in SARS5,20 and is being studied in MERS-CoV,15 might enhance antiviral effects and improve clinical outcomes remains to be determined. Supported by grants from Major Projects of National Science and Technology on New Drug Creation and Development (2020ZX09201001) and (2020ZX09201012); the Chinese Academy of Medical Sciences (CAMS) Emergency Project of Covid-19 (2020HY320001); and a National Science Grant for Distinguished Young Scholars (81425001/H0104).\n",
      "\n",
      "The CLAIM states that the French State approved a medical protocol with Plaquenil (hydroxychloroquine) and lopinavir/ritonavir to cure COVID-19, which is more expensive than Pr. Raoult's protocol with chloroquine.\n",
      "\n",
      "To analyze this claim, we need to gather relevant information and compare the costs of the mentioned treatments.\n",
      "\n",
      "Information 1 provides context about Didier Raoult, a French microbiologist, who has been advocating for chloroquine and hydroxychloroquine as potential treatments for COVID-19. This information does not directly address the cost comparison between the French State's protocol and Raoult's protocol.\n",
      "\n",
      "Information 2 reports that the World Health Organization (WHO) discontinued hydroxychloroquine and lopinavir/ritonavir treatment trials for hospitalized COVID-19 patients, as they showed little to no reduction in mortality compared to standard care. This information does not provide any cost comparison.\n",
      "\n",
      "Information 3 highlights the attention given to Didier Raoult's research on chloroquine as a potential cure for COVID-19. This information does not provide any cost comparison either.\n",
      "\n",
      "Information 4 discusses the legal prescription of hydroxychloroquine in France and mentions a decree allowing its use for COVID-19 patients in hospitals. This information provides context on the availability and use of hydroxychloroquine in France but does not address the cost comparison.\n",
      "\n",
      "Information 5 presents the results of a randomized controlled trial that found no benefit in treating severe COVID-19 patients with lopinavir-ritonavir beyond standard care. This information does not provide any cost comparison.\n",
      "\n",
      "While the information provided gives us insight into the context and use of hydroxychloroquine and lopinavir/ritonavir in France, none of the sources directly compare the costs of the French State's protocol with Pr. Raoult's protocol using chloroquine. Therefore, we cannot accurately classify the claim as true or false based on the available information.\n"
     ]
    }
   ],
   "source": [
    "print(dict_list[9321][\"query\"])\n"
   ]
  }
 ],
 "metadata": {
  "kernelspec": {
   "display_name": "torch",
   "language": "python",
   "name": "python3"
  },
  "language_info": {
   "codemirror_mode": {
    "name": "ipython",
    "version": 3
   },
   "file_extension": ".py",
   "mimetype": "text/x-python",
   "name": "python",
   "nbconvert_exporter": "python",
   "pygments_lexer": "ipython3",
   "version": "3.10.13"
  }
 },
 "nbformat": 4,
 "nbformat_minor": 2
}
