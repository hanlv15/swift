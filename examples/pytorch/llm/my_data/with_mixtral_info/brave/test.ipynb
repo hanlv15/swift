{
 "cells": [
  {
   "cell_type": "code",
   "execution_count": 1,
   "metadata": {},
   "outputs": [
    {
     "name": "stderr",
     "output_type": "stream",
     "text": [
      "2024-03-30 23:00:01,634 - modelscope - INFO - PyTorch version 2.1.2 Found.\n",
      "2024-03-30 23:00:01,637 - modelscope - INFO - Loading ast index from /home/hanlv/.cache/modelscope/ast_indexer\n",
      "2024-03-30 23:00:01,673 - modelscope - INFO - Loading done! Current index file version is 1.13.1, with md5 ad87f4a589251d86333765b92ab59e41 and a total number of 972 components indexed\n",
      "[INFO:swift] Loading the model using model_dir: /home/css/models/Mixtral-8x7B-Instruct-v0.1-GPTQ-int4\n",
      "[INFO:swift] Setting torch_dtype: torch.bfloat16\n",
      "[INFO:swift] model_config: MixtralConfig {\n",
      "  \"_name_or_path\": \"/home/css/models/Mixtral-8x7B-Instruct-v0.1-GPTQ-int4\",\n",
      "  \"architectures\": [\n",
      "    \"MixtralForCausalLM\"\n",
      "  ],\n",
      "  \"attention_dropout\": 0.0,\n",
      "  \"bos_token_id\": 1,\n",
      "  \"eos_token_id\": 2,\n",
      "  \"hidden_act\": \"silu\",\n",
      "  \"hidden_size\": 4096,\n",
      "  \"initializer_range\": 0.02,\n",
      "  \"intermediate_size\": 14336,\n",
      "  \"max_position_embeddings\": 32768,\n",
      "  \"model_type\": \"mixtral\",\n",
      "  \"num_attention_heads\": 32,\n",
      "  \"num_experts_per_tok\": 2,\n",
      "  \"num_hidden_layers\": 32,\n",
      "  \"num_key_value_heads\": 8,\n",
      "  \"num_local_experts\": 8,\n",
      "  \"output_router_logits\": false,\n",
      "  \"pad_token_id\": 0,\n",
      "  \"pretraining_tp\": 1,\n",
      "  \"quantization_config\": {\n",
      "    \"bits\": 4,\n",
      "    \"damp_percent\": 0.1,\n",
      "    \"desc_act\": true,\n",
      "    \"group_size\": 32,\n",
      "    \"model_file_base_name\": \"model\",\n",
      "    \"model_name_or_path\": null,\n",
      "    \"modules_in_block_to_quantize\": [\n",
      "      [\n",
      "        \"self_attn.k_proj\",\n",
      "        \"self_attn.v_proj\",\n",
      "        \"self_attn.q_proj\"\n",
      "      ],\n",
      "      [\n",
      "        \"self_attn.o_proj\"\n",
      "      ],\n",
      "      [\n",
      "        \"block_sparse_moe.experts.0.w1\",\n",
      "        \"block_sparse_moe.experts.0.w2\",\n",
      "        \"block_sparse_moe.experts.0.w3\"\n",
      "      ],\n",
      "      [\n",
      "        \"block_sparse_moe.experts.1.w1\",\n",
      "        \"block_sparse_moe.experts.1.w2\",\n",
      "        \"block_sparse_moe.experts.1.w3\"\n",
      "      ],\n",
      "      [\n",
      "        \"block_sparse_moe.experts.2.w1\",\n",
      "        \"block_sparse_moe.experts.2.w2\",\n",
      "        \"block_sparse_moe.experts.2.w3\"\n",
      "      ],\n",
      "      [\n",
      "        \"block_sparse_moe.experts.3.w1\",\n",
      "        \"block_sparse_moe.experts.3.w2\",\n",
      "        \"block_sparse_moe.experts.3.w3\"\n",
      "      ],\n",
      "      [\n",
      "        \"block_sparse_moe.experts.4.w1\",\n",
      "        \"block_sparse_moe.experts.4.w2\",\n",
      "        \"block_sparse_moe.experts.4.w3\"\n",
      "      ],\n",
      "      [\n",
      "        \"block_sparse_moe.experts.5.w1\",\n",
      "        \"block_sparse_moe.experts.5.w2\",\n",
      "        \"block_sparse_moe.experts.5.w3\"\n",
      "      ],\n",
      "      [\n",
      "        \"block_sparse_moe.experts.6.w1\",\n",
      "        \"block_sparse_moe.experts.6.w2\",\n",
      "        \"block_sparse_moe.experts.6.w3\"\n",
      "      ],\n",
      "      [\n",
      "        \"block_sparse_moe.experts.7.w1\",\n",
      "        \"block_sparse_moe.experts.7.w2\",\n",
      "        \"block_sparse_moe.experts.7.w3\"\n",
      "      ]\n",
      "    ],\n",
      "    \"quant_method\": \"gptq\",\n",
      "    \"sym\": true,\n",
      "    \"true_sequential\": true\n",
      "  },\n",
      "  \"rms_norm_eps\": 1e-05,\n",
      "  \"rope_theta\": 1000000.0,\n",
      "  \"router_aux_loss_coef\": 0.02,\n",
      "  \"sliding_window\": 4096,\n",
      "  \"tie_word_embeddings\": false,\n",
      "  \"torch_dtype\": \"bfloat16\",\n",
      "  \"transformers_version\": \"4.39.1\",\n",
      "  \"use_cache\": true,\n",
      "  \"vocab_size\": 32000\n",
      "}\n",
      "\n"
     ]
    }
   ],
   "source": [
    "import torch\n",
    "import sys\n",
    "from swift.llm import get_model_tokenizer\n",
    "dirs = [\"/home/hanlv/workspace/code/research/infodemic/LLM/swift/examples/pytorch/llm\"]\n",
    "for _dir in dirs:\n",
    "    if _dir not in sys.path:\n",
    "        sys.path.append(_dir)\n",
    "from custom import CustomModelType, CustomTemplateType\n",
    "model_type = CustomModelType.mixtral_moe_7b_instruct_gptq_int4\n",
    "model, tokenizer = get_model_tokenizer(\n",
    "    model_type, \n",
    "    load_model=False\n",
    ")\n"
   ]
  },
  {
   "cell_type": "code",
   "execution_count": 2,
   "metadata": {},
   "outputs": [
    {
     "data": {
      "application/vnd.jupyter.widget-view+json": {
       "model_id": "effdebff87ed4af6b03030a28d9aca5c",
       "version_major": 2,
       "version_minor": 0
      },
      "text/plain": [
       "  0%|          | 0/12192 [00:00<?, ?it/s]"
      ]
     },
     "metadata": {},
     "output_type": "display_data"
    }
   ],
   "source": [
    "import jsonlines\n",
    "from tqdm.notebook import tqdm\n",
    "\n",
    "dict_list = []\n",
    "version = \"1\"\n",
    "with jsonlines.open(f\"data{version}.jsonl\", mode=\"r\") as file_jsonl:\n",
    "    for item in file_jsonl.iter():\n",
    "        dict_list.append(item)\n",
    "\n",
    "lens1 = []\n",
    "lens2 = []\n",
    "\n",
    "for item in tqdm(dict_list):\n",
    "    lens1.append(len(tokenizer(item[\"query\"])[\"input_ids\"]))\n",
    "    # lens2.append(len(tokenizer.tokenize(item[\"query\"])))\n",
    "\n"
   ]
  },
  {
   "cell_type": "code",
   "execution_count": 3,
   "metadata": {},
   "outputs": [
    {
     "data": {
      "text/plain": [
       "[640,\n",
       " 660,\n",
       " 665,\n",
       " 685,\n",
       " 691,\n",
       " 719,\n",
       " 719,\n",
       " 724,\n",
       " 734,\n",
       " 736,\n",
       " 742,\n",
       " 743,\n",
       " 748,\n",
       " 752,\n",
       " 761,\n",
       " 762,\n",
       " 763,\n",
       " 765,\n",
       " 769,\n",
       " 769]"
      ]
     },
     "execution_count": 3,
     "metadata": {},
     "output_type": "execute_result"
    }
   ],
   "source": [
    "# 3705\n",
    "\n",
    "# [3675, 3674, 3671, 3665, 3662, 3662, 3640, 3638, 3636, 3632, 3616, 3604]\n",
    "\n",
    "\n",
    "sorted(lens1, reverse=False)[:20]\n"
   ]
  },
  {
   "cell_type": "markdown",
   "metadata": {},
   "source": [
    "修改较长的句子\n",
    "\n",
    "显卡 24GB\n",
    "\n",
    "7B模型，长度控制在3600以下 \n"
   ]
  },
  {
   "cell_type": "code",
   "execution_count": 4,
   "metadata": {},
   "outputs": [
    {
     "data": {
      "text/plain": [
       "[8493]"
      ]
     },
     "execution_count": 4,
     "metadata": {},
     "output_type": "execute_result"
    }
   ],
   "source": [
    "del_ids = []\n",
    "for i, item in enumerate(lens1):\n",
    "    if item == 640:\n",
    "        del_ids.append(i)\n",
    "\n",
    "del_ids\n"
   ]
  },
  {
   "cell_type": "code",
   "execution_count": 5,
   "metadata": {},
   "outputs": [
    {
     "data": {
      "text/plain": [
       "'According to the CLAIM and the PRIOR KNOWLEDGE, please classify the CLAIM as TRUE or FALSE. If the content described by the CLAIM is correct, then classify it as TRUE; if the content described by the CLAIM is incorrect, then classify it as FALSE.\\n\\nCLAIM:\\nPublication date: 2020-04-13\\nContent: Politician Sebastian Paul called Modi haters demented.\\n\\nPRIOR KNOWLEDGE:\\nInformation 1:\\nPublication date: 2020-04-13\\nTitle: FALSE: Politician Sebastian Paul called Modi haters demented. - ...\\nContent:\\nExplanation: <strong>Sebastian</strong> <strong>Paul</strong> has clarified that these claims are baseless and he has not made any such statement. Read the Full Article (FactCrescendo)\\nInformation 2:\\nPublication date: 2023-09-25\\nTitle: Modi’s Party Linked With Most Hate Speech in India, Report Finds ...\\nContent:\\nIndian Prime Minister Narendra <strong>Modi</strong>’s ruling party and affiliated groups were behind most hate speech events against Muslims during the first half of the year, according to a report released on Monday.\\nInformation 3:\\nPublication date: 2021-05-29\\nTitle: Why does western media hate Modi so much?\\nContent:\\nIt was 1994. I was attending a shoe fair in a remote town in western Germany <strong>called</strong> Pirmasens. It used to be a shoe manufacturing town, except that all the shoe factories had decamped to...\\nInformation 4:\\nPublication date: 2020-03-05\\nTitle: 12 people and things that have ruined India – POLITICO\\nContent:\\nEven before the riots, Narendra <strong>Modi</strong>’s India was a sectarian battleground.\\nInformation 5:\\nPublication date: 2021-02-23\\nTitle: False: Sebastian Paul said that Narendra Modi has a mental illness.\\nContent:\\nFormer MP <strong>Sebastian</strong> <strong>Paul</strong> filed a complaint with Ernakulam Police regarding the fake news circulating in his name.\\n\\nAfter reviewing the provided information, the claim that politician Sebastian Paul called Modi haters demented is false. Sebastian Paul has clarified that he did not make any such statement, as reported in Information 1. The other information provided does not support the claim and instead includes various reports about Narendra Modi and his political party, but none of them mention Sebastian Paul making the statement in question.'"
      ]
     },
     "execution_count": 5,
     "metadata": {},
     "output_type": "execute_result"
    }
   ],
   "source": [
    "# print(len(tokenizer(dict_list[4157][\"query\"])[\"input_ids\"]))\n",
    "dict_list[8493][\"query\"]\n"
   ]
  },
  {
   "cell_type": "code",
   "execution_count": 6,
   "metadata": {},
   "outputs": [
    {
     "name": "stdout",
     "output_type": "stream",
     "text": [
      "According to the CLAIM and the PRIOR KNOWLEDGE, please classify the CLAIM as TRUE or FALSE. If the content described by the CLAIM is correct, then classify it as TRUE; if the content described by the CLAIM is incorrect, then classify it as FALSE.\n",
      "\n",
      "CLAIM:\n",
      "Publication date: 2020-04-13\n",
      "Content: Politician Sebastian Paul called Modi haters demented.\n",
      "\n",
      "PRIOR KNOWLEDGE:\n",
      "Information 1:\n",
      "Publication date: 2020-04-13\n",
      "Title: FALSE: Politician Sebastian Paul called Modi haters demented. - ...\n",
      "Content:\n",
      "Explanation: <strong>Sebastian</strong> <strong>Paul</strong> has clarified that these claims are baseless and he has not made any such statement. Read the Full Article (FactCrescendo)\n",
      "Information 2:\n",
      "Publication date: 2023-09-25\n",
      "Title: Modi’s Party Linked With Most Hate Speech in India, Report Finds ...\n",
      "Content:\n",
      "Indian Prime Minister Narendra <strong>Modi</strong>’s ruling party and affiliated groups were behind most hate speech events against Muslims during the first half of the year, according to a report released on Monday.\n",
      "Information 3:\n",
      "Publication date: 2021-05-29\n",
      "Title: Why does western media hate Modi so much?\n",
      "Content:\n",
      "It was 1994. I was attending a shoe fair in a remote town in western Germany <strong>called</strong> Pirmasens. It used to be a shoe manufacturing town, except that all the shoe factories had decamped to...\n",
      "Information 4:\n",
      "Publication date: 2020-03-05\n",
      "Title: 12 people and things that have ruined India – POLITICO\n",
      "Content:\n",
      "Even before the riots, Narendra <strong>Modi</strong>’s India was a sectarian battleground.\n",
      "Information 5:\n",
      "Publication date: 2021-02-23\n",
      "Title: False: Sebastian Paul said that Narendra Modi has a mental illness.\n",
      "Content:\n",
      "Former MP <strong>Sebastian</strong> <strong>Paul</strong> filed a complaint with Ernakulam Police regarding the fake news circulating in his name.\n",
      "\n",
      "After reviewing the provided information, the claim that politician Sebastian Paul called Modi haters demented is false. Sebastian Paul has clarified that he did not make any such statement, as reported in Information 1. The other information provided does not support the claim and instead includes various reports about Narendra Modi and his political party, but none of them mention Sebastian Paul making the statement in question.\n"
     ]
    }
   ],
   "source": [
    "print(dict_list[8493][\"query\"])\n"
   ]
  }
 ],
 "metadata": {
  "kernelspec": {
   "display_name": "torch",
   "language": "python",
   "name": "python3"
  },
  "language_info": {
   "codemirror_mode": {
    "name": "ipython",
    "version": 3
   },
   "file_extension": ".py",
   "mimetype": "text/x-python",
   "name": "python",
   "nbconvert_exporter": "python",
   "pygments_lexer": "ipython3",
   "version": "3.10.13"
  }
 },
 "nbformat": 4,
 "nbformat_minor": 2
}
