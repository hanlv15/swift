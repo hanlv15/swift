{
 "cells": [
  {
   "cell_type": "code",
   "execution_count": 2,
   "metadata": {},
   "outputs": [
    {
     "name": "stderr",
     "output_type": "stream",
     "text": [
      "2024-04-02 19:02:36,428 - modelscope - INFO - PyTorch version 2.1.2 Found.\n",
      "2024-04-02 19:02:36,431 - modelscope - INFO - Loading ast index from /home/hanlv/.cache/modelscope/ast_indexer\n",
      "2024-04-02 19:02:36,467 - modelscope - INFO - Loading done! Current index file version is 1.13.1, with md5 ad87f4a589251d86333765b92ab59e41 and a total number of 972 components indexed\n",
      "[INFO:swift] Loading the model using model_dir: /home/css/models/Mixtral-8x7B-Instruct-v0.1-GPTQ-int4\n",
      "[INFO:swift] Setting torch_dtype: torch.bfloat16\n",
      "[INFO:swift] model_config: MixtralConfig {\n",
      "  \"_name_or_path\": \"/home/css/models/Mixtral-8x7B-Instruct-v0.1-GPTQ-int4\",\n",
      "  \"architectures\": [\n",
      "    \"MixtralForCausalLM\"\n",
      "  ],\n",
      "  \"attention_dropout\": 0.0,\n",
      "  \"bos_token_id\": 1,\n",
      "  \"eos_token_id\": 2,\n",
      "  \"hidden_act\": \"silu\",\n",
      "  \"hidden_size\": 4096,\n",
      "  \"initializer_range\": 0.02,\n",
      "  \"intermediate_size\": 14336,\n",
      "  \"max_position_embeddings\": 32768,\n",
      "  \"model_type\": \"mixtral\",\n",
      "  \"num_attention_heads\": 32,\n",
      "  \"num_experts_per_tok\": 2,\n",
      "  \"num_hidden_layers\": 32,\n",
      "  \"num_key_value_heads\": 8,\n",
      "  \"num_local_experts\": 8,\n",
      "  \"output_router_logits\": false,\n",
      "  \"pad_token_id\": 0,\n",
      "  \"pretraining_tp\": 1,\n",
      "  \"quantization_config\": {\n",
      "    \"bits\": 4,\n",
      "    \"damp_percent\": 0.1,\n",
      "    \"desc_act\": true,\n",
      "    \"group_size\": 32,\n",
      "    \"model_file_base_name\": \"model\",\n",
      "    \"model_name_or_path\": null,\n",
      "    \"modules_in_block_to_quantize\": [\n",
      "      [\n",
      "        \"self_attn.k_proj\",\n",
      "        \"self_attn.v_proj\",\n",
      "        \"self_attn.q_proj\"\n",
      "      ],\n",
      "      [\n",
      "        \"self_attn.o_proj\"\n",
      "      ],\n",
      "      [\n",
      "        \"block_sparse_moe.experts.0.w1\",\n",
      "        \"block_sparse_moe.experts.0.w2\",\n",
      "        \"block_sparse_moe.experts.0.w3\"\n",
      "      ],\n",
      "      [\n",
      "        \"block_sparse_moe.experts.1.w1\",\n",
      "        \"block_sparse_moe.experts.1.w2\",\n",
      "        \"block_sparse_moe.experts.1.w3\"\n",
      "      ],\n",
      "      [\n",
      "        \"block_sparse_moe.experts.2.w1\",\n",
      "        \"block_sparse_moe.experts.2.w2\",\n",
      "        \"block_sparse_moe.experts.2.w3\"\n",
      "      ],\n",
      "      [\n",
      "        \"block_sparse_moe.experts.3.w1\",\n",
      "        \"block_sparse_moe.experts.3.w2\",\n",
      "        \"block_sparse_moe.experts.3.w3\"\n",
      "      ],\n",
      "      [\n",
      "        \"block_sparse_moe.experts.4.w1\",\n",
      "        \"block_sparse_moe.experts.4.w2\",\n",
      "        \"block_sparse_moe.experts.4.w3\"\n",
      "      ],\n",
      "      [\n",
      "        \"block_sparse_moe.experts.5.w1\",\n",
      "        \"block_sparse_moe.experts.5.w2\",\n",
      "        \"block_sparse_moe.experts.5.w3\"\n",
      "      ],\n",
      "      [\n",
      "        \"block_sparse_moe.experts.6.w1\",\n",
      "        \"block_sparse_moe.experts.6.w2\",\n",
      "        \"block_sparse_moe.experts.6.w3\"\n",
      "      ],\n",
      "      [\n",
      "        \"block_sparse_moe.experts.7.w1\",\n",
      "        \"block_sparse_moe.experts.7.w2\",\n",
      "        \"block_sparse_moe.experts.7.w3\"\n",
      "      ]\n",
      "    ],\n",
      "    \"quant_method\": \"gptq\",\n",
      "    \"sym\": true,\n",
      "    \"true_sequential\": true\n",
      "  },\n",
      "  \"rms_norm_eps\": 1e-05,\n",
      "  \"rope_theta\": 1000000.0,\n",
      "  \"router_aux_loss_coef\": 0.02,\n",
      "  \"sliding_window\": 4096,\n",
      "  \"tie_word_embeddings\": false,\n",
      "  \"torch_dtype\": \"bfloat16\",\n",
      "  \"transformers_version\": \"4.39.2\",\n",
      "  \"use_cache\": true,\n",
      "  \"vocab_size\": 32000\n",
      "}\n",
      "\n"
     ]
    }
   ],
   "source": [
    "import torch\n",
    "import sys\n",
    "from swift.llm import get_model_tokenizer\n",
    "dirs = [\"/home/hanlv/workspace/code/research/infodemic/LLM/swift/examples/pytorch/llm\"]\n",
    "for _dir in dirs:\n",
    "    if _dir not in sys.path:\n",
    "        sys.path.append(_dir)\n",
    "from custom import CustomModelType, CustomTemplateType\n",
    "model_type = CustomModelType.mixtral_moe_7b_instruct_gptq_int4\n",
    "model, tokenizer = get_model_tokenizer(\n",
    "    model_type, \n",
    "    load_model=False\n",
    ")\n"
   ]
  },
  {
   "cell_type": "code",
   "execution_count": 3,
   "metadata": {},
   "outputs": [
    {
     "data": {
      "application/vnd.jupyter.widget-view+json": {
       "model_id": "7535a6dadd5142a2acd8f1d9ff27484f",
       "version_major": 2,
       "version_minor": 0
      },
      "text/plain": [
       "  0%|          | 0/12192 [00:00<?, ?it/s]"
      ]
     },
     "metadata": {},
     "output_type": "display_data"
    }
   ],
   "source": [
    "import jsonlines\n",
    "from tqdm.notebook import tqdm\n",
    "\n",
    "dict_list = []\n",
    "version = \"2\"\n",
    "with jsonlines.open(f\"data{version}.jsonl\", mode=\"r\") as file_jsonl:\n",
    "    for item in file_jsonl.iter():\n",
    "        dict_list.append(item)\n",
    "\n",
    "lens1 = []\n",
    "lens2 = []\n",
    "\n",
    "for item in tqdm(dict_list):\n",
    "    lens1.append(len(tokenizer(item[\"query\"])[\"input_ids\"]))\n",
    "    # lens2.append(len(tokenizer.tokenize(item[\"query\"])))\n",
    "\n"
   ]
  },
  {
   "cell_type": "code",
   "execution_count": 4,
   "metadata": {},
   "outputs": [
    {
     "data": {
      "text/plain": [
       "[4240,\n",
       " 1484,\n",
       " 1365,\n",
       " 1359,\n",
       " 1355,\n",
       " 1342,\n",
       " 1341,\n",
       " 1332,\n",
       " 1269,\n",
       " 1269,\n",
       " 1247,\n",
       " 1243,\n",
       " 1235,\n",
       " 1224,\n",
       " 1224,\n",
       " 1222,\n",
       " 1221,\n",
       " 1221,\n",
       " 1219,\n",
       " 1214]"
      ]
     },
     "execution_count": 4,
     "metadata": {},
     "output_type": "execute_result"
    }
   ],
   "source": [
    "# 3705\n",
    "\n",
    "# [3675, 3674, 3671, 3665, 3662, 3662, 3640, 3638, 3636, 3632, 3616, 3604]\n",
    "\n",
    "\n",
    "sorted(lens1, reverse=True)[0: 20]\n"
   ]
  },
  {
   "cell_type": "markdown",
   "metadata": {},
   "source": [
    "修改较长的句子\n",
    "\n",
    "显卡 24GB\n",
    "\n",
    "7B模型，长度控制在3600以下 \n"
   ]
  },
  {
   "cell_type": "code",
   "execution_count": 5,
   "metadata": {},
   "outputs": [
    {
     "data": {
      "text/plain": [
       "[5073]"
      ]
     },
     "execution_count": 5,
     "metadata": {},
     "output_type": "execute_result"
    }
   ],
   "source": [
    "del_ids = []\n",
    "for i, item in enumerate(lens1):\n",
    "    if item == 1484:\n",
    "        del_ids.append(i)\n",
    "\n",
    "del_ids\n"
   ]
  },
  {
   "cell_type": "code",
   "execution_count": 13,
   "metadata": {},
   "outputs": [
    {
     "data": {
      "text/plain": [
       "\"According to the CLAIM and the PRIOR KNOWLEDGE, please classify the CLAIM as TRUE or FALSE. If the content described by the CLAIM is correct, then classify it as TRUE; if the content described by the CLAIM is incorrect, then classify it as FALSE.\\n\\nCLAIM:\\nPublication date: 2020-02-20\\nContent: Social media posts claim Chloroquine, an antimalarial drug, can cure COVID-19.\\n\\nPRIOR KNOWLEDGE:\\nInformation Expansion and Summary:\\n\\nInformation 1 describes the FDA's review of safety issues related to the use of hydroxychloroquine and chloroquine to treat hospitalized patients with COVID-19. The FDA has revoked the emergency use authorization (EUA) for these drugs in treating COVID-19 due to serious heart rhythm problems and other safety issues, including blood and lymph system disorders, kidney injuries, and liver problems and failure. The FDA also warns of increased use of these medicines through outpatient prescriptions and reports of serious heart rhythm problems in patients with COVID-19 treated with hydroxychloroquine or chloroquine, often in combination with azithromycin and other QT prolonging medicines.\\n\\nInformation 2 is a fact check by Reuters, debunking the claim that a 2005 chloroquine/SARS study proves hydroxychloroquine’s effectiveness against COVID-19. The article states that existing evidence on the drug’s effectiveness against COVID-19 remains inconclusive. The NIH recommends against the use of chloroquine or hydroxychloroquine for the treatment of COVID-19, except in a clinical trial. A recent study published in the International Journal of Antimicrobial Agents found that unsupervised use of chloroquine or hydroxychloroquine as a preventive measure against COVID-19 can expose the public to serious adverse drug effects.\\n\\nInformation 3 states that quinine, along with its synthetic relatives chloroquine and hydroxychloroquine, are chemical compounds normally used as anti-malarial drugs. They are not proven to work as treatments for COVID-19, nor approved by the FDA as such. Social media posts recommend tonic water and zinc as a cure for a novel coronavirus infection, as the drink contains quinine, whose synthetic relative hydroxychloroquine is on trial as a COVID-19 treatment. The claim is false; quinine in tonic water is too diluted to have any effect, and there are no drugs proven to cure the disease.\\n\\nInformation 4 is a review of studies on the effects of chloroquine and hydroxychloroquine in treating people ill with COVID-19, preventing the disease in people at risk of getting the disease, and people exposed to the virus. The authors do not think new studies of hydroxychloroquine should be started for treatment of COVID-19.\\n\\nInformation 5 discusses the role of antimalarial drugs – namely chloroquine and hydroxychloroquine – in the management of COVID-19 patients. The results of preliminary large-scale randomized controlled trials have failed to show any survival benefit of such drug therapy in COVID-19. Most experts are against the use of HCQ in treatment and post-exposure prophylaxis of COVID-19. Indiscriminate unsupervised use of these drugs as a prophylactic or therapeutic weapon can cause serious side effects, mostly related to cardiotoxicity.\\n\\nClaim Verification:\\n\\nThe claim that chloroquine, an antimalarial drug, can cure COVID-19 is false based on the available information. The FDA has revoked the emergency use authorization for chloroquine and hydroxychloroquine in treating COVID-19 due to serious heart rhythm problems and other safety issues. Existing evidence on the drug’s effectiveness against COVID-19 remains inconclusive, and the NIH recommends against the use of chloroquine or hydroxychloroquine for the treatment of COVID-19, except in a clinical trial. Social media posts recommending tonic water and zinc as a cure for a novel coronavirus infection are also false, as quinine in tonic water is too diluted to have any effect, and there are no drugs proven to cure the disease. Indiscriminate unsupervised use of chloroquine and hydroxychloroquine can cause serious side effects, mostly related to cardiotoxicity.\""
      ]
     },
     "execution_count": 13,
     "metadata": {},
     "output_type": "execute_result"
    }
   ],
   "source": [
    "# print(len(tokenizer(dict_list[4157][\"query\"])[\"input_ids\"]))\n",
    "dict_list[1862][\"query\"]\n"
   ]
  },
  {
   "cell_type": "code",
   "execution_count": 6,
   "metadata": {},
   "outputs": [
    {
     "name": "stdout",
     "output_type": "stream",
     "text": [
      "According to the CLAIM and the PRIOR KNOWLEDGE, please classify the CLAIM as TRUE or FALSE. If the content described by the CLAIM is correct, then classify it as TRUE; if the content described by the CLAIM is incorrect, then classify it as FALSE.\n",
      "\n",
      "CLAIM:\n",
      "Publication date: 2020-07-06\n",
      "Content: No one has died from the coronavirus; there are no antibodies that identify SARS-CoV-2; pathologists have no means of verifying whether a person was infected with SARS-CoV-2; SARS-CoV-2 has not fulfilled Koch’s postulates.\n",
      "\n",
      "PRIOR KNOWLEDGE:\n",
      "Information Expansion and Summary:\n",
      "\n",
      "The claim that no one has died from the coronavirus, there are no antibodies that identify SARS-CoV-2, pathologists have no means of verifying whether a person was infected with SARS-CoV-2, and SARS-CoV-2 has not fulfilled Koch's postulates is false. Monoclonal antibodies that bind to SARS-CoV-2 have been discovered and reported in published studies, and pathologists have been using such antibodies, as well as other techniques like in situ hybridization, to detect SARS-CoV-2 infection in human tissue. Several studies have shown that SARS-CoV-2 fulfills Koch's postulates, demonstrating that it is indeed the cause of COVID-19. Koch's postulates are a set of criteria used to determine whether a certain microorganism is the cause of a disease. They were originally developed by Robert Koch, a German physician who won the Nobel Prize for Physiology or Medicine in 1905 for his work on tuberculosis. The original postulates are as follows:\n",
      "\n",
      "1. The microorganism must be found in abundance in all organisms suffering from the disease but should not be found in healthy organisms.\n",
      "2. The microorganism must be isolated from a diseased organism and grown in pure culture.\n",
      "3. The cultured microorganism should cause disease when introduced into a healthy organism.\n",
      "4. The microorganism must be re-isolated from the inoculated, diseased experimental host and identified as being identical to the original specific causative agent.\n",
      "\n",
      "However, updated criteria for determining viruses that cause disease are sometimes still referred to as Koch's postulates. These involve animals being infected with the suspect virus and viruses being grown in cells, which would not be considered a \"pure culture\" as Koch would have understood it and would not fulfill the purification criteria mentioned previously even though other microbes are removed.\n",
      "\n",
      "Information 4 and 5 provide evidence that Koch's postulates were fulfilled for the SARS virus, which is also a coronavirus. These permissions are granted for the duration of the World Health Organization (WHO) declaration of COVID-19 as a global pandemic. Severe acute respiratory syndrome (SARS) has recently emerged as a new human disease, resulting globally in 435 deaths from 6,234 probable cases (as of 3 May 2003). Here we provide proof from experimental infection of cynomolgus macaques (Macaca fascicularis) that the newly discovered SARS-associated coronavirus (SCV) is the aetiological agent of this disease. Proof that a newly identified coronavirus, severe acute respiratory syndrome coronavirus (SARS–CoV) is the primary cause of severe acute respiratory syndrome (SARS) came from a series of studies on experimentally infected cynomolgus macaques (Macaca fascicularis). SARS–CoV–infected macaques developed a disease comparable to SARS in humans; the virus was re–isolated from these animals and they developed SARS–CoV–specific antibodies. This completed the fulfilment of Koch's postulates, as modified by Rivers for viral diseases, for SARS–CoV as the aetiological agent of SARS.\n",
      "\n",
      "Reasoning and Evidence:\n",
      "\n",
      "The claim that no one has died from the coronavirus, there are no antibodies that identify SARS-CoV-2, pathologists have no means of verifying whether a person was infected with SARS-CoV-2, and SARS-CoV-2 has not fulfilled Koch's postulates is false based on the provided information and general scientific consensus. Monoclonal antibodies that bind to SARS-CoV-2 have been discovered and reported in published studies, and pathologists have been using such antibodies, as well as other techniques like in situ hybridization, to detect SARS-CoV-2 infection in human tissue. Several studies have shown that SARS-CoV-2 fulfills Koch's postulates, demonstrating that it is indeed the cause of COVID-19.\n",
      "\n",
      "Koch's postulates, although originally developed in the 19th century, have been updated and adapted to modern techniques and standards. The updated criteria for determining viruses that cause disease are still referred to as Koch's postulates. These involve animals being infected with the suspect virus and viruses being grown in cells, which would not be considered a \"pure culture\" as Koch would have understood it and would not fulfill the purification criteria mentioned previously even though other microbes are removed.\n",
      "\n",
      "Information 4 and 5 provide evidence that Koch's postulates were fulfilled for the SARS virus, which is also a coronavirus. This evidence further supports the claim that SARS-CoV-2, another coronavirus, can fulfill Koch's postulates as well.\n",
      "\n",
      "In conclusion, the claim that no one has died from the coronavirus, there are no antibodies that identify SARS-CoV-2, pathologists have no means of verifying whether a person was infected with SARS-CoV-2, and SARS-CoV-2 has not fulfilled Koch's postulates is false. Monoclonal antibodies that bind to SARS-CoV-2 have been discovered and reported in published studies, and pathologists have been using such antibodies, as well as other techniques like in situ hybridization, to detect SARS-CoV-2 infection in human tissue. Several studies have shown that SARS-CoV-2 fulfills Koch's postulates, demonstrating that it is indeed the cause of COVID-19.\n"
     ]
    }
   ],
   "source": [
    "print(dict_list[5073][\"query\"])\n"
   ]
  }
 ],
 "metadata": {
  "kernelspec": {
   "display_name": "torch",
   "language": "python",
   "name": "python3"
  },
  "language_info": {
   "codemirror_mode": {
    "name": "ipython",
    "version": 3
   },
   "file_extension": ".py",
   "mimetype": "text/x-python",
   "name": "python",
   "nbconvert_exporter": "python",
   "pygments_lexer": "ipython3",
   "version": "3.10.13"
  }
 },
 "nbformat": 4,
 "nbformat_minor": 2
}
