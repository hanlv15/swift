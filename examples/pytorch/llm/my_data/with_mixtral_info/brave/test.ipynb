{
 "cells": [
  {
   "cell_type": "code",
   "execution_count": 1,
   "metadata": {},
   "outputs": [
    {
     "name": "stderr",
     "output_type": "stream",
     "text": [
      "2024-04-20 23:13:48,154 - modelscope - INFO - PyTorch version 2.1.2 Found.\n",
      "2024-04-20 23:13:48,157 - modelscope - INFO - Loading ast index from /home/hanlv/.cache/modelscope/ast_indexer\n",
      "2024-04-20 23:13:48,185 - modelscope - INFO - Loading done! Current index file version is 1.13.3, with md5 2390e04ce69984a7eaf9207ea8d4380c and a total number of 972 components indexed\n",
      "[INFO:swift] Loading the model using model_dir: /home/css/models/gemma-7b-it\n",
      "[INFO:swift] Setting torch_dtype: torch.bfloat16\n",
      "[INFO:swift] model_config: GemmaConfig {\n",
      "  \"_name_or_path\": \"/home/css/models/gemma-7b-it\",\n",
      "  \"architectures\": [\n",
      "    \"GemmaForCausalLM\"\n",
      "  ],\n",
      "  \"attention_bias\": false,\n",
      "  \"attention_dropout\": 0.0,\n",
      "  \"bos_token_id\": 2,\n",
      "  \"eos_token_id\": 1,\n",
      "  \"head_dim\": 256,\n",
      "  \"hidden_act\": \"gelu\",\n",
      "  \"hidden_activation\": null,\n",
      "  \"hidden_size\": 3072,\n",
      "  \"initializer_range\": 0.02,\n",
      "  \"intermediate_size\": 24576,\n",
      "  \"max_position_embeddings\": 8192,\n",
      "  \"model_type\": \"gemma\",\n",
      "  \"num_attention_heads\": 16,\n",
      "  \"num_hidden_layers\": 28,\n",
      "  \"num_key_value_heads\": 16,\n",
      "  \"pad_token_id\": 0,\n",
      "  \"rms_norm_eps\": 1e-06,\n",
      "  \"rope_scaling\": null,\n",
      "  \"rope_theta\": 10000.0,\n",
      "  \"torch_dtype\": \"bfloat16\",\n",
      "  \"transformers_version\": \"4.40.0\",\n",
      "  \"use_cache\": true,\n",
      "  \"vocab_size\": 256000\n",
      "}\n",
      "\n"
     ]
    }
   ],
   "source": [
    "import torch\n",
    "import sys\n",
    "from swift.llm import get_model_tokenizer\n",
    "dirs = [\"/home/hanlv/workspace/code/research/infodemic/LLM/swift/examples/pytorch/llm\"]\n",
    "for _dir in dirs:\n",
    "    if _dir not in sys.path:\n",
    "        sys.path.append(_dir)\n",
    "from custom import CustomModelType, CustomTemplateType\n",
    "model_type = CustomModelType.gemma_7b_it\n",
    "model, tokenizer = get_model_tokenizer(\n",
    "    model_type, \n",
    "    load_model=False\n",
    ")\n"
   ]
  },
  {
   "cell_type": "code",
   "execution_count": 2,
   "metadata": {},
   "outputs": [
    {
     "data": {
      "application/vnd.jupyter.widget-view+json": {
       "model_id": "36d79009820f488ea2defd0a04e3abaa",
       "version_major": 2,
       "version_minor": 0
      },
      "text/plain": [
       "  0%|          | 0/12192 [00:00<?, ?it/s]"
      ]
     },
     "metadata": {},
     "output_type": "display_data"
    }
   ],
   "source": [
    "import jsonlines\n",
    "from tqdm.notebook import tqdm\n",
    "\n",
    "dict_list = []\n",
    "version = \"1\"\n",
    "with jsonlines.open(f\"data{version}.jsonl\", mode=\"r\") as file_jsonl:\n",
    "    for item in file_jsonl.iter():\n",
    "        dict_list.append(item)\n",
    "\n",
    "lens1 = []\n",
    "lens2 = []\n",
    "\n",
    "for item in tqdm(dict_list):\n",
    "    lens1.append(len(tokenizer(item[\"query\"])[\"input_ids\"]))\n",
    "    # lens2.append(len(tokenizer.tokenize(item[\"query\"])))\n",
    "\n"
   ]
  },
  {
   "cell_type": "code",
   "execution_count": 3,
   "metadata": {},
   "outputs": [
    {
     "data": {
      "text/plain": [
       "[3457, 3363, 3359, 3291, 3230, 3225, 3212, 3208, 3199, 3199]"
      ]
     },
     "execution_count": 3,
     "metadata": {},
     "output_type": "execute_result"
    }
   ],
   "source": [
    "# gemma 3468 = mixtral 3686\n",
    "sorted(lens1, reverse=True)[0: 10]\n"
   ]
  },
  {
   "cell_type": "markdown",
   "metadata": {},
   "source": [
    "修改较长的句子\n",
    "\n",
    "显卡 24GB\n",
    "\n",
    "7B模型，长度控制在3600以下 \n"
   ]
  },
  {
   "cell_type": "code",
   "execution_count": 4,
   "metadata": {},
   "outputs": [
    {
     "data": {
      "text/plain": [
       "[11650]"
      ]
     },
     "execution_count": 4,
     "metadata": {},
     "output_type": "execute_result"
    }
   ],
   "source": [
    "del_ids = []\n",
    "for i, item in enumerate(lens1):\n",
    "    if item == 3691:\n",
    "        del_ids.append(i)\n",
    "\n",
    "del_ids\n"
   ]
  },
  {
   "cell_type": "code",
   "execution_count": 13,
   "metadata": {},
   "outputs": [
    {
     "data": {
      "text/plain": [
       "\"According to the CLAIM and the PRIOR KNOWLEDGE, please classify the CLAIM as TRUE or FALSE. If the content described by the CLAIM is correct, then classify it as TRUE; if the content described by the CLAIM is incorrect, then classify it as FALSE.\\n\\nCLAIM:\\nPublication date: 2020-02-20\\nContent: Social media posts claim Chloroquine, an antimalarial drug, can cure COVID-19.\\n\\nPRIOR KNOWLEDGE:\\nInformation Expansion and Summary:\\n\\nInformation 1 describes the FDA's review of safety issues related to the use of hydroxychloroquine and chloroquine to treat hospitalized patients with COVID-19. The FDA has revoked the emergency use authorization (EUA) for these drugs in treating COVID-19 due to serious heart rhythm problems and other safety issues, including blood and lymph system disorders, kidney injuries, and liver problems and failure. The FDA also warns of increased use of these medicines through outpatient prescriptions and reports of serious heart rhythm problems in patients with COVID-19 treated with hydroxychloroquine or chloroquine, often in combination with azithromycin and other QT prolonging medicines.\\n\\nInformation 2 is a fact check by Reuters, debunking the claim that a 2005 chloroquine/SARS study proves hydroxychloroquine’s effectiveness against COVID-19. The article states that existing evidence on the drug’s effectiveness against COVID-19 remains inconclusive. The NIH recommends against the use of chloroquine or hydroxychloroquine for the treatment of COVID-19, except in a clinical trial. A recent study published in the International Journal of Antimicrobial Agents found that unsupervised use of chloroquine or hydroxychloroquine as a preventive measure against COVID-19 can expose the public to serious adverse drug effects.\\n\\nInformation 3 states that quinine, along with its synthetic relatives chloroquine and hydroxychloroquine, are chemical compounds normally used as anti-malarial drugs. They are not proven to work as treatments for COVID-19, nor approved by the FDA as such. Social media posts recommend tonic water and zinc as a cure for a novel coronavirus infection, as the drink contains quinine, whose synthetic relative hydroxychloroquine is on trial as a COVID-19 treatment. The claim is false; quinine in tonic water is too diluted to have any effect, and there are no drugs proven to cure the disease.\\n\\nInformation 4 is a review of studies on the effects of chloroquine and hydroxychloroquine in treating people ill with COVID-19, preventing the disease in people at risk of getting the disease, and people exposed to the virus. The authors do not think new studies of hydroxychloroquine should be started for treatment of COVID-19.\\n\\nInformation 5 discusses the role of antimalarial drugs – namely chloroquine and hydroxychloroquine – in the management of COVID-19 patients. The results of preliminary large-scale randomized controlled trials have failed to show any survival benefit of such drug therapy in COVID-19. Most experts are against the use of HCQ in treatment and post-exposure prophylaxis of COVID-19. Indiscriminate unsupervised use of these drugs as a prophylactic or therapeutic weapon can cause serious side effects, mostly related to cardiotoxicity.\\n\\nClaim Verification:\\n\\nThe claim that chloroquine, an antimalarial drug, can cure COVID-19 is false based on the available information. The FDA has revoked the emergency use authorization for chloroquine and hydroxychloroquine in treating COVID-19 due to serious heart rhythm problems and other safety issues. Existing evidence on the drug’s effectiveness against COVID-19 remains inconclusive, and the NIH recommends against the use of chloroquine or hydroxychloroquine for the treatment of COVID-19, except in a clinical trial. Social media posts recommending tonic water and zinc as a cure for a novel coronavirus infection are also false, as quinine in tonic water is too diluted to have any effect, and there are no drugs proven to cure the disease. Indiscriminate unsupervised use of chloroquine and hydroxychloroquine can cause serious side effects, mostly related to cardiotoxicity.\""
      ]
     },
     "execution_count": 13,
     "metadata": {},
     "output_type": "execute_result"
    }
   ],
   "source": [
    "# print(len(tokenizer(dict_list[4157][\"query\"])[\"input_ids\"]))\n",
    "dict_list[1862][\"query\"]\n"
   ]
  },
  {
   "cell_type": "code",
   "execution_count": 5,
   "metadata": {},
   "outputs": [
    {
     "name": "stdout",
     "output_type": "stream",
     "text": [
      "According to the CLAIM and the PRIOR KNOWLEDGE, please classify the CLAIM as TRUE or FALSE. If the content described by the CLAIM is correct, then classify it as TRUE; if the content described by the CLAIM is incorrect, then classify it as FALSE.\n",
      "\n",
      "CLAIM:\n",
      "Publication date: 2020-04-27\n",
      "Content: A 2005 NIH study shows that Fauci already knew of chloroquine’s effectiveness against coronaviruses, including SARS-CoV-2.\n",
      "\n",
      "PRIOR KNOWLEDGE:\n",
      "Information 1:\n",
      "Publication date: None\n",
      "Title: Chloroquine is a potent inhibitor of SARS coronavirus infection ...\n",
      "Content:\n",
      "Copyright © 2005 Vincent et al; licensee BioMed Central Ltd. This is an Open Access article distributed under the terms of the Creative Commons Attribution License (http://creativecommons.org/licenses/by/2.0), which permits unrestricted use, distribution, and reproduction in any medium, provided the original work is properly cited. Severe acute respiratory syndrome (SARS) is caused by a newly discovered coronavirus (SARS-CoV).\n",
      "NH4Cl exhibits a more pronounced effect than does chloroquine on terminal glycosylation, highlighting the novel intricate differences between chloroquine and ammonium chloride in affecting the protein transport or glycosylation of SARS-CoV spike protein and its receptor, ACE2, despite their well-established similar effects of endosomal pH elevation. The infectivity of coronaviruses other than SARS-CoV are also affected by chloroquine, as exemplified by the human CoV-229E [15]. The inhibitory effects observed on SARS-CoV infectivity and cell spread occurred in the presence of 1–10 μM chloroquine, which are plasma concentrations achievable during the prophylaxis and treatment of malaria (varying from 1.6–12.5 μM) [26] and hence are well tolerated by patients.\n",
      "This is an Open Access article distributed under the terms of the Creative Commons Attribution License (http://creativecommons.org/licenses/by/2.0), which permits unrestricted use, distribution, and reproduction in any medium, provided the original work is properly cited. Severe acute respiratory syndrome (SARS) is caused by a newly discovered coronavirus (SARS-CoV). No effective prophylactic or post-exposure therapy is currently available. We report, however, that chloroquine has strong antiviral effects on SARS-CoV infection of primate cells.\n",
      "We report, however, that chloroquine has strong antiviral effects on SARS-CoV infection of primate cells. These inhibitory effects are observed when the cells are treated with the drug either before or after exposure to the virus, suggesting both prophylactic and therapeutic advantage. In addition to the well-known functions of chloroquine such as elevations of endosomal pH, the drug appears to interfere with terminal glycosylation of the cellular receptor, angiotensin-converting enzyme 2.\n",
      "Information 2:\n",
      "Publication date: 2020-04-27\n",
      "Title: FALSE: A 2005 NIH study shows that Fauci already knew of ...\n",
      "Content:\n",
      "Explanation: The 2005 study cited in these articles was actually a Canada-funded study, which revealed an effect of chloroquine on SARS-CoV-1 infection in cell cultures. Contrary to what the articles suggest, the study was not conducted or funded by the NIH. Although SARS-CoV-1 shares some similarities with the current SARS-CoV-2, an in vitro study of the former does not provide sufficient evidence to conclude that it will effectively treat COVID-19.\n",
      "Contrary to what the articles suggest, the study was not conducted or funded by the NIH. Although SARS-CoV-1 shares some similarities with the current SARS-CoV-2, an in vitro study of the former does not provide sufficient evidence to conclude that it will effectively treat COVID-19. Read the Full Article (Science Feedback) This false claim originated from: Brian Fischer, OneNewsNow · The #CoronavirusFacts database records fact-checks published since the beginning of the COVID-19 outbreak.\n",
      "Although SARS-CoV-1 shares some similarities with the current SARS-CoV-2, an in vitro study of the former does not provide sufficient evidence to conclude that it will effectively treat COVID-19. Read the Full Article (Science Feedback) This false claim originated from: Brian Fischer, OneNewsNow · The #CoronavirusFacts database records fact-checks published since the beginning of the COVID-19 outbreak. The pandemic and its consequences are constantly evolving and data that was accurate weeks or even days ago might have changed.\n",
      "The #CoronavirusFacts database records fact-checks published since the beginning of the COVID-19 outbreak. The pandemic and its consequences are constantly evolving and data that was accurate weeks or even days ago might have changed. Remember to check the date when the fact-check you are reading was published before sharing it.\n",
      "Information 3:\n",
      "Publication date: 2020-08-11\n",
      "Title: Hoax circulates online that Fauci ‘knew’ about effective ...\n",
      "Content:\n",
      "The text in the image reads in part: “The Virology Journal - the official publication of Dr. Fauci's National Institutes of Health - published what is now a blockbuster article on August 22, 2005, under the heading - get ready for this - ‘Chloroquine is a potion of SARS coronavirus infection and spread.’\n",
      "Eric Bergeron of the US Centers for Disease Control and Prevention (CDC), who co-wrote the 2005 paper, said: \"This is totally absurd.\" “This paper only shows that chloroquine works in cell culture experiments, later studies in mice suggested that chloroquine was not effective against SARS-CoV,\" he said in an email on August 5. “Our results published suggested that chloroquine should be considered in human trials but trials demonstrated that it is ineffective against SARS-CoV-2 (which causes COVID-19).\n",
      "Fauci or the NIH as stated in the misleading claim. A spokesperson for NIAID told AFP in an email dated August 5: “Dr. Fauci has previously stated that there is a lack of good evidence from randomized placebo-controlled trials to indicate that hydroxychloroquine is an effective therapeutic for COVID-19. The 2005 paper you are referring to was a cell-culture experiment with a different virus than SARS-CoV-2, and the study was conducted by CDC investigators.\n",
      "The 2005 paper you are referring to was a cell-culture experiment with a different virus than SARS-CoV-2, and the study was conducted by CDC investigators. Virology Journal is published by BMC, part of Springer-Nature.” · Fauci has become a target of COVID-19 misinformation as the novel coronavirus continues to spread globally, AFP reported here. ... In the wake of the COVID-19 pandemic, the debate over hydroxychloroquine has become politically charged. Leaders including US President Donald Trump and some fellow US conservatives have voiced strong support for the drug as a treatment for the novel coronavirus, AFP reported here.\n",
      "Information 4:\n",
      "Publication date: 2020-05-30\n",
      "Title: Blog posts inaccurately claim that a 2005 NIH study demonstrated ...\n",
      "Content:\n",
      "Although SARS-CoV-1 shares some similarities with the current SARS-CoV-2, an in vitro study of the former does not provide sufficient evidence to conclude that it will effectively treat COVID-19. FULL CLAIM: the NIH researched chloroquine and concluded that it was effective at stopping the SARS coronavirus in its tracks … Dr. Fauci has known for 15 years that chloroquine and its even milder derivative hydroxychloroquine (HCQ) will not only treat a current case of coronavirus (“therapeutic”) but prevent future cases (“prophylactic”)\n",
      "Several outlets claimed that Anthony Fauci, who has served as director of the U.S. National Institute of Allergy and Infectious Diseases (NIAID) since 1984 and is also a member of the White House Coronavirus Task Force, knew for 15 years that chloroquine would work on coronaviruses, and by extension COVID-19 (see examples of these articles here, here, and here). This claim is primarily based on an in vitro scientific study published in 2005, which examined how well chloroquine protected cells growing in petri dishes (cell culture) against SARS-CoV-1 infection[1]. SARS-CoV-1 is the virus responsible for the 2003-2005 SARS outbreak.\n",
      "National Institute of Allergy and Infectious Diseases (NIAID) since 1984 and is also a member of the White House Coronavirus Task Force, knew for 15 years that chloroquine would work on coronaviruses, and by extension COVID-19 (see examples of these articles here, here, and here). This claim is primarily based on an in vitro scientific study published in 2005, which examined how well chloroquine protected cells growing in petri dishes (cell culture) against SARS-CoV-1 infection[1]. SARS-CoV-1 is the virus responsible for the 2003-2005 SARS outbreak. These outlets also further assert that the study was published by the U.S.\n",
      "According to the posts, this research provides sufficient evidence to conclude that chloroquine is a valid treatment for the ongoing COVID-19 pandemic. They claim that chloroquine “is safe and effective in treating the coronavirus” and that hydroxychloroquine, a derivative of chloroquine, “functions as both a cure and a vaccine”, even though the 2005 paper only examined chloroquine, not hydroxychloroquine. They further allege that Fauci hid the study’s findings.\n",
      "Information 5:\n",
      "Publication date: 2020-08-19\n",
      "Title: Fact check: Fauci did not approve hydroxychloroquine as a cure ...\n",
      "Content:\n",
      "National Institutes of Health, National Library of Medicine, StatPearls, July 4, Chloroquine And Hydroxychloroquine Toxicity · National Institutes of Health, National Library of Medicine, Dermatologic Therapy, April 30, COVID‐19 and SARS: Differences and similarities · Health Feedback, Blog posts inaccurately claim that a 2005 NIH study demonstrated the effectiveness of chloroquine treatment against coronavirus infection such as COVID-19\n",
      "None of that is linked to Fauci at NIAID or NIH, and his name is not on the study. The study also did not claim that hydroxychloroquine was a \"cure\" for COVID-19, which would not be recognized for 14 more years. It simply found that chloroquine — not hydroxychloroquine, which is a less toxic metabolite of the drug — prevented the spread of SARS-CoV in a cell culture. SARS-CoV is a distinct disease from COVID-19, which is technically called SARS-CoV-2.\n",
      "There is also no reason to believe Fauci was familiar with the study from 2005, which was funded through Canadian grants and conducted by researchers outside NIH, though it was archived by the NIH's National Library of Medicine. Other claims in the column were not evaluated. National Institutes of Health, National Institute of Allergy and Infectious Disease, Anthony S. Fauci, M.D., NIAID Director · National Institutes of Health, National Library of Medicine, Virology Journal, 2005, Chloroquine is a potent inhibitor of SARS coronavirus infection and spread\n",
      "\n",
      "Information Summary:\n",
      "\n",
      "Information 1, published in 2005, is an article from the Virology Journal discussing a study on chloroquine's inhibitory effects on SARS-CoV infection in primate cells. The study found that chloroquine has strong antiviral effects on SARS-CoV infection, both before and after exposure to the virus. The study also suggests that chloroquine interferes with the terminal glycosylation of the cellular receptor, angiotensin-converting enzyme 2.\n",
      "\n",
      "Information 2, published in 2020, clarifies that the 2005 study was not conducted or funded by the NIH, but rather by Canadian researchers. The study focused on SARS-CoV-1, not SARS-CoV-2, and in vitro results do not provide sufficient evidence to conclude that chloroquine will effectively treat COVID-19.\n",
      "\n",
      "Information 3, published in 2020, is a fact-checking article debunking the claim that Fauci or the NIH knew of chloroquine's effectiveness against SARS-CoV-2 based on the 2005 study. The study was conducted by CDC investigators, not NIH, and examined chloroquine's effects on SARS-CoV-1 in cell culture experiments. The NIH has stated that there is a lack of good evidence from randomized placebo-controlled trials to indicate that hydroxychloroquine is an effective therapeutic for COVID-19.\n",
      "\n",
      "Information 4, published in 2020, is a fact-checking article addressing the inaccurate claim that a 2005 NIH study demonstrated chloroquine's effectiveness against coronaviruses, including SARS-CoV-2. The study only examined chloroquine's effects on SARS-CoV-1 in cell culture experiments, which does not provide sufficient evidence to conclude that it will effectively treat COVID-19.\n",
      "\n",
      "Information 5, published in 2020, is a fact-checking article debunking the claim that Fauci approved hydroxychloroquine as a cure for COVID-19 based on the 2005 study. The study did not involve Fauci, hydroxychloroquine, or SARS-CoV-2. The study only found that chloroquine prevented the spread of SARS-CoV in cell culture.\n",
      "\n",
      "Claim Veracity:\n",
      "\n",
      "The claim that a 2005 NIH study shows that Fauci already knew of chloroquine's effectiveness against coronaviruses, including SARS-CoV-2, is FALSE. The study was not conducted or funded by the NIH, but rather by Canadian researchers. The study focused on SARS-CoV-1, not SARS-CoV-2, and in vitro results do not provide sufficient evidence to conclude that chloroquine will effectively treat COVID-19. Fauci has stated that there is a lack of good evidence from randomized placebo-controlled trials to indicate that hydroxychloroquine is an effective therapeutic for COVID-19.\n"
     ]
    }
   ],
   "source": [
    "\n",
    "print(dict_list[11650][\"query\"])\n"
   ]
  }
 ],
 "metadata": {
  "kernelspec": {
   "display_name": "torch",
   "language": "python",
   "name": "python3"
  },
  "language_info": {
   "codemirror_mode": {
    "name": "ipython",
    "version": 3
   },
   "file_extension": ".py",
   "mimetype": "text/x-python",
   "name": "python",
   "nbconvert_exporter": "python",
   "pygments_lexer": "ipython3",
   "version": "3.10.14"
  }
 },
 "nbformat": 4,
 "nbformat_minor": 2
}
