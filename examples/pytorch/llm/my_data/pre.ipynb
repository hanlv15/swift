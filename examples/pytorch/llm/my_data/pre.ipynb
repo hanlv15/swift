{
 "cells": [
  {
   "cell_type": "markdown",
   "metadata": {},
   "source": [
    "构建swift数据集(不含已知信息)"
   ]
  },
  {
   "cell_type": "code",
   "execution_count": 2,
   "metadata": {},
   "outputs": [
    {
     "data": {
      "text/plain": [
       "(12192,\n",
       " [{'query': 'According to the content of the TEXT, please classify it as TRUE or FALSE. If the content described by the TEXT is correct, then classify it as TRUE; if the content described by the TEXT is incorrect, then classify it as FALSE.\\nTEXT: Illinois Strengthens Face Mask Rules in Businesses',\n",
       "   'response': 'TRUE.'},\n",
       "  {'query': 'According to the content of the TEXT, please classify it as TRUE or FALSE. If the content described by the TEXT is correct, then classify it as TRUE; if the content described by the TEXT is incorrect, then classify it as FALSE.\\nTEXT: The government of Paraíba, a state in Brazil, received 11.6 million Brazilian reais from the federal government to spend on healthcare during the COVID-19 crisis. Instead, this money is being spent on artistic performances.',\n",
       "   'response': 'FALSE.'}])"
      ]
     },
     "execution_count": 2,
     "metadata": {},
     "output_type": "execute_result"
    }
   ],
   "source": [
    "import json\n",
    "# prefix = \"If the TEXT is correct, please classify it as TRUE, otherwise classify it as FALSE.\\nTEXT: \"\n",
    "prefix = \"According to the content of the TEXT, please classify it as TRUE or FALSE. If the content described by the TEXT is correct, then classify it as TRUE; if the content described by the TEXT is incorrect, then classify it as FALSE.\\nTEXT: \"\n",
    "\n",
    "dict_list = []\n",
    "with open('/home/hanlv/workspace/data/machine_learning/dataset' + '/research/misinformation_dataset/COVMIS-main/data/train_updated.json', 'r') as f:\n",
    "        data = json.load(f)\n",
    "        for i, item in enumerate(data):\n",
    "            \n",
    "            if item[\"label\"] != 1:\n",
    "                claim = item[\"claim\"].strip()\n",
    "                prompt = prefix + claim\n",
    "                label = \"TRUE.\" if item[\"label\"] == 2 else \"FALSE.\"\n",
    "                dict_list.append({\"query\": prompt, \"response\": label})\n",
    "\n",
    "len(dict_list), dict_list[:2]\n"
   ]
  },
  {
   "cell_type": "code",
   "execution_count": null,
   "metadata": {},
   "outputs": [],
   "source": [
    "# import jsonlines\n",
    "# with jsonlines.open(\"data1.jsonl\", mode=\"w\") as file_jsonl:\n",
    "#     for line in dict_list:\n",
    "#         file_jsonl.write(line)\n"
   ]
  }
 ],
 "metadata": {
  "kernelspec": {
   "display_name": "autogen",
   "language": "python",
   "name": "python3"
  },
  "language_info": {
   "codemirror_mode": {
    "name": "ipython",
    "version": 3
   },
   "file_extension": ".py",
   "mimetype": "text/x-python",
   "name": "python",
   "nbconvert_exporter": "python",
   "pygments_lexer": "ipython3",
   "version": "3.10.13"
  },
  "vscode": {
   "interpreter": {
    "hash": "5a0a35ba960cb2def5c80b9c070d269b61ebdc196b2db4e273b186f76a39110a"
   }
  }
 },
 "nbformat": 4,
 "nbformat_minor": 2
}
