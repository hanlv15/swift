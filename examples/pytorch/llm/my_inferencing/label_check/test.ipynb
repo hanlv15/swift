{
 "cells": [
  {
   "cell_type": "code",
   "execution_count": 1,
   "metadata": {},
   "outputs": [],
   "source": [
    "import pandas as pd\n",
    "\n",
    "false_claims_trump = pd.read_csv('wapo_trumpclaims_export-012021.csv')\n",
    "diff_llama3 = pd.read_excel('diff_llama3_tmp.xlsx', dtype=\"str\")\n"
   ]
  },
  {
   "cell_type": "code",
   "execution_count": 19,
   "metadata": {},
   "outputs": [
    {
     "name": "stdout",
     "output_type": "stream",
     "text": [
      "“We didn't have very many ventilators at all. Way under-supplied.”\n"
     ]
    }
   ],
   "source": [
    "s = \"\\u201cWe didn't have very many ventilators at all. Way under-supplied.\\u201d\"\n",
    "claims = list(false_claims_trump.loc[:, \"claim\"])\n",
    "\n",
    "print(s.strip())\n"
   ]
  },
  {
   "cell_type": "code",
   "execution_count": 1,
   "metadata": {},
   "outputs": [
    {
     "name": "stdout",
     "output_type": "stream",
     "text": [
      "**Summary of INFORMATION:**\n",
      "\n",
      "The provided information consists of five pieces of content related to face mask rules in Illinois during the COVID-19 pandemic.\n",
      "\n",
      "Information 1 is an outdated article from 2013 that provides general information about COVID-19 symptoms, risk factors, and prevention methods.\n",
      "\n",
      "Information 2 is a press release announcing the planned repeal of statewide masking mandates in Illinois, effective February 28th, except where required by federal, state, local, tribal, or territorial laws, rules, and regulations.\n",
      "\n",
      "Information 3 describes Executive Order 21-22, signed on September 3, 2021, which requires face coverings in indoor public places and vaccination for certain individuals.\n",
      "\n",
      "Information 4 provides FAQs for businesses regarding the use of face coverings during COVID-19, including exceptions for individuals with medical conditions or disabilities.\n",
      "\n",
      "Information 5 is an outdated list of statewide orders related to face masks, which is no longer updated as of November 10, 2022.\n",
      "\n",
      "**Restatement of CLAIM:**\n",
      "\n",
      "The claim is that Illinois strengthened face mask rules in businesses, published on August 13, 2020.\n",
      "\n",
      "**Evidence to judge the correctness of the CLAIM:**\n",
      "\n",
      "Based on the provided information, there is no direct evidence to support the claim that Illinois strengthened face mask rules in businesses on August 13, 2020. Information 5 mentions statewide orders related to face masks, but it does not provide specific details about Illinois strengthening face mask rules in businesses on the claimed date.\n",
      "\n",
      "However, Information 3 and 4 suggest that Illinois had face mask requirements in place, including in indoor public places and businesses, at some point during the pandemic. Executive Order 21-22, signed on September 3, 2021, required face coverings in indoor public places, and businesses were encouraged to inform customers about exceptions to the requirement.\n",
      "\n",
      "Given the lack of direct evidence supporting the claim, it is difficult to classify it as TRUE or FALSE with certainty. Further research or information may be needed to confirm or refute the claim.\n"
     ]
    }
   ],
   "source": [
    "print(\"**Summary of INFORMATION:**\\n\\nThe provided information consists of five pieces of content related to face mask rules in Illinois during the COVID-19 pandemic.\\n\\nInformation 1 is an outdated article from 2013 that provides general information about COVID-19 symptoms, risk factors, and prevention methods.\\n\\nInformation 2 is a press release announcing the planned repeal of statewide masking mandates in Illinois, effective February 28th, except where required by federal, state, local, tribal, or territorial laws, rules, and regulations.\\n\\nInformation 3 describes Executive Order 21-22, signed on September 3, 2021, which requires face coverings in indoor public places and vaccination for certain individuals.\\n\\nInformation 4 provides FAQs for businesses regarding the use of face coverings during COVID-19, including exceptions for individuals with medical conditions or disabilities.\\n\\nInformation 5 is an outdated list of statewide orders related to face masks, which is no longer updated as of November 10, 2022.\\n\\n**Restatement of CLAIM:**\\n\\nThe claim is that Illinois strengthened face mask rules in businesses, published on August 13, 2020.\\n\\n**Evidence to judge the correctness of the CLAIM:**\\n\\nBased on the provided information, there is no direct evidence to support the claim that Illinois strengthened face mask rules in businesses on August 13, 2020. Information 5 mentions statewide orders related to face masks, but it does not provide specific details about Illinois strengthening face mask rules in businesses on the claimed date.\\n\\nHowever, Information 3 and 4 suggest that Illinois had face mask requirements in place, including in indoor public places and businesses, at some point during the pandemic. Executive Order 21-22, signed on September 3, 2021, required face coverings in indoor public places, and businesses were encouraged to inform customers about exceptions to the requirement.\\n\\nGiven the lack of direct evidence supporting the claim, it is difficult to classify it as TRUE or FALSE with certainty. Further research or information may be needed to confirm or refute the claim.\")\n"
   ]
  }
 ],
 "metadata": {
  "kernelspec": {
   "display_name": "swift",
   "language": "python",
   "name": "python3"
  },
  "language_info": {
   "codemirror_mode": {
    "name": "ipython",
    "version": 3
   },
   "file_extension": ".py",
   "mimetype": "text/x-python",
   "name": "python",
   "nbconvert_exporter": "python",
   "pygments_lexer": "ipython3",
   "version": "3.11.9"
  }
 },
 "nbformat": 4,
 "nbformat_minor": 2
}
