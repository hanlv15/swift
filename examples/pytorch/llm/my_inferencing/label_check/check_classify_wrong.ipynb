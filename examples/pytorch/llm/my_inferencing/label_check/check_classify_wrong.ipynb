{
 "cells": [
  {
   "cell_type": "code",
   "execution_count": 1,
   "metadata": {},
   "outputs": [],
   "source": [
    "import json\n",
    "import pandas as pd\n",
    "search_engine = \"brave\"\n",
    "model_name = 'mixtral'\n",
    "\n",
    "with open(f\"/home/hanlv/workspace/data/machine_learning/dataset/research/misinformation_dataset/COVMIS-main/data/train_{search_engine}_search.json\", \"r\") as f:\n",
    "    data_search = json.load(f)\n",
    "\n",
    "def load_diff(model_name, diff_version):\n",
    "    with open(f\"output/diff_{model_name}_v{diff_version}.json\", \"r\") as f:\n",
    "        return json.load(f)\n",
    "\n",
    "def save_excel(file_name, claims, labels, preds=None):\n",
    "\n",
    "    if preds:\n",
    "        df = pd.DataFrame(columns=[\"claim\", \"label\", \"prediction\"])\n",
    "        data ={'claim': claims, 'label':labels, 'prediction':preds}\n",
    "        for i, row in enumerate(data['claim']):\n",
    "            df.loc[i] = [data['claim'][i], data['label'][i], data['prediction'][i]]\n",
    "    else:\n",
    "        df = pd.DataFrame(columns=[\"claim\", \"label\"])\n",
    "        data ={'claim': claims, 'label':labels}\n",
    "        for i, row in enumerate(data['claim']):\n",
    "            df.loc[i] = [data['claim'][i], data['label'][i]]\n",
    "    df.to_excel(f'{file_name}.xlsx')\n"
   ]
  },
  {
   "cell_type": "code",
   "execution_count": 2,
   "metadata": {},
   "outputs": [
    {
     "data": {
      "text/plain": [
       "495"
      ]
     },
     "execution_count": 2,
     "metadata": {},
     "output_type": "execute_result"
    }
   ],
   "source": [
    "wrong_claims_dir = \"../test_metric_single_llm/with_mixtral_info/brave/data1-split=0.5:9.5-ratio=1.0/lora-r=2/openchat-3.5-0106-lr=2e-4.txt\"\n",
    "with open(wrong_claims_dir) as f:\n",
    "    wrong_claims = f.readlines()[2:]\n",
    "\n",
    "wrong_labels = [s[s.find(\"Label: \") + len(\"Label: \"): s.find(\". Pred\")].strip() for s in wrong_claims]\n",
    "wrong_preds = [s[s.find(\"Pred: \") + len(\"Pred: \"):s.find(\". Claim\")].strip() for s in wrong_claims]\n",
    "wrong_claims = [s[s.find(\"Claim: \") + len(\"Claim: \"):].strip() for s in wrong_claims]\n",
    "\n",
    "len(wrong_claims)\n"
   ]
  },
  {
   "cell_type": "markdown",
   "metadata": {},
   "source": [
    "模型分类错误的样例中不包含在先验知识与label不符的样例中的情况：如果这些样例均是label本身就正确，那么“先验知识与label不符”的策略可行"
   ]
  },
  {
   "cell_type": "code",
   "execution_count": 3,
   "metadata": {},
   "outputs": [],
   "source": [
    "diff_version = 1\n",
    "wrong_claims_diff = []\n",
    "data_diff = load_diff(\"llama3\", diff_version)\n",
    "cnt = 0\n",
    "\n",
    "check_claim_list = []\n",
    "check_preds_list = []\n",
    "check_labels_list = []\n",
    "\n",
    "for item in data_diff:\n",
    "    if item[\"match\"].lower() == \"no\":\n",
    "        wrong_claims_diff.append(item[\"claim\"])\n",
    "\n",
    "\n",
    "for i, claim in enumerate(wrong_claims):\n",
    "    if claim not in wrong_claims_diff: # 检查不在diff中的是不是都是对的\n",
    "        check_claim_list.append(claim)\n",
    "        check_preds_list.append(wrong_preds[i])\n",
    "        check_labels_list.append(wrong_labels[i])\n",
    "\n",
    "# save_excel(\"check_claim\", check_claim_list, check_labels_list, check_preds_list)"
   ]
  },
  {
   "cell_type": "markdown",
   "metadata": {},
   "source": [
    "先验知识与label不符的样例"
   ]
  },
  {
   "cell_type": "code",
   "execution_count": 5,
   "metadata": {},
   "outputs": [],
   "source": [
    "diff_version = 1\n",
    "wrong_claims_diff = []\n",
    "labels_diff = []\n",
    "data_diff = load_diff(\"llama3\", diff_version)\n",
    "\n",
    "for item in data_diff:\n",
    "    if item[\"match\"].lower() == \"no\":\n",
    "        wrong_claims_diff.append(item[\"claim\"])\n",
    "        label = int(item[\"label\"])\n",
    "        if label == 0:\n",
    "            label = \"FALSE\"\n",
    "        elif label == 2:\n",
    "            label = \"TRUE\"\n",
    "        else:\n",
    "            raise Exception()\n",
    "        labels_diff.append(label)\n",
    "\n",
    "save_excel(\"diff_llama3\", wrong_claims_diff, labels_diff)"
   ]
  },
  {
   "cell_type": "code",
   "execution_count": null,
   "metadata": {},
   "outputs": [],
   "source": [
    "websites = [\n",
    "    'politifact.com/factchecks', 'snopes.com/fact-check', 'factcheck.afp', 'africacheck', \n",
    "    'polygraph.info', \n",
    "    # 'reuters',  # \n",
    "    # 'washingtonpost', # \n",
    "    # 'google fact check', \n",
    "    'poynter',\n",
    "\n",
    "    \"factcheck\"\n",
    "]\n",
    "\n",
    "pending_ids = []\n",
    "pending_labels = []\n",
    "pending_preds = []\n",
    "\n",
    "def get_ans(result):\n",
    "    fact_check_list = [\"fact check\", \"factcheck\", \"fact-check\"]\n",
    "    for i in fact_check_list:\n",
    "        if i in result[\"title\"].lower():\n",
    "            return True\n",
    "\n",
    "    else:\n",
    "        for site in websites:\n",
    "            if site in result[\"url\"].lower():\n",
    "                return True\n",
    "    return False\n",
    "\n",
    "for c, claim in enumerate(wrong_claims):\n",
    "    for i in range(len(data_search)):\n",
    "        if claim.strip() in data_search[i][\"claim\"].strip():\n",
    "            results = data_search[i][f\"{search_engine}_search_results\"][\"web\"][\"results\"]\n",
    "            ok = False\n",
    "            for result in results:\n",
    "                if get_ans(result):\n",
    "                    ok = True\n",
    "                    break\n",
    "            if not ok:\n",
    "                pending_ids.append(i)\n",
    "                pending_labels.append(wrong_labels[c])\n",
    "                pending_preds.append(wrong_preds[c])\n",
    "            break\n"
   ]
  },
  {
   "cell_type": "code",
   "execution_count": null,
   "metadata": {},
   "outputs": [
    {
     "data": {
      "text/plain": [
       "299"
      ]
     },
     "execution_count": 4,
     "metadata": {},
     "output_type": "execute_result"
    }
   ],
   "source": [
    "pending_claims = [data_search[i][\"claim\"] for i in pending_ids]\n",
    "len(pending_claims)\n"
   ]
  },
  {
   "cell_type": "code",
   "execution_count": null,
   "metadata": {},
   "outputs": [
    {
     "name": "stdout",
     "output_type": "stream",
     "text": [
      "                                                 claim  label prediction\n",
      "0    Traffic images in Madrid for the start of Easter.  FALSE       TRUE\n",
      "1    A photograph shows the damage to a person's lu...   TRUE      FALSE\n",
      "2    There will be several thousand dollars in paym...   TRUE      FALSE\n",
      "3    One of the things we fixed -- if you look at t...  FALSE       TRUE\n",
      "4    CDC: COVID-19 Can Spread 13 Feet, Travel on Shoes   TRUE      FALSE\n",
      "..                                                 ...    ...        ...\n",
      "294  We inherited an obsolete deal [for testing] an...  FALSE       TRUE\n",
      "295   States Tighten Restrictions as Coronavirus Rages   TRUE      FALSE\n",
      "296                                   A headline reads  FALSE       TRUE\n",
      "297  Missouri Family Reports 8 COVID-19 Cases, 3 De...   TRUE      FALSE\n",
      "298  Hard-Hit Navajo Nation Reports Lower Case Numbers   TRUE      FALSE\n",
      "\n",
      "[299 rows x 3 columns]\n"
     ]
    }
   ],
   "source": [
    "import pandas as pd\n",
    "\n",
    "#创建一个空的 DataFrame\n",
    "df = pd.DataFrame(columns=[\"claim\", \"label\", \"prediction\"])\n",
    "#添加数据\n",
    "data ={'claim': pending_claims, 'label':pending_labels, 'prediction':pending_preds}\n",
    "\n",
    "for i, row in enumerate(data['claim']):\n",
    "    df.loc[i] = [data['claim'][i], data['label'][i], data['prediction'][i]]\n",
    "\n",
    "#输出 DataFrame\n",
    "print(df)\n",
    "df.to_excel('excel_output.xlsx')\n",
    "            "
   ]
  },
  {
   "cell_type": "code",
   "execution_count": null,
   "metadata": {},
   "outputs": [
    {
     "name": "stdout",
     "output_type": "stream",
     "text": [
      "Information 1, published in 2022, states that people with heart defects are at a greater risk for severe COVID-19, particularly if they have another underlying medical condition such as heart failure, pulmonary hypertension, Down syndrome, diabetes, or obesity. Information 2, published in 2022, discusses the potential for heart problems after COVID-19, including type 2 heart attacks caused by increased stress on the heart. Information 3, published in None, states that COVID-19 may increase the risk of a heart attack or stroke, particularly in people with pre-existing heart conditions such as heart failure, coronary artery disease, and overweight/obesity. Information 4, published in 2013, states that people with mental health and mood disorders, including schizophrenia, are at a higher risk for hospitalization and death from COVID-19 due to pre-existing conditions such as diabetes and heart problems. Information 5, published in None, states that people with pre-existing heart disease who become ill with COVID-19 may suffer a heart attack or develop congestive heart failure due to increased demands on the heart and low oxygen levels.\n",
      "\n",
      "The claim, published in 2020, states that heart defects do not increase the risk of severe COVID. However, the information provided in all the other sources contradicts this claim. Information 1, 2, 3, 4 and 5 all suggest that people with heart defects or pre-existing heart conditions are at a greater risk for severe COVID-19 or heart problems after COVID-19. Therefore, the claim is false.\n",
      "\n",
      "It is important to note that the information provided here is based on the publication dates of the sources and the information available at that time. The understanding of the relationship between heart defects and COVID-19 may have evolved since the claim was published in 2020.\n"
     ]
    }
   ],
   "source": [
    "s = \"Information 1, published in 2022, states that people with heart defects are at a greater risk for severe COVID-19, particularly if they have another underlying medical condition such as heart failure, pulmonary hypertension, Down syndrome, diabetes, or obesity. Information 2, published in 2022, discusses the potential for heart problems after COVID-19, including type 2 heart attacks caused by increased stress on the heart. Information 3, published in None, states that COVID-19 may increase the risk of a heart attack or stroke, particularly in people with pre-existing heart conditions such as heart failure, coronary artery disease, and overweight/obesity. Information 4, published in 2013, states that people with mental health and mood disorders, including schizophrenia, are at a higher risk for hospitalization and death from COVID-19 due to pre-existing conditions such as diabetes and heart problems. Information 5, published in None, states that people with pre-existing heart disease who become ill with COVID-19 may suffer a heart attack or develop congestive heart failure due to increased demands on the heart and low oxygen levels.\\n\\nThe claim, published in 2020, states that heart defects do not increase the risk of severe COVID. However, the information provided in all the other sources contradicts this claim. Information 1, 2, 3, 4 and 5 all suggest that people with heart defects or pre-existing heart conditions are at a greater risk for severe COVID-19 or heart problems after COVID-19. Therefore, the claim is false.\\n\\nIt is important to note that the information provided here is based on the publication dates of the sources and the information available at that time. The understanding of the relationship between heart defects and COVID-19 may have evolved since the claim was published in 2020.\"\n",
    "\n",
    "print(s)\n"
   ]
  }
 ],
 "metadata": {
  "kernelspec": {
   "display_name": "torch",
   "language": "python",
   "name": "python3"
  },
  "language_info": {
   "codemirror_mode": {
    "name": "ipython",
    "version": 3
   },
   "file_extension": ".py",
   "mimetype": "text/x-python",
   "name": "python",
   "nbconvert_exporter": "python",
   "pygments_lexer": "ipython3",
   "version": "3.11.5"
  }
 },
 "nbformat": 4,
 "nbformat_minor": 2
}
