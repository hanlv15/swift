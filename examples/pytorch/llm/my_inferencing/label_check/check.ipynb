{
 "cells": [
  {
   "cell_type": "code",
   "execution_count": 1,
   "metadata": {},
   "outputs": [],
   "source": [
    "import json\n",
    "\n",
    "search_engine = \"brave\"\n",
    "model_name = 'mixtral'\n",
    "\n",
    "with open(f\"/home/hanlv/workspace/data/machine_learning/dataset/research/misinformation_dataset/COVMIS-main/data/train_{search_engine}_search.json\", \"r\") as f:\n",
    "    data_search = json.load(f)\n"
   ]
  },
  {
   "cell_type": "code",
   "execution_count": 2,
   "metadata": {},
   "outputs": [
    {
     "data": {
      "text/plain": [
       "498"
      ]
     },
     "execution_count": 2,
     "metadata": {},
     "output_type": "execute_result"
    }
   ],
   "source": [
    "wrong_claims_dir = \"../test_metric_single_llm/with_mixtral_info/brave/data1-split=0.5:9.5-ratio=1.0/lora-r=2/openchat-3.5-0106-lr=2e-4.txt\"\n",
    "with open(wrong_claims_dir) as f:\n",
    "    wrong_claims = f.readlines()[2:]\n",
    "\n",
    "wrong_claims = [s[s.find(\"Claim: \") + len(\"Claim: \"):].strip() for s in wrong_claims]\n",
    "len(wrong_claims)\n"
   ]
  },
  {
   "cell_type": "code",
   "execution_count": 23,
   "metadata": {},
   "outputs": [],
   "source": [
    "websites = [\n",
    "    'politifact.com/factchecks', 'snopes.com/fact-check', 'factcheck.afp', 'africacheck', \n",
    "    'polygraph.info', \n",
    "    # 'reuters',  # \n",
    "    # 'washingtonpost', # \n",
    "    # 'google fact check', \n",
    "    'poynter'\n",
    "]\n",
    "\n",
    "pending_ids = []\n",
    "\n",
    "def get_ans(result):\n",
    "    if \"fact check\" in result[\"title\"].lower() or \"fact-check\" in result[\"title\"].lower():\n",
    "        return True\n",
    "    else:\n",
    "        for site in websites:\n",
    "            if site in result[\"url\"].lower():\n",
    "                return True\n",
    "    return False\n",
    "\n",
    "for claim in wrong_claims:\n",
    "    for i in range(len(data_search)):\n",
    "        if claim.strip() in data_search[i][\"claim\"].strip():\n",
    "            results = data_search[i][f\"{search_engine}_search_results\"][\"web\"][\"results\"]\n",
    "            ok = False\n",
    "            for result in results:\n",
    "                if get_ans(result):\n",
    "                    ok = True\n",
    "                    break\n",
    "            if not ok:\n",
    "                pending_ids.append(i)\n",
    "            break\n"
   ]
  },
  {
   "cell_type": "code",
   "execution_count": 24,
   "metadata": {},
   "outputs": [
    {
     "data": {
      "text/plain": [
       "307"
      ]
     },
     "execution_count": 24,
     "metadata": {},
     "output_type": "execute_result"
    }
   ],
   "source": [
    "pending_claims = [data_search[i][\"claim\"] for i in pending_ids]\n",
    "len(pending_claims)\n"
   ]
  }
 ],
 "metadata": {
  "kernelspec": {
   "display_name": "torch",
   "language": "python",
   "name": "python3"
  },
  "language_info": {
   "codemirror_mode": {
    "name": "ipython",
    "version": 3
   },
   "file_extension": ".py",
   "mimetype": "text/x-python",
   "name": "python",
   "nbconvert_exporter": "python",
   "pygments_lexer": "ipython3",
   "version": "3.10.14"
  }
 },
 "nbformat": 4,
 "nbformat_minor": 2
}
