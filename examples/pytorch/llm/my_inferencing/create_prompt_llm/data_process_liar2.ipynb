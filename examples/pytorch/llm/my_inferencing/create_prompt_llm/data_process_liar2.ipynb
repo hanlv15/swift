{
 "cells": [
  {
   "cell_type": "code",
   "execution_count": 1,
   "metadata": {},
   "outputs": [],
   "source": [
    "import pandas as pd\n",
    "import json\n",
    "import numpy as np\n",
    "import sys\n",
    "\n",
    "dirs = [\"..\"]\n",
    "for _dir in dirs:\n",
    "    if _dir not in sys.path:\n",
    "        sys.path.append(_dir)\n",
    "\n",
    "import liar2\n",
    "\n",
    "label_map = {0: 'pants-fire', 1: 'false', 2: 'barely-true', 3: 'half-true', 4: 'mostly-true', 5: 'true'}\n",
    "label_convert = {'pants-fire': 0, 'false': 1, 'barely-true': 2, 'half-true': 3, 'mostly-true': 4, 'true':5}\n"
   ]
  },
  {
   "cell_type": "markdown",
   "metadata": {},
   "source": [
    "将csv转成json\n",
    "\n",
    "只将 true 和 false 转成json"
   ]
  },
  {
   "cell_type": "code",
   "execution_count": 2,
   "metadata": {},
   "outputs": [],
   "source": [
    "def csv2json(data_type: str):\n",
    "    output_dir: str = liar2.get_data_dir(data_type)\n",
    "    csv_dir= output_dir.replace(\"json\", \"csv\")\n",
    "    \n",
    "    def save_json(data):\n",
    "        with open(output_dir, \"w\") as f:\n",
    "            json.dump(data, f, indent=4)\n",
    "            \n",
    "    df = pd.read_csv(csv_dir)\n",
    "    data_list = []\n",
    "\n",
    "    for index, row in df.iterrows():\n",
    "        if row[\"label\"] not in [label_convert[\"false\"], label_convert[\"true\"]]:\n",
    "            continue\n",
    "        item = row.to_dict()\n",
    "        for check_key in [\"subject\", \"state_info\", \"context\", \"speaker_description\"]:\n",
    "            if isinstance(item[check_key], float) and np.isnan(item[check_key]):\n",
    "                item[check_key] = \"\"\n",
    "        data_list.append(item)\n",
    "\n",
    "    save_json(data_list)\n",
    "    # return data_list\n",
    "\n"
   ]
  },
  {
   "cell_type": "code",
   "execution_count": 3,
   "metadata": {},
   "outputs": [],
   "source": [
    "# for data_type in liar2.type_list:\n",
    "#     csv2json(data_type)\n",
    "\n"
   ]
  },
  {
   "cell_type": "markdown",
   "metadata": {},
   "source": [
    "初始化 data search llm"
   ]
  },
  {
   "cell_type": "code",
   "execution_count": 4,
   "metadata": {},
   "outputs": [],
   "source": [
    "# for data_type in liar2.type_list:\n",
    "#     data = liar2.load_data(data_type)\n",
    "#     data_llm = [{\n",
    "#         \"id\": i[\"id\"],\n",
    "#     } for i in data]\n",
    "\n",
    "#     liar2.save_data_llm(data_llm, data_type)\n"
   ]
  },
  {
   "cell_type": "markdown",
   "metadata": {},
   "source": [
    "初始化 data search"
   ]
  },
  {
   "cell_type": "code",
   "execution_count": 5,
   "metadata": {},
   "outputs": [],
   "source": [
    "# # 初始化data_search_llm\n",
    "# for data_type in liar2.type_list:\n",
    "#     data = liar2.load_data(data_type)\n",
    "#     data_search = [{\n",
    "#         \"id\": i[\"id\"],\n",
    "#     } for i in data]\n",
    "\n",
    "#     liar2.save_data_search(data_search, data_type)"
   ]
  }
 ],
 "metadata": {
  "kernelspec": {
   "display_name": "swift",
   "language": "python",
   "name": "python3"
  },
  "language_info": {
   "codemirror_mode": {
    "name": "ipython",
    "version": 3
   },
   "file_extension": ".py",
   "mimetype": "text/x-python",
   "name": "python",
   "nbconvert_exporter": "python",
   "pygments_lexer": "ipython3",
   "version": "3.11.9"
  }
 },
 "nbformat": 4,
 "nbformat_minor": 2
}
