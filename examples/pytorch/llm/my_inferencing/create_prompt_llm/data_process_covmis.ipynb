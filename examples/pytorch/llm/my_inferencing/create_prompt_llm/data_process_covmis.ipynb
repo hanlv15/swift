{
 "cells": [
  {
   "cell_type": "code",
   "execution_count": 1,
   "metadata": {},
   "outputs": [],
   "source": [
    "import json\n",
    "import sys\n",
    "from datetime import datetime\n",
    "\n",
    "dirs = [\"..\"]\n",
    "for _dir in dirs:\n",
    "    if _dir not in sys.path:\n",
    "        sys.path.append(_dir)\n",
    "\n",
    "import covmis\n"
   ]
  },
  {
   "cell_type": "markdown",
   "metadata": {},
   "source": [
    "初始化 data_llm"
   ]
  },
  {
   "cell_type": "code",
   "execution_count": 2,
   "metadata": {},
   "outputs": [],
   "source": [
    "# data_train = covmis.load_data(data_type='test')\n",
    "# data_train_llm = [{\n",
    "#     \"id\": i[\"id\"],\n",
    "# } for i in data_train]\n",
    "\n",
    "# covmis.save_data_llm(data_train_llm, data_type='test')\n"
   ]
  },
  {
   "cell_type": "markdown",
   "metadata": {},
   "source": [
    "初始化 data_search"
   ]
  },
  {
   "cell_type": "code",
   "execution_count": 3,
   "metadata": {},
   "outputs": [],
   "source": [
    "# data = covmis.load_data(data_type='test')\n",
    "# data_search = [{\n",
    "#     \"id\": i[\"id\"],\n",
    "# } for i in data]\n",
    "\n",
    "# covmis.save_data_search(data_search, data_type='test')\n"
   ]
  },
  {
   "cell_type": "markdown",
   "metadata": {},
   "source": [
    "处理 dataset"
   ]
  },
  {
   "cell_type": "code",
   "execution_count": 6,
   "metadata": {},
   "outputs": [],
   "source": [
    "data_type='test'\n",
    "search_date = datetime.today().date()\n",
    "\n",
    "data = covmis.load_data(data_type)\n",
    "# data_bak = covmis.load_data(data_type, version=\"original\")\n",
    "data_search = covmis.load_data_search(data_type, search_date)\n",
    "\n"
   ]
  },
  {
   "cell_type": "code",
   "execution_count": 5,
   "metadata": {},
   "outputs": [],
   "source": [
    "# covmis.save_data_search(data_search, data_type)\n"
   ]
  },
  {
   "cell_type": "markdown",
   "metadata": {},
   "source": [
    "将 covmis-2024 分成 8:1:1，并json转csv"
   ]
  },
  {
   "cell_type": "code",
   "execution_count": 9,
   "metadata": {},
   "outputs": [],
   "source": [
    "from sklearn.model_selection import train_test_split\n",
    "import pandas as pd\n",
    "\n",
    "training_dir = '/home/hanlv/workspace/data/machine_learning/dataset/research/misinformation_dataset/COVMIS-2024/training/'\n",
    "\n",
    "DEFAULT_SEED = 42\n",
    "LABEL_TRUE = 2\n",
    "LABEL_FALSE = 0\n",
    "true_labels_original = [LABEL_TRUE]\n",
    "false_labels_original = [LABEL_FALSE]\n",
    "\n",
    "data = covmis.load_train()\n",
    "\n",
    "data_train = []\n",
    "for item in data:\n",
    "    if item[\"label\"] in (true_labels_original + false_labels_original):\n",
    "        data_train.append(item)\n",
    "\n",
    "train_list, test_list = train_test_split(data_train, test_size=0.2, random_state=DEFAULT_SEED, shuffle=True)\n",
    "valid_list, test_list = train_test_split(test_list, test_size=0.5, random_state=DEFAULT_SEED, shuffle=True)\n",
    "\n",
    "# 保存json\n",
    "# with open(training_dir + 'train.json', 'w') as f:\n",
    "#     json.dump(train_list, f, indent=4)\n",
    "\n",
    "# with open(training_dir + 'valid.json', 'w') as f:\n",
    "#     json.dump(valid_list, f, indent=4)\n",
    "\n",
    "# with open(training_dir + 'test.json', 'w') as f:\n",
    "#     json.dump(test_list, f, indent=4)\n",
    "\n",
    "# 保存csv\n",
    "# pd.DataFrame(train_list).to_csv(training_dir + 'train.csv', index=False)\n",
    "# pd.DataFrame(valid_list).to_csv(training_dir + 'valid.csv', index=False)\n",
    "# pd.DataFrame(test_list).to_csv(training_dir + 'test.csv', index=False)\n"
   ]
  }
 ],
 "metadata": {
  "kernelspec": {
   "display_name": "swift",
   "language": "python",
   "name": "python3"
  },
  "language_info": {
   "codemirror_mode": {
    "name": "ipython",
    "version": 3
   },
   "file_extension": ".py",
   "mimetype": "text/x-python",
   "name": "python",
   "nbconvert_exporter": "python",
   "pygments_lexer": "ipython3",
   "version": "3.11.9"
  }
 },
 "nbformat": 4,
 "nbformat_minor": 2
}
