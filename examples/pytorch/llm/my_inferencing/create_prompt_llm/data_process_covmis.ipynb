{
 "cells": [
  {
   "cell_type": "code",
   "execution_count": 2,
   "metadata": {},
   "outputs": [],
   "source": [
    "import json\n",
    "import sys\n",
    "\n",
    "dirs = [\"..\"]\n",
    "for _dir in dirs:\n",
    "    if _dir not in sys.path:\n",
    "        sys.path.append(_dir)\n",
    "\n",
    "import covmis\n"
   ]
  },
  {
   "cell_type": "markdown",
   "metadata": {},
   "source": [
    "初始化 data_llm"
   ]
  },
  {
   "cell_type": "code",
   "execution_count": 4,
   "metadata": {},
   "outputs": [],
   "source": [
    "# data_train = covmis.load_train()\n",
    "# data_train_llm = [{\n",
    "#     \"id\": i[\"id\"],\n",
    "# } for i in data_train]\n",
    "\n",
    "# covmis.save_train_llm(data_train_llm)\n"
   ]
  },
  {
   "cell_type": "markdown",
   "metadata": {},
   "source": [
    "处理 dataset"
   ]
  },
  {
   "cell_type": "code",
   "execution_count": 3,
   "metadata": {},
   "outputs": [
    {
     "data": {
      "text/plain": [
       "'There was a false study done where they gave it to very sick people -- extremely sick people, people that were ready to die. It was given by, obviously, not friends of the administration. And the study came out. The people were ready to die. Everybody was old, had bad problems with hearts, diabetes, and everything else you can imagine. So they gave it. So, immediately, when it came out, they gave a lot of false information, just so you understand. Great studies came out of Italy on hydroxy.'"
      ]
     },
     "execution_count": 3,
     "metadata": {},
     "output_type": "execute_result"
    }
   ],
   "source": [
    "data_train = covmis.load_train()\n",
    "data_train_bak = covmis.load_train(version=\"original\")\n",
    "data_search = covmis.load_train_search()\n",
    "\n",
    "\n",
    "for i, item in enumerate(data_train):\n",
    "    item[\"claim\"] = item[\"claim\"].strip()\n",
    "\n",
    "data_train[7630][\"claim\"]\n"
   ]
  },
  {
   "cell_type": "code",
   "execution_count": 4,
   "metadata": {},
   "outputs": [],
   "source": [
    "# covmis.save_train(data_train)\n"
   ]
  },
  {
   "cell_type": "markdown",
   "metadata": {},
   "source": [
    "将 covmis-2024 分成 8:1:1，并json转csv"
   ]
  },
  {
   "cell_type": "code",
   "execution_count": 9,
   "metadata": {},
   "outputs": [],
   "source": [
    "from sklearn.model_selection import train_test_split\n",
    "import pandas as pd\n",
    "\n",
    "training_dir = '/home/hanlv/workspace/data/machine_learning/dataset/research/misinformation_dataset/COVMIS-2024/training/'\n",
    "\n",
    "DEFAULT_SEED = 42\n",
    "LABEL_TRUE = 2\n",
    "LABEL_FALSE = 0\n",
    "true_labels_original = [LABEL_TRUE]\n",
    "false_labels_original = [LABEL_FALSE]\n",
    "\n",
    "data = covmis.load_train()\n",
    "\n",
    "data_train = []\n",
    "for item in data:\n",
    "    if item[\"label\"] in (true_labels_original + false_labels_original):\n",
    "        data_train.append(item)\n",
    "\n",
    "train_list, test_list = train_test_split(data_train, test_size=0.2, random_state=DEFAULT_SEED, shuffle=True)\n",
    "valid_list, test_list = train_test_split(test_list, test_size=0.5, random_state=DEFAULT_SEED, shuffle=True)\n",
    "\n",
    "# 保存json\n",
    "# with open(training_dir + 'train.json', 'w') as f:\n",
    "#     json.dump(train_list, f, indent=4)\n",
    "\n",
    "# with open(training_dir + 'valid.json', 'w') as f:\n",
    "#     json.dump(valid_list, f, indent=4)\n",
    "\n",
    "# with open(training_dir + 'test.json', 'w') as f:\n",
    "#     json.dump(test_list, f, indent=4)\n",
    "\n",
    "# 保存csv\n",
    "# pd.DataFrame(train_list).to_csv(training_dir + 'train.csv', index=False)\n",
    "# pd.DataFrame(valid_list).to_csv(training_dir + 'valid.csv', index=False)\n",
    "# pd.DataFrame(test_list).to_csv(training_dir + 'test.csv', index=False)\n"
   ]
  }
 ],
 "metadata": {
  "kernelspec": {
   "display_name": "swift",
   "language": "python",
   "name": "python3"
  },
  "language_info": {
   "codemirror_mode": {
    "name": "ipython",
    "version": 3
   },
   "file_extension": ".py",
   "mimetype": "text/x-python",
   "name": "python",
   "nbconvert_exporter": "python",
   "pygments_lexer": "ipython3",
   "version": "3.11.9"
  }
 },
 "nbformat": 4,
 "nbformat_minor": 2
}
