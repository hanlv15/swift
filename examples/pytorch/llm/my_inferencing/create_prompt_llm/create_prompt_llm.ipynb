{
 "cells": [
  {
   "cell_type": "code",
   "execution_count": 1,
   "metadata": {},
   "outputs": [],
   "source": [
    "import json\n",
    "import jsonlines\n",
    "import sys\n",
    "\n",
    "# dirs = [\"..\", \"/home/hanlv/workspace/code/research/infodemic/LLM/swift/examples/pytorch/llm/my_inferencing/create_prompt_llm\"]\n",
    "# for _dir in dirs:\n",
    "#     if _dir not in sys.path:\n",
    "#         sys.path.append(_dir)\n",
    "import prompt_rag\n",
    "\n",
    "search_engine = \"brave\"\n",
    "\n",
    "with open(f\"/home/hanlv/workspace/data/machine_learning/dataset/research/misinformation_dataset/COVMIS-main/data/train_{search_engine}_search.json\", \"r\") as f:\n",
    "    data_search = json.load(f)\n",
    "\n",
    "try:\n",
    "    with open(f\"/home/hanlv/workspace/data/machine_learning/dataset/research/misinformation_dataset/COVMIS-main/data/train_{search_engine}_search_llm.json\", \"r\") as f:\n",
    "        data_search_llm = json.load(f)\n",
    "except:\n",
    "    data_search_llm = [{\n",
    "        \"claim\": i[\"claim\"],\n",
    "        \"claimant\": i[\"claimant\"],\n",
    "        \"label\": i[\"label\"],\n",
    "        \"date\": i[\"date\"],\n",
    "    } for i in data_search]\n",
    "    with open(f\"/home/hanlv/workspace/data/machine_learning/dataset/research/misinformation_dataset/COVMIS-main/data/train_{search_engine}_search_llm.json\", \"w\") as f:\n",
    "        json.dump(data_search_llm, f, indent=4)\n"
   ]
  },
  {
   "cell_type": "code",
   "execution_count": 2,
   "metadata": {},
   "outputs": [],
   "source": [
    "# prompt_rag.update_train_search_llm( \n",
    "#     \"SOLAR-10.7B-Instruct-v1.0\", \"solar\", port=8001, \n",
    "#     data_search=data_search, data_search_llm=data_search_llm) \n",
    "\n"
   ]
  },
  {
   "cell_type": "markdown",
   "metadata": {},
   "source": [
    "合并多个文件的先验知识"
   ]
  },
  {
   "cell_type": "code",
   "execution_count": 3,
   "metadata": {},
   "outputs": [],
   "source": [
    "# bing search llm\n",
    "# v2: k = 5\n",
    "# v3: 不对时间排序\n",
    "\n",
    "# brave search llm\n",
    "# v1: k = 5\n",
    "# v2: k = 5 随机选取\n",
    "\n",
    "sort = False\n",
    "prior_knowledge_list = []\n",
    "\n",
    "K = 5\n",
    "prior_knowledge_version = 1\n",
    "\n",
    "num_part = 3\n",
    "\n",
    "# for i in range(1, num_part + 1):\n",
    "#     with open(f\"{search_engine}/prior_knowledge/random/train_search_llm_v{i}.json\", \"r\") as f:\n",
    "#         prior_knowledge_list.extend(json.load(f))\n",
    "\n",
    "# for i, item in enumerate(data_search_llm):\n",
    "#     if item[\"claim\"] != prior_knowledge_list[i][\"claim\"].strip():\n",
    "#         print(i)\n",
    "#         print(item[\"claim\"])\n",
    "#         print(prior_knowledge_list[i][\"claim\"])\n",
    "#         raise Exception()\n",
    "#     else:\n",
    "#         item[f\"prior_knowledge_solar_v{prior_knowledge_version}_K={K}\"] = prior_knowledge_list[i][\"prior_knowledge_solar\"]\n",
    "\n",
    "# data_search_llm[0]\n"
   ]
  },
  {
   "cell_type": "code",
   "execution_count": 4,
   "metadata": {},
   "outputs": [],
   "source": [
    "# prompt_rag.save_search_llm(data_search_llm, search_engine)\n"
   ]
  },
  {
   "cell_type": "markdown",
   "metadata": {},
   "source": [
    "创建数据（带有先验知识的Prompt）以微调LLM"
   ]
  },
  {
   "cell_type": "code",
   "execution_count": 5,
   "metadata": {},
   "outputs": [],
   "source": [
    "# dict_list = []\n",
    "\n",
    "# for i, item in enumerate(data_search_llm):\n",
    "    \n",
    "#     if int(item[\"label\"]) != 1:\n",
    "#         prompt = prompt_rag.get_prompt_with_prior_knowledge(\n",
    "#             item[\"claim\"], \n",
    "#             search_engine,\n",
    "#             data_search[i][f\"{search_engine}_search_results\"], \n",
    "#             item[f\"prior_knowledge_solar_v{prior_knowledge_version}_K={K}\"], \n",
    "#             K=K,\n",
    "#             claim_date=item[\"date\"],\n",
    "#             sort=sort,\n",
    "#             ids=data_search[i][\"random_ids\"] # 随机选取\n",
    "#         )\n",
    "#         label = \"TRUE.\" if int(item[\"label\"]) == 2 else \"FALSE.\"\n",
    "#         dict_list.append({\"query\": prompt, \"response\": label})\n",
    "# print(dict_list[0][\"query\"])\n",
    "# len(dict_list), dict_list[:2]\n"
   ]
  },
  {
   "cell_type": "code",
   "execution_count": 6,
   "metadata": {},
   "outputs": [],
   "source": [
    "# LLM_dir = \"/home/hanlv/workspace/code/research/infodemic/LLM/\"\n",
    "# data_version = \"2\"\n",
    "# with jsonlines.open(\n",
    "#     LLM_dir + \\\n",
    "#     f\"swift/examples/pytorch/llm/my_data/with_solar_info/{search_engine}/data{data_version}.jsonl\", mode=\"w\") as file_jsonl:\n",
    "#     for line in dict_list:\n",
    "#         file_jsonl.write(line)\n"
   ]
  },
  {
   "cell_type": "markdown",
   "metadata": {},
   "source": [
    "测试模型的先验知识生成效果：一次提问"
   ]
  },
  {
   "cell_type": "code",
   "execution_count": 7,
   "metadata": {},
   "outputs": [
    {
     "name": "stderr",
     "output_type": "stream",
     "text": [
      "2024-03-27 20:36:41,320 - modelscope - INFO - PyTorch version 2.1.2 Found.\n",
      "2024-03-27 20:36:41,321 - modelscope - INFO - Loading ast index from /home/hanlv/.cache/modelscope/ast_indexer\n",
      "2024-03-27 20:36:41,357 - modelscope - INFO - Loading done! Current index file version is 1.13.1, with md5 ad87f4a589251d86333765b92ab59e41 and a total number of 972 components indexed\n",
      "[INFO:swift] Loading the model using model_dir: /home/css/models/SOLAR-10.7B-Instruct-v1.0\n",
      "[INFO:swift] Setting torch_dtype: torch.float16\n",
      "[INFO:swift] model_config: LlamaConfig {\n",
      "  \"_name_or_path\": \"/home/css/models/SOLAR-10.7B-Instruct-v1.0\",\n",
      "  \"architectures\": [\n",
      "    \"LlamaForCausalLM\"\n",
      "  ],\n",
      "  \"attention_bias\": false,\n",
      "  \"attention_dropout\": 0.0,\n",
      "  \"bos_token_id\": 1,\n",
      "  \"eos_token_id\": 2,\n",
      "  \"hidden_act\": \"silu\",\n",
      "  \"hidden_size\": 4096,\n",
      "  \"initializer_range\": 0.02,\n",
      "  \"intermediate_size\": 14336,\n",
      "  \"max_position_embeddings\": 4096,\n",
      "  \"model_type\": \"llama\",\n",
      "  \"num_attention_heads\": 32,\n",
      "  \"num_hidden_layers\": 48,\n",
      "  \"num_key_value_heads\": 8,\n",
      "  \"pad_token_id\": 2,\n",
      "  \"pretraining_tp\": 1,\n",
      "  \"rms_norm_eps\": 1e-05,\n",
      "  \"rope_scaling\": null,\n",
      "  \"rope_theta\": 10000.0,\n",
      "  \"tie_word_embeddings\": false,\n",
      "  \"torch_dtype\": \"float16\",\n",
      "  \"transformers_version\": \"4.39.1\",\n",
      "  \"use_cache\": true,\n",
      "  \"vocab_size\": 32000\n",
      "}\n",
      "\n"
     ]
    },
    {
     "name": "stdout",
     "output_type": "stream",
     "text": [
      "INFO 03-27 20:36:41 config.py:433] Custom all-reduce kernels are temporarily disabled due to stability issues. We will re-enable them once the issues are resolved.\n"
     ]
    },
    {
     "name": "stderr",
     "output_type": "stream",
     "text": [
      "2024-03-27 20:36:44,810\tINFO worker.py:1724 -- Started a local Ray instance.\n"
     ]
    },
    {
     "name": "stdout",
     "output_type": "stream",
     "text": [
      "INFO 03-27 20:36:46 llm_engine.py:87] Initializing an LLM engine with config: model='/home/css/models/SOLAR-10.7B-Instruct-v1.0', tokenizer='/home/css/models/SOLAR-10.7B-Instruct-v1.0', tokenizer_mode=auto, revision=None, tokenizer_revision=None, trust_remote_code=True, dtype=torch.float16, max_seq_len=4096, download_dir=None, load_format=auto, tensor_parallel_size=2, disable_custom_all_reduce=True, quantization=None, enforce_eager=False, kv_cache_dtype=auto, device_config=cuda, seed=42)\n"
     ]
    },
    {
     "name": "stderr",
     "output_type": "stream",
     "text": [
      "\u001b[33m(raylet)\u001b[0m [2024-03-27 20:36:53,707 E 1733951 1733990] (raylet) file_system_monitor.cc:111: /tmp/ray/session_2024-03-27_20-36-41_918744_1733345 is over 95% full, available space: 85305532416; capacity: 1967317549056. Object creation will fail if spilling is required.\n",
      "\u001b[33m(raylet)\u001b[0m [2024-03-27 20:37:03,754 E 1733951 1733990] (raylet) file_system_monitor.cc:111: /tmp/ray/session_2024-03-27_20-36-41_918744_1733345 is over 95% full, available space: 85304872960; capacity: 1967317549056. Object creation will fail if spilling is required.\n",
      "\u001b[33m(raylet)\u001b[0m [2024-03-27 20:37:13,814 E 1733951 1733990] (raylet) file_system_monitor.cc:111: /tmp/ray/session_2024-03-27_20-36-41_918744_1733345 is over 95% full, available space: 85304832000; capacity: 1967317549056. Object creation will fail if spilling is required.\n",
      "\u001b[33m(raylet)\u001b[0m [2024-03-27 20:37:23,907 E 1733951 1733990] (raylet) file_system_monitor.cc:111: /tmp/ray/session_2024-03-27_20-36-41_918744_1733345 is over 95% full, available space: 85304795136; capacity: 1967317549056. Object creation will fail if spilling is required.\n",
      "\u001b[33m(raylet)\u001b[0m [2024-03-27 20:37:33,950 E 1733951 1733990] (raylet) file_system_monitor.cc:111: /tmp/ray/session_2024-03-27_20-36-41_918744_1733345 is over 95% full, available space: 85303926784; capacity: 1967317549056. Object creation will fail if spilling is required.\n"
     ]
    },
    {
     "name": "stdout",
     "output_type": "stream",
     "text": [
      "INFO 03-27 20:37:41 llm_engine.py:357] # GPU blocks: 7315, # CPU blocks: 2730\n"
     ]
    },
    {
     "name": "stderr",
     "output_type": "stream",
     "text": [
      "\u001b[33m(raylet)\u001b[0m [2024-03-27 20:37:43,979 E 1733951 1733990] (raylet) file_system_monitor.cc:111: /tmp/ray/session_2024-03-27_20-36-41_918744_1733345 is over 95% full, available space: 85303365632; capacity: 1967317549056. Object creation will fail if spilling is required.\n"
     ]
    },
    {
     "name": "stdout",
     "output_type": "stream",
     "text": [
      "INFO 03-27 20:37:44 model_runner.py:684] Capturing the model for CUDA graphs. This may lead to unexpected consequences if the model is not static. To run the model in eager mode, set 'enforce_eager=True' or use '--enforce-eager' in the CLI.\n",
      "INFO 03-27 20:37:44 model_runner.py:688] CUDA graphs can take additional 1~3 GiB memory per GPU. If you are running out of memory, consider decreasing `gpu_memory_utilization` or enforcing eager mode. You can also reduce the `max_num_seqs` as needed to decrease memory usage.\n",
      "\u001b[36m(RayWorkerVllm pid=1737485)\u001b[0m INFO 03-27 20:37:44 model_runner.py:684] Capturing the model for CUDA graphs. This may lead to unexpected consequences if the model is not static. To run the model in eager mode, set 'enforce_eager=True' or use '--enforce-eager' in the CLI.\n",
      "\u001b[36m(RayWorkerVllm pid=1737485)\u001b[0m INFO 03-27 20:37:44 model_runner.py:688] CUDA graphs can take additional 1~3 GiB memory per GPU. If you are running out of memory, consider decreasing `gpu_memory_utilization` or enforcing eager mode. You can also reduce the `max_num_seqs` as needed to decrease memory usage.\n",
      "\u001b[36m(RayWorkerVllm pid=1737485)\u001b[0m INFO 03-27 20:37:53 model_runner.py:756] Graph capturing finished in 9 secs.\n",
      "INFO 03-27 20:37:54 model_runner.py:756] Graph capturing finished in 10 secs.\n"
     ]
    },
    {
     "name": "stderr",
     "output_type": "stream",
     "text": [
      "\u001b[33m(raylet)\u001b[0m [2024-03-27 20:37:53,988 E 1733951 1733990] (raylet) file_system_monitor.cc:111: /tmp/ray/session_2024-03-27_20-36-41_918744_1733345 is over 95% full, available space: 85302706176; capacity: 1967317549056. Object creation will fail if spilling is required.\n"
     ]
    }
   ],
   "source": [
    "import torch\n",
    "import os\n",
    "import sys\n",
    "os.environ['CUDA_VISIBLE_DEVICES'] = '1,2'\n",
    "\n",
    "dirs = [\"../..\"]\n",
    "for _dir in dirs:\n",
    "    if _dir not in sys.path:\n",
    "        sys.path.append(_dir)\n",
    "\n",
    "from swift.llm import (\n",
    "    ModelType, get_vllm_engine, get_default_template_type,\n",
    "    get_template, inference_vllm, VllmGenerationConfig\n",
    ")\n",
    "from custom import CustomModelType, CustomTemplateType\n",
    "\n",
    "model_type = CustomModelType.solar_instruct_10_7b\n",
    "llm_engine = get_vllm_engine(\n",
    "    model_type, \n",
    "    torch_dtype=torch.float16,  # 检查正确的数据类型！！！！\n",
    "    tensor_parallel_size=2,\n",
    "    \n",
    "    engine_kwargs = {\n",
    "        # \"enforce_eager\": True,\n",
    "        \"max_num_seqs\": 64,\n",
    "        \"seed\": 42,\n",
    "    }\n",
    ")\n",
    "\n",
    "template_type = get_default_template_type(model_type)\n",
    "template = get_template(template_type, llm_engine.hf_tokenizer)\n",
    "\n",
    "generation_config = VllmGenerationConfig(\n",
    "    max_new_tokens=4096,\n",
    "    temperature=0,\n",
    ")\n"
   ]
  },
  {
   "cell_type": "code",
   "execution_count": 8,
   "metadata": {},
   "outputs": [
    {
     "name": "stdout",
     "output_type": "stream",
     "text": [
      "Below is a CLAIM and some INFORMATION searched online. These pieces of INFORMATION are relevant to the CLAIM. This CLAIM and all INFORMATION include their respective publication dates and contents. To classify the CLAIM more accurately (if the content described by the CLAIM is correct, it will be classified as TRUE; if the content described by the CLAIM is incorrect, it will be classified as FALSE), please first expand on the given INFORMATION and provide a detailed summary of it. Then analyze, reason, and provide reasonable evidence to judge the correctness of the CLAIM based on the available information and your knowledge, and finally generate prior knowledge that helps classify the CLAIM.\n",
      "\n",
      "CLAIM:\n",
      "Publication date: 2020-08-13\n",
      "Content: Illinois Strengthens Face Mask Rules in Businesses\n",
      "\n",
      "INFORMATION:\n",
      "Information 1:\n",
      "Publication date: 2013-08-06\n",
      "Title: Illinois Strengthens Face Mask Rules in Businesses - WebMD\n",
      "Content:\n",
      "COVID-19 is a new type of coronavirus that causes mild to severe cases. Here’s a quick guide on how to spot symptoms, risk factors, prevent spread of the disease, and find out what to do if you think you have it.\n",
      "Information 2:\n",
      "Publication date: None\n",
      "Title: press-release\n",
      "Content:\n",
      "Illinoisans can resume activities without wearing a mask indoors on February 28th except where required by federal, state, local, tribal, or territorial laws, rules, and regulations, including local business and workplace guidance. Federal requirements, in effect through at least March 18, include all transportation systems such as airports, planes, trains, and buses. \"Preparing to repeal statewide masking mandates at the end of the month is aggressive and optimistic but reasonable,\" said Dr.\n",
      "\"Broad mandates are not about individuals. They are put in place to help protect communities, businesses, and healthcare access. Repealing the mask mandate allows people to choose the mitigation layers that are best for them and I have no doubt that many should and will choose to keep mask rules.\"\n",
      "If these trends continue — and we expect them to —then on Monday, February 28th, we will lift the indoor mask requirement for the State of Illinois,\" said Governor JB Pritzker. \"I want to be clear: Many local jurisdictions, businesses and organizations have their own mask requirements and other mitigations that must be respected.\n",
      "Seth Trueger, a Northwestern emergency physician who is also immunocompromised. \"Masking has helped slow the spread even in the face of omicron's transmissibility. We can and must use this time to further increase vaccination uptake & outreach, especially among children and other populations with low vaccination rates, so when the next wave comes, we will be even better prepared.\"\n",
      "Information 3:\n",
      "Publication date: None\n",
      "Title: Mask and Vaccine Requirements FAQ's\n",
      "Content:\n",
      "On September 3, 2021, the Governor signed Executive Order 21-22 which requires all individuals over the age of 2 and who can medically tolerate a face covering to wear a face covering when in indoor public places. The Executive Order also requires health care workers, school personnel, higher education personnel and students, and employees and contractors of state-owned or operated congregate facilities to be fully vaccinated, as described in the Order\n",
      "Information 4:\n",
      "Publication date: None\n",
      "Title: FAQ for Businesses Concerning Use of Face-Coverings During COVID-19\n",
      "Content:\n",
      "A: Businesses reserve the right to refuse service to persons unable to comply with the requirement to wear a face covering, but they are required to provide a reasonable accommodation if it does not cause an undue hardship. Businesses are encouraged to inform customers there are exceptions to the requirement that all individuals must wear a mask.\n",
      "These frequently asked questions are to provide guidance regarding the application of the face covering requirement in Executive Order 2021-10 for businesses and other places of public accommodation subject to Article 5 of the Illinois Human Rights Act, 775 ILCS 5/. A: A face covering is a mask or cloth face covering that covers your nose and mouth.\n",
      "Exceptions may be made for individuals with medical conditions or disabilities that prevent them from safely wearing a face covering. For more information, refer to the questions on reasonable accommodations. A: Masks still must be worn by everyone on planes, buses, trains, and other forms of public transportation; in transportation hubs, such as airports and train and bus stations; in health care settings; and in congregate facilities, such as correctional facilities and homeless shelters.\n",
      "These frequently asked questions are to provide guidance regarding the application of the face covering requirement in Executive Order 2021-10 for businesses and other places of public accommodation subject to Article 5 of the Illinois Human Rights Act, 775 ILCS 5/. When Face Coverings are Required Q: What does it mean to wear a face covering?\n",
      "Information 5:\n",
      "Publication date: 2020-04-22\n",
      "Title: Facing Your Face Mask Duties – A List of Statewide Orders | Littler ...\n",
      "Content:\n",
      "********************************************************NOTE: Given the reduction in activity on this topic,THIS POST WILL NO LONGER BE UPDATED, as of November 10, 2022.********************************************************Governors and public health officials across the country implemented stringent mitigation measures to help contain the spread of COVID-19.\n",
      "\n"
     ]
    },
    {
     "name": "stderr",
     "output_type": "stream",
     "text": [
      "\u001b[33m(raylet)\u001b[0m [2024-03-27 20:38:03,997 E 1733951 1733990] (raylet) file_system_monitor.cc:111: /tmp/ray/session_2024-03-27_20-36-41_918744_1733345 is over 95% full, available space: 85302292480; capacity: 1967317549056. Object creation will fail if spilling is required.\n",
      "\u001b[33m(raylet)\u001b[0m [2024-03-27 20:38:14,005 E 1733951 1733990] (raylet) file_system_monitor.cc:111: /tmp/ray/session_2024-03-27_20-36-41_918744_1733345 is over 95% full, available space: 85302026240; capacity: 1967317549056. Object creation will fail if spilling is required.\n",
      "\u001b[33m(raylet)\u001b[0m [2024-03-27 20:38:24,013 E 1733951 1733990] (raylet) file_system_monitor.cc:111: /tmp/ray/session_2024-03-27_20-36-41_918744_1733345 is over 95% full, available space: 85301501952; capacity: 1967317549056. Object creation will fail if spilling is required.\n",
      "\u001b[33m(raylet)\u001b[0m [2024-03-27 20:38:34,021 E 1733951 1733990] (raylet) file_system_monitor.cc:111: /tmp/ray/session_2024-03-27_20-36-41_918744_1733345 is over 95% full, available space: 85301190656; capacity: 1967317549056. Object creation will fail if spilling is required.\n",
      "\u001b[33m(raylet)\u001b[0m [2024-03-27 20:38:44,057 E 1733951 1733990] (raylet) file_system_monitor.cc:111: /tmp/ray/session_2024-03-27_20-36-41_918744_1733345 is over 95% full, available space: 85300535296; capacity: 1967317549056. Object creation will fail if spilling is required.\n",
      "\u001b[33m(raylet)\u001b[0m [2024-03-27 20:38:54,107 E 1733951 1733990] (raylet) file_system_monitor.cc:111: /tmp/ray/session_2024-03-27_20-36-41_918744_1733345 is over 95% full, available space: 85300244480; capacity: 1967317549056. Object creation will fail if spilling is required.\n",
      "\u001b[33m(raylet)\u001b[0m [2024-03-27 20:39:04,168 E 1733951 1733990] (raylet) file_system_monitor.cc:111: /tmp/ray/session_2024-03-27_20-36-41_918744_1733345 is over 95% full, available space: 85300019200; capacity: 1967317549056. Object creation will fail if spilling is required.\n",
      "\u001b[33m(raylet)\u001b[0m [2024-03-27 20:39:14,226 E 1733951 1733990] (raylet) file_system_monitor.cc:111: /tmp/ray/session_2024-03-27_20-36-41_918744_1733345 is over 95% full, available space: 85299482624; capacity: 1967317549056. Object creation will fail if spilling is required.\n",
      "\u001b[33m(raylet)\u001b[0m [2024-03-27 20:39:24,318 E 1733951 1733990] (raylet) file_system_monitor.cc:111: /tmp/ray/session_2024-03-27_20-36-41_918744_1733345 is over 95% full, available space: 85299236864; capacity: 1967317549056. Object creation will fail if spilling is required.\n",
      "\u001b[33m(raylet)\u001b[0m [2024-03-27 20:39:34,325 E 1733951 1733990] (raylet) file_system_monitor.cc:111: /tmp/ray/session_2024-03-27_20-36-41_918744_1733345 is over 95% full, available space: 85299003392; capacity: 1967317549056. Object creation will fail if spilling is required.\n",
      "\u001b[33m(raylet)\u001b[0m [2024-03-27 20:39:44,333 E 1733951 1733990] (raylet) file_system_monitor.cc:111: /tmp/ray/session_2024-03-27_20-36-41_918744_1733345 is over 95% full, available space: 85298475008; capacity: 1967317549056. Object creation will fail if spilling is required.\n",
      "\u001b[33m(raylet)\u001b[0m [2024-03-27 20:39:54,340 E 1733951 1733990] (raylet) file_system_monitor.cc:111: /tmp/ray/session_2024-03-27_20-36-41_918744_1733345 is over 95% full, available space: 85297389568; capacity: 1967317549056. Object creation will fail if spilling is required.\n",
      "\u001b[33m(raylet)\u001b[0m [2024-03-27 20:40:04,349 E 1733951 1733990] (raylet) file_system_monitor.cc:111: /tmp/ray/session_2024-03-27_20-36-41_918744_1733345 is over 95% full, available space: 85297201152; capacity: 1967317549056. Object creation will fail if spilling is required.\n",
      "\u001b[33m(raylet)\u001b[0m [2024-03-27 20:40:14,356 E 1733951 1733990] (raylet) file_system_monitor.cc:111: /tmp/ray/session_2024-03-27_20-36-41_918744_1733345 is over 95% full, available space: 85296877568; capacity: 1967317549056. Object creation will fail if spilling is required.\n",
      "\u001b[33m(raylet)\u001b[0m [2024-03-27 20:40:24,364 E 1733951 1733990] (raylet) file_system_monitor.cc:111: /tmp/ray/session_2024-03-27_20-36-41_918744_1733345 is over 95% full, available space: 85296676864; capacity: 1967317549056. Object creation will fail if spilling is required.\n",
      "\u001b[33m(raylet)\u001b[0m [2024-03-27 20:40:34,373 E 1733951 1733990] (raylet) file_system_monitor.cc:111: /tmp/ray/session_2024-03-27_20-36-41_918744_1733345 is over 95% full, available space: 85296070656; capacity: 1967317549056. Object creation will fail if spilling is required.\n",
      "\u001b[33m(raylet)\u001b[0m [2024-03-27 20:40:44,380 E 1733951 1733990] (raylet) file_system_monitor.cc:111: /tmp/ray/session_2024-03-27_20-36-41_918744_1733345 is over 95% full, available space: 85295878144; capacity: 1967317549056. Object creation will fail if spilling is required.\n",
      "\u001b[33m(raylet)\u001b[0m [2024-03-27 20:40:54,406 E 1733951 1733990] (raylet) file_system_monitor.cc:111: /tmp/ray/session_2024-03-27_20-36-41_918744_1733345 is over 95% full, available space: 85294489600; capacity: 1967317549056. Object creation will fail if spilling is required.\n",
      "\u001b[33m(raylet)\u001b[0m [2024-03-27 20:41:04,502 E 1733951 1733990] (raylet) file_system_monitor.cc:111: /tmp/ray/session_2024-03-27_20-36-41_918744_1733345 is over 95% full, available space: 85294125056; capacity: 1967317549056. Object creation will fail if spilling is required.\n",
      "\u001b[33m(raylet)\u001b[0m [2024-03-27 20:41:14,585 E 1733951 1733990] (raylet) file_system_monitor.cc:111: /tmp/ray/session_2024-03-27_20-36-41_918744_1733345 is over 95% full, available space: 85293686784; capacity: 1967317549056. Object creation will fail if spilling is required.\n",
      "\u001b[33m(raylet)\u001b[0m [2024-03-27 20:41:24,676 E 1733951 1733990] (raylet) file_system_monitor.cc:111: /tmp/ray/session_2024-03-27_20-36-41_918744_1733345 is over 95% full, available space: 85293277184; capacity: 1967317549056. Object creation will fail if spilling is required.\n",
      "\u001b[33m(raylet)\u001b[0m [2024-03-27 20:41:34,741 E 1733951 1733990] (raylet) file_system_monitor.cc:111: /tmp/ray/session_2024-03-27_20-36-41_918744_1733345 is over 95% full, available space: 85292994560; capacity: 1967317549056. Object creation will fail if spilling is required.\n",
      "\u001b[33m(raylet)\u001b[0m [2024-03-27 20:41:44,753 E 1733951 1733990] (raylet) file_system_monitor.cc:111: /tmp/ray/session_2024-03-27_20-36-41_918744_1733345 is over 95% full, available space: 85292220416; capacity: 1967317549056. Object creation will fail if spilling is required.\n",
      "\u001b[33m(raylet)\u001b[0m [2024-03-27 20:41:54,766 E 1733951 1733990] (raylet) file_system_monitor.cc:111: /tmp/ray/session_2024-03-27_20-36-41_918744_1733345 is over 95% full, available space: 85291864064; capacity: 1967317549056. Object creation will fail if spilling is required.\n",
      "\u001b[33m(raylet)\u001b[0m [2024-03-27 20:42:04,842 E 1733951 1733990] (raylet) file_system_monitor.cc:111: /tmp/ray/session_2024-03-27_20-36-41_918744_1733345 is over 95% full, available space: 85291806720; capacity: 1967317549056. Object creation will fail if spilling is required.\n",
      "\u001b[33m(raylet)\u001b[0m [2024-03-27 20:42:14,914 E 1733951 1733990] (raylet) file_system_monitor.cc:111: /tmp/ray/session_2024-03-27_20-36-41_918744_1733345 is over 95% full, available space: 85291503616; capacity: 1967317549056. Object creation will fail if spilling is required.\n",
      "\u001b[33m(raylet)\u001b[0m [2024-03-27 20:42:24,930 E 1733951 1733990] (raylet) file_system_monitor.cc:111: /tmp/ray/session_2024-03-27_20-36-41_918744_1733345 is over 95% full, available space: 85291212800; capacity: 1967317549056. Object creation will fail if spilling is required.\n",
      "\u001b[33m(raylet)\u001b[0m [2024-03-27 20:42:34,969 E 1733951 1733990] (raylet) file_system_monitor.cc:111: /tmp/ray/session_2024-03-27_20-36-41_918744_1733345 is over 95% full, available space: 85290942464; capacity: 1967317549056. Object creation will fail if spilling is required.\n",
      "\u001b[33m(raylet)\u001b[0m [2024-03-27 20:42:44,977 E 1733951 1733990] (raylet) file_system_monitor.cc:111: /tmp/ray/session_2024-03-27_20-36-41_918744_1733345 is over 95% full, available space: 85290496000; capacity: 1967317549056. Object creation will fail if spilling is required.\n",
      "\u001b[33m(raylet)\u001b[0m [2024-03-27 20:42:54,984 E 1733951 1733990] (raylet) file_system_monitor.cc:111: /tmp/ray/session_2024-03-27_20-36-41_918744_1733345 is over 95% full, available space: 85289459712; capacity: 1967317549056. Object creation will fail if spilling is required.\n",
      "\u001b[33m(raylet)\u001b[0m [2024-03-27 20:43:04,992 E 1733951 1733990] (raylet) file_system_monitor.cc:111: /tmp/ray/session_2024-03-27_20-36-41_918744_1733345 is over 95% full, available space: 85289160704; capacity: 1967317549056. Object creation will fail if spilling is required.\n",
      "\u001b[33m(raylet)\u001b[0m [2024-03-27 20:43:15,001 E 1733951 1733990] (raylet) file_system_monitor.cc:111: /tmp/ray/session_2024-03-27_20-36-41_918744_1733345 is over 95% full, available space: 85288386560; capacity: 1967317549056. Object creation will fail if spilling is required.\n",
      "\u001b[33m(raylet)\u001b[0m [2024-03-27 20:43:25,009 E 1733951 1733990] (raylet) file_system_monitor.cc:111: /tmp/ray/session_2024-03-27_20-36-41_918744_1733345 is over 95% full, available space: 85288136704; capacity: 1967317549056. Object creation will fail if spilling is required.\n",
      "\u001b[33m(raylet)\u001b[0m [2024-03-27 20:43:35,016 E 1733951 1733990] (raylet) file_system_monitor.cc:111: /tmp/ray/session_2024-03-27_20-36-41_918744_1733345 is over 95% full, available space: 85287759872; capacity: 1967317549056. Object creation will fail if spilling is required.\n",
      "\u001b[33m(raylet)\u001b[0m [2024-03-27 20:43:45,023 E 1733951 1733990] (raylet) file_system_monitor.cc:111: /tmp/ray/session_2024-03-27_20-36-41_918744_1733345 is over 95% full, available space: 85287333888; capacity: 1967317549056. Object creation will fail if spilling is required.\n",
      "\u001b[33m(raylet)\u001b[0m [2024-03-27 20:43:55,032 E 1733951 1733990] (raylet) file_system_monitor.cc:111: /tmp/ray/session_2024-03-27_20-36-41_918744_1733345 is over 95% full, available space: 85285769216; capacity: 1967317549056. Object creation will fail if spilling is required.\n",
      "\u001b[33m(raylet)\u001b[0m [2024-03-27 20:44:05,040 E 1733951 1733990] (raylet) file_system_monitor.cc:111: /tmp/ray/session_2024-03-27_20-36-41_918744_1733345 is over 95% full, available space: 85285478400; capacity: 1967317549056. Object creation will fail if spilling is required.\n",
      "\u001b[33m(raylet)\u001b[0m [2024-03-27 20:44:15,047 E 1733951 1733990] (raylet) file_system_monitor.cc:111: /tmp/ray/session_2024-03-27_20-36-41_918744_1733345 is over 95% full, available space: 85285167104; capacity: 1967317549056. Object creation will fail if spilling is required.\n",
      "\u001b[33m(raylet)\u001b[0m [2024-03-27 20:44:25,055 E 1733951 1733990] (raylet) file_system_monitor.cc:111: /tmp/ray/session_2024-03-27_20-36-41_918744_1733345 is over 95% full, available space: 85284511744; capacity: 1967317549056. Object creation will fail if spilling is required.\n",
      "\u001b[33m(raylet)\u001b[0m [2024-03-27 20:44:35,062 E 1733951 1733990] (raylet) file_system_monitor.cc:111: /tmp/ray/session_2024-03-27_20-36-41_918744_1733345 is over 95% full, available space: 85284089856; capacity: 1967317549056. Object creation will fail if spilling is required.\n",
      "\u001b[33m(raylet)\u001b[0m [2024-03-27 20:44:45,069 E 1733951 1733990] (raylet) file_system_monitor.cc:111: /tmp/ray/session_2024-03-27_20-36-41_918744_1733345 is over 95% full, available space: 85283319808; capacity: 1967317549056. Object creation will fail if spilling is required.\n",
      "\u001b[33m(raylet)\u001b[0m [2024-03-27 20:44:55,077 E 1733951 1733990] (raylet) file_system_monitor.cc:111: /tmp/ray/session_2024-03-27_20-36-41_918744_1733345 is over 95% full, available space: 85282476032; capacity: 1967317549056. Object creation will fail if spilling is required.\n",
      "\u001b[33m(raylet)\u001b[0m [2024-03-27 20:45:05,085 E 1733951 1733990] (raylet) file_system_monitor.cc:111: /tmp/ray/session_2024-03-27_20-36-41_918744_1733345 is over 95% full, available space: 85282004992; capacity: 1967317549056. Object creation will fail if spilling is required.\n",
      "\u001b[33m(raylet)\u001b[0m [2024-03-27 20:45:15,093 E 1733951 1733990] (raylet) file_system_monitor.cc:111: /tmp/ray/session_2024-03-27_20-36-41_918744_1733345 is over 95% full, available space: 85281783808; capacity: 1967317549056. Object creation will fail if spilling is required.\n",
      "\u001b[33m(raylet)\u001b[0m [2024-03-27 20:45:25,100 E 1733951 1733990] (raylet) file_system_monitor.cc:111: /tmp/ray/session_2024-03-27_20-36-41_918744_1733345 is over 95% full, available space: 85281628160; capacity: 1967317549056. Object creation will fail if spilling is required.\n",
      "\u001b[33m(raylet)\u001b[0m [2024-03-27 20:45:35,108 E 1733951 1733990] (raylet) file_system_monitor.cc:111: /tmp/ray/session_2024-03-27_20-36-41_918744_1733345 is over 95% full, available space: 85281337344; capacity: 1967317549056. Object creation will fail if spilling is required.\n",
      "\u001b[33m(raylet)\u001b[0m [2024-03-27 20:45:45,115 E 1733951 1733990] (raylet) file_system_monitor.cc:111: /tmp/ray/session_2024-03-27_20-36-41_918744_1733345 is over 95% full, available space: 85281153024; capacity: 1967317549056. Object creation will fail if spilling is required.\n",
      "\u001b[33m(raylet)\u001b[0m [2024-03-27 20:45:55,123 E 1733951 1733990] (raylet) file_system_monitor.cc:111: /tmp/ray/session_2024-03-27_20-36-41_918744_1733345 is over 95% full, available space: 85280239616; capacity: 1967317549056. Object creation will fail if spilling is required.\n",
      "\u001b[33m(raylet)\u001b[0m [2024-03-27 20:46:05,131 E 1733951 1733990] (raylet) file_system_monitor.cc:111: /tmp/ray/session_2024-03-27_20-36-41_918744_1733345 is over 95% full, available space: 85279707136; capacity: 1967317549056. Object creation will fail if spilling is required.\n",
      "\u001b[33m(raylet)\u001b[0m [2024-03-27 20:46:15,139 E 1733951 1733990] (raylet) file_system_monitor.cc:111: /tmp/ray/session_2024-03-27_20-36-41_918744_1733345 is over 95% full, available space: 85279481856; capacity: 1967317549056. Object creation will fail if spilling is required.\n",
      "\u001b[33m(raylet)\u001b[0m [2024-03-27 20:46:25,148 E 1733951 1733990] (raylet) file_system_monitor.cc:111: /tmp/ray/session_2024-03-27_20-36-41_918744_1733345 is over 95% full, available space: 85278875648; capacity: 1967317549056. Object creation will fail if spilling is required.\n",
      "\u001b[33m(raylet)\u001b[0m [2024-03-27 20:46:35,155 E 1733951 1733990] (raylet) file_system_monitor.cc:111: /tmp/ray/session_2024-03-27_20-36-41_918744_1733345 is over 95% full, available space: 85278416896; capacity: 1967317549056. Object creation will fail if spilling is required.\n"
     ]
    },
    {
     "name": "stdout",
     "output_type": "stream",
     "text": [
      "CLAIM: Publication date: 2020-08-13, Content: Illinois Strengthens Face Mask Rules in Businesses\n",
      "\n",
      "To accurately classify this claim, we need to analyze the relevant information provided. \n",
      "\n",
      "Information 1: This is from 2013 and is not directly related to the claim about Illinois strengthening face mask rules in businesses in 2020. It provides general information about COVID-19 symptoms, risk factors, and prevention.\n",
      "\n",
      "Information 2: This information confirms that Illinois lifted its indoor mask requirement on February 28, 2022, except where required by specific laws, rules, and regulations. It also mentions that the state was optimistic about this decision due to the decreasing trends of COVID-19 cases. The information does not directly contradict the claim about strengthening face mask rules in 2020, but it provides context about the situation in 2021-2022.\n",
      "\n",
      "Information 3: This information reveals that on September 3, 2021, the Governor of Illinois signed an Executive Order requiring face coverings for individuals over the age of 2 in indoor public places. It also mandated vaccination for specific groups. This information supports the claim that Illinois strengthened face mask rules in businesses in 2020, as the Executive Order was issued in September 2021, which falls within the timeframe of the claim.\n",
      "\n",
      "Information 4: This information provides FAQs for businesses regarding the use of face coverings during COVID-19. It explains the definition of a face covering, exceptions for medical conditions or disabilities, and situations where masks are still required. While this information does not directly confirm the claim, it reinforces the general context of face mask rules in businesses during the pandemic.\n",
      "\n",
      "Information 5: This information is a list of statewide orders regarding face masks, compiled by a law firm. It is important to note that this resource is no longer being updated as of November 10, 2022. However, it does provide context about the widespread implementation of face mask rules during the pandemic.\n",
      "\n",
      "In conclusion, while the claim's exact date is not directly supported by the provided information, the context and the Executive Order from September 2021 (Information 3) suggest that Illinois did indeed strengthen face mask rules in businesses during the timeframe mentioned in the claim. Therefore, the claim can be classified as TRUE.\n"
     ]
    }
   ],
   "source": [
    "K = 5\n",
    "def get_id(claim):\n",
    "    for i in range(len(data_search)):\n",
    "        if claim.strip() in data_search[i][\"claim\"].strip():\n",
    "            return i\n",
    "\n",
    "i = 0\n",
    "# i = get_id(\"The Government of Mexico City offers $1,000 weekly if you stay at home.\")\n",
    "\n",
    "claim = data_search[i][\"claim\"]\n",
    "search_results = data_search[i][f\"{search_engine}_search_results\"]\n",
    "\n",
    "prompt = prompt_rag.get_prompt_for_generating_prior_knowledge(\n",
    "    claim, data_search[i][\"date\"], search_engine, search_results, \n",
    "    K=K, sort=False, \n",
    "    # ids=data_search[i][\"random_ids\"],\n",
    "    ids=None\n",
    ")\n",
    "\n",
    "request_list = [{'query': prompt}, ]\n",
    "\n",
    "print(prompt)\n",
    "\n",
    "resp_list = inference_vllm(\n",
    "    llm_engine, template, request_list, \n",
    "    generation_config=generation_config, \n",
    "    use_tqdm=False,\n",
    "    # verbose=True, prompt_prefix=\"\", output_prefix=\"\"\n",
    ")\n",
    "print(resp_list[0][\"response\"].strip())\n",
    "# res = al.get_response(prompt, \"SOLAR-10.7B-Instruct-v1.0\", cache_seed=None, port=8001)\n",
    "# print(res.strip())\n"
   ]
  }
 ],
 "metadata": {
  "kernelspec": {
   "display_name": "langchain",
   "language": "python",
   "name": "python3"
  },
  "language_info": {
   "codemirror_mode": {
    "name": "ipython",
    "version": 3
   },
   "file_extension": ".py",
   "mimetype": "text/x-python",
   "name": "python",
   "nbconvert_exporter": "python",
   "pygments_lexer": "ipython3",
   "version": "3.10.13"
  }
 },
 "nbformat": 4,
 "nbformat_minor": 2
}
