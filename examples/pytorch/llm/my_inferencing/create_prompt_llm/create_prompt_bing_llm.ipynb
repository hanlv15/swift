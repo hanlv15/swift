{
 "cells": [
  {
   "cell_type": "code",
   "execution_count": 1,
   "metadata": {},
   "outputs": [],
   "source": [
    "import json\n",
    "import jsonlines\n",
    "import prompt_rag\n",
    "import os\n",
    "import sys\n",
    "import torch\n",
    "\n",
    "search_engine = \"brave\"\n",
    "\n",
    "with open(f\"/home/hanlv/workspace/data/machine_learning/dataset/research/misinformation_dataset/COVMIS-main/data/train_{search_engine}_search.json\", \"r\") as f:\n",
    "    data_search = json.load(f)\n",
    "\n",
    "try:\n",
    "    with open(f\"/home/hanlv/workspace/data/machine_learning/dataset/research/misinformation_dataset/COVMIS-main/data/train_{search_engine}_search_llm.json\", \"r\") as f:\n",
    "        data_search_llm = json.load(f)\n",
    "except:\n",
    "    data_search_llm = [{\n",
    "        \"claim\": i[\"claim\"],\n",
    "        \"claimant\": i[\"claimant\"],\n",
    "        \"label\": i[\"label\"],\n",
    "        \"date\": i[\"date\"],\n",
    "    } for i in data_search]\n",
    "    with open(f\"/home/hanlv/workspace/data/machine_learning/dataset/research/misinformation_dataset/COVMIS-main/data/train_{search_engine}_search_llm.json\", \"w\") as f:\n",
    "        json.dump(data_search_llm, f, indent=4)\n",
    "\n"
   ]
  },
  {
   "cell_type": "code",
   "execution_count": 2,
   "metadata": {},
   "outputs": [],
   "source": [
    "# prompt_rag.update_train_search_llm( \n",
    "#     \"SOLAR-10.7B-Instruct-v1.0\", \"solar\", port=8001, \n",
    "#     data_search=data_search, data_search_llm=data_search_llm) \n",
    "\n"
   ]
  },
  {
   "cell_type": "markdown",
   "metadata": {},
   "source": [
    "合并多个文件的先验知识"
   ]
  },
  {
   "cell_type": "code",
   "execution_count": 3,
   "metadata": {},
   "outputs": [],
   "source": [
    "# bing search llm\n",
    "# v2: k = 5\n",
    "# v3: 不对时间排序\n",
    "\n",
    "# brave search llm\n",
    "# v1: k = 5\n",
    "# v2: k = 5 随机选取\n",
    "\n",
    "# sort = False\n",
    "prior_knowledge_list = []\n",
    "\n",
    "K = 5\n",
    "prior_knowledge_version = 2\n",
    "num_part = 3\n",
    "\n",
    "\n",
    "\n",
    "# for i in range(1, num_part + 1):\n",
    "#     with open(f\"{search_engine}/K={K}/train_search_llm_v{i}.json\", \"r\") as f:\n",
    "#         prior_knowledge_list.extend(json.load(f))\n",
    "\n",
    "# for i, item in enumerate(data_search_llm):\n",
    "#     if item[\"claim\"] != prior_knowledge_list[i][\"claim\"].strip():\n",
    "#         print(i)\n",
    "#         print(item[\"claim\"])\n",
    "#         print(prior_knowledge_list[i][\"claim\"])\n",
    "#         raise Exception()\n",
    "#     else:\n",
    "#         item[f\"prior_knowledge_solar_v{prior_knowledge_version}_K={K}\"] = prior_knowledge_list[i][\"prior_knowledge_solar\"]\n",
    "\n",
    "# data_search_llm[0]\n"
   ]
  },
  {
   "cell_type": "code",
   "execution_count": 4,
   "metadata": {},
   "outputs": [],
   "source": [
    "# prompt_rag.save_search_llm(data_search_llm, search_engine)\n"
   ]
  },
  {
   "cell_type": "markdown",
   "metadata": {},
   "source": [
    "创建数据（带有先验知识的Prompt）以微调LLM"
   ]
  },
  {
   "cell_type": "code",
   "execution_count": 5,
   "metadata": {},
   "outputs": [],
   "source": [
    "# dict_list = []\n",
    "\n",
    "# for i, item in enumerate(data_search_llm):\n",
    "    \n",
    "#     if int(item[\"label\"]) != 1:\n",
    "#         prompt = prompt_rag.get_prompt_with_prior_knowledge_v3(\n",
    "#             item[\"claim\"], \n",
    "#             search_engine,\n",
    "#             data_search[i][f\"{search_engine}_search_results\"], \n",
    "#             item[f\"prior_knowledge_solar_v{prior_knowledge_version}_K={K}\"], \n",
    "#             K=K,\n",
    "#             claim_date=item[\"date\"],\n",
    "#             sort=sort\n",
    "#         )\n",
    "#         label = \"TRUE.\" if int(item[\"label\"]) == 2 else \"FALSE.\"\n",
    "#         dict_list.append({\"query\": prompt, \"response\": label})\n",
    "# print(dict_list[834][\"query\"])\n",
    "# len(dict_list), dict_list[:2]\n"
   ]
  },
  {
   "cell_type": "code",
   "execution_count": 6,
   "metadata": {},
   "outputs": [],
   "source": [
    "# LLM_dir = \"/home/hanlv/workspace/code/research/infodemic/LLM/\"\n",
    "# data_version = \"1\"\n",
    "# with jsonlines.open(\n",
    "#     LLM_dir + \\\n",
    "#     f\"swift/examples/pytorch/llm/my_data/with_solar_info/{search_engine}/data{data_version}.jsonl\", mode=\"w\") as file_jsonl:\n",
    "#     for line in dict_list:\n",
    "#         file_jsonl.write(line)\n"
   ]
  },
  {
   "cell_type": "markdown",
   "metadata": {},
   "source": [
    "测试模型的先验知识生成效果"
   ]
  },
  {
   "cell_type": "code",
   "execution_count": 7,
   "metadata": {},
   "outputs": [],
   "source": [
    "# random策略生成先验知识：过长的已知信息输入\n",
    "# 经过测试：模型：solar \n",
    "# token数量(len(tokenizer(prompt)[\"input_ids\"]))\n",
    "# 大于2950会爆显存，\n",
    "# 大于3500的输出效果会变差\n",
    "\n"
   ]
  },
  {
   "cell_type": "code",
   "execution_count": 2,
   "metadata": {},
   "outputs": [
    {
     "name": "stderr",
     "output_type": "stream",
     "text": [
      "2024-02-07 22:56:12,924 - modelscope - INFO - PyTorch version 2.1.2 Found.\n",
      "2024-02-07 22:56:12,926 - modelscope - INFO - Loading ast index from /home/hanlv/.cache/modelscope/ast_indexer\n",
      "2024-02-07 22:56:12,951 - modelscope - INFO - Loading done! Current index file version is 1.11.0, with md5 dc3cda2b56a86b0242cd145399a14071 and a total number of 953 components indexed\n",
      "[INFO:swift] Setting torch_dtype: torch.float16\n",
      "[INFO:swift] model_config: LlamaConfig {\n",
      "  \"_name_or_path\": \"/home/css/models/SOLAR-10.7B-Instruct-v1.0\",\n",
      "  \"architectures\": [\n",
      "    \"LlamaForCausalLM\"\n",
      "  ],\n",
      "  \"attention_bias\": false,\n",
      "  \"attention_dropout\": 0.0,\n",
      "  \"bos_token_id\": 1,\n",
      "  \"eos_token_id\": 2,\n",
      "  \"hidden_act\": \"silu\",\n",
      "  \"hidden_size\": 4096,\n",
      "  \"initializer_range\": 0.02,\n",
      "  \"intermediate_size\": 14336,\n",
      "  \"max_position_embeddings\": 4096,\n",
      "  \"model_type\": \"llama\",\n",
      "  \"num_attention_heads\": 32,\n",
      "  \"num_hidden_layers\": 48,\n",
      "  \"num_key_value_heads\": 8,\n",
      "  \"pad_token_id\": 2,\n",
      "  \"pretraining_tp\": 1,\n",
      "  \"rms_norm_eps\": 1e-05,\n",
      "  \"rope_scaling\": null,\n",
      "  \"rope_theta\": 10000.0,\n",
      "  \"tie_word_embeddings\": false,\n",
      "  \"torch_dtype\": \"float16\",\n",
      "  \"transformers_version\": \"4.37.0\",\n",
      "  \"use_cache\": true,\n",
      "  \"vocab_size\": 32000\n",
      "}\n",
      "\n"
     ]
    },
    {
     "name": "stdout",
     "output_type": "stream",
     "text": [
      "Template type: solar\n"
     ]
    }
   ],
   "source": [
    "os.environ['CUDA_VISIBLE_DEVICES'] = '1'\n",
    "\n",
    "dirs = [\"..\", \"../..\"]\n",
    "for _dir in dirs:\n",
    "    if _dir not in sys.path:\n",
    "        sys.path.append(_dir)\n",
    "\n",
    "from swift.llm import (\n",
    "    get_model_tokenizer, get_template, inference, get_default_template_type\n",
    ")\n",
    "from swift.tuners import Swift\n",
    "from custom import CustomModelType, CustomTemplateType\n",
    "\n",
    "model_type = CustomModelType.solar_instruct_10_7b\n",
    "template_type = get_default_template_type(model_type)\n",
    "print(f\"Template type: {template_type}\")\n",
    "\n",
    "model, tokenizer = get_model_tokenizer(\n",
    "    model_type, load_model=False)\n",
    "if model is not None:\n",
    "    model.generation_config.max_new_tokens = 4096\n",
    "template = get_template(template_type, tokenizer)\n"
   ]
  },
  {
   "cell_type": "code",
   "execution_count": 14,
   "metadata": {},
   "outputs": [
    {
     "name": "stdout",
     "output_type": "stream",
     "text": [
      "2266\n",
      "Below is a CLAIM and some INFORMATION searched online. These pieces of INFORMATION are relevant to the CLAIM. This CLAIM and all INFORMATION include their respective publication dates and contents. To classify the CLAIM more accurately (if the content described by the CLAIM is correct, it will be classified as TRUE; if the content described by the CLAIM is incorrect, it will be classified as FALSE), please first expand on the given INFORMATION and provide a detailed summary of it. Then analyze, reason, and provide reasonable evidence to judge the correctness of the CLAIM based on the available information and your knowledge, and finally generate prior knowledge that helps classify the CLAIM.\n",
      "\n",
      "CLAIM:\n",
      "Publication date: 2020-04-04\n",
      "Content: The Government of Mexico City offers $1,000 weekly if you stay at home.\n",
      "\n",
      "INFORMATION:\n",
      "Information 1:\n",
      "Publication date: 2023-02-17\n",
      "Title: How Much Cash To Bring To Mexico?\n",
      "Content:\n",
      "Mexico is generally a very safe country, but when it comes to protecting your money, you still need to stay vigilant. Don’t use random, nameless ATMs in tourist areas; be aware of local scams. Don’t get into a meterless cab without agreeing on a price first, and do your research on hotels and car rentals prior to arriving in Mexico. Quiet street in Yucatan, one of the most affordable states in Mexico · If you’re wondering how much cash you can bring to Mexico, the answer is up to 10,000 USD or about 186,00 MXN.\n",
      "The food is fresh, and they have plenty of vegetables, snacks, and local beverages. If you’re on a mid-range budget, many delicious roadside stands and oceanfront restaurants sell tacos, burritos, and cochinita pibil (pulled pork) dishes for 6 to 15 USD a plate. For bigger spenders, cities such as Mexico City, Cabo, Tulum, and Cancun are home to numerous stunning award-winning and upscale restaurants.\n",
      "If you’re on a mid-range budget, many delicious roadside stands and oceanfront restaurants sell tacos, burritos, and cochinita pibil (pulled pork) dishes for 6 to 15 USD a plate. For bigger spenders, cities such as Mexico City, Cabo, Tulum, and Cancun are home to numerous stunning award-winning and upscale restaurants. Depending on the location, eating more luxuriously could cost 50-200 USD a person.\n",
      "Information 2:\n",
      "Publication date: 2023-12-01\n",
      "Title: How much does a trip to Mexico City cost? Daily, 3-days and weekly ...\n",
      "Content:\n",
      "As you can see - a stay for a few days in Mexico City can cost 138 USD (2,300 MXN) or 723 USD (12,000 MXN), depending on whether you are a frugal tourist or you are planning to spend a luxurious holiday in Mexico City. If you want to spend a week in Mexico City the cost of your stay will be: 322 USD (5,500 MXN) - a cheap stay for 7 days in Mexico City · 360 USD (6,100 MXN) - a budget travel for 7 days in Mexico City\n",
      "If you want to spend a week in Mexico City the cost of your stay will be: 322 USD (5,500 MXN) - a cheap stay for 7 days in Mexico City · 360 USD (6,100 MXN) - a budget travel for 7 days in Mexico City · 573 USD (9,800 MXN) for a one week of comfortable stay in Mexico City · 1,600 USD (28,000 MXN) for a week of luxury holidays in Mexico City\n",
      "You can use travel guidebook and map while visiting Mexico City. An interesting alternative, however, is a guided sightseeing tour in Mexico City using local tour operators. Prices of such tour range from 42 USD (722 MXN) to 63 USD (1,000 MXN). Prices for the most interesting tour offers are:\n",
      "An interesting alternative, however, is a guided sightseeing tour in Mexico City using local tour operators. Prices of such tour range from 42 USD (722 MXN) to 63 USD (1,000 MXN). Prices for the most interesting tour offers are: Mexico City: 3–Hour Polanco Food Tour 60 USD (1,000 MXN)\n",
      "Information 3:\n",
      "Publication date: 2023-04-13\n",
      "Title: [2023 Update] Cost of living in Mexico City with personal expenses ...\n",
      "Content:\n",
      "In more bohemian and trendy neighborhoods like Condesa and Roma, the average rent for a one-bedroom apartment ranges between $800 USD and $1,000 USD per month. Two-bedroom apartments cost around $1,300 to $1,800 per month. These neighborhoods offer a mix of modern and historic homes, with various dining, entertainment, and shopping options nearby.\n",
      "Renting a home in more family-oriented and historic neighborhoods such as Coyoacán and San Ángel can be more affordable. A one-bedroom apartment in these areas may average around $700 to $800 monthly, while two-bedroom apartments can range from $1,000 to $1,500 USD monthly.\n",
      "You can live for as low as $1,500 USD to $5,000 USD a month as you please. Just make sure that everything is within your means so you can have a comfortable life here. You don’t want to move to Mexico and spend the same exact amount that you are spending from back home in the USA or Europe.\n",
      "Larger homes and luxury properties in these areas can cost several thousand dollars per month, depending on their size and amenities. In more bohemian and trendy neighborhoods like Condesa and Roma, the average rent for a one-bedroom apartment ranges between $800 USD and $1,000 USD per month.\n",
      "Information 4:\n",
      "Publication date: None\n",
      "Title: Mexico International Travel Information\n",
      "Content:\n",
      "Nuevo Casas Grandes Area (including Nuevo Casas Grandes, Casas Grandes, Mata Ortiz, Colonia Juárez, Colonia LeBaron, Paquimé and San Buenaventura): U.S. government employees may travel to the Nuevo Casas Grandes area during daylight hours via Mexico Federal Highway 2, and subsequently Federal Highway 10, to Nuevo Casas Grandes. Employees are permitted to stay overnight in the cities of Nuevo Casas Grandes and Casas Grandes only. City of Chihuahua: U.S. government employees may travel at any time to the area of the city of Chihuahua bounded to the north by Avenida Transformación; to the east by Avenida Tecnológico/Manuel Gómez Morín/Highway 16/Blvd.José Fuentes Mares; to the west by the city boundary; and to the south by Periférico Francisco R.\n",
      "U.S. government employees may only travel on official business from the city of Chihuahua on Highway 16 to Ciudad Cuauhtémoc bounded by Highway 21 to the north and east, Highway 5 to the west, and Bulevar Jorge Castillo Cabrera to the south.\n",
      "Isthmus region: U.S. government employees may not travel to the area of Oaxaca bounded by Federal Highway 185D to the west, Federal Highway 190 to the north, and the Oaxaca-Chiapas border to the east. This includes the cities of Juchitan de Zaragoza, Salina Cruz, and San Blas Atempa.\n",
      "Eastern and southern Sonora (including San Carlos Nuevo Guaymas and Alamos): U.S. government employees may not travel to areas of Sonora east of Federal Highway 17, the road between Moctezuma and Sahuaripa, and State Highway 20 between Sahuaripa and the intersection with Federal Highway 16. U.S. government employees may travel to San Carlos Nuevo Guaymas and Alamos; travel to Alamos is only permitted by air and within city limits.\n",
      "Information 5:\n",
      "Publication date: 2023-11-22\n",
      "Title: Cost of Living in Mexico 2023 - Full Breakdown of Costs, Rent and ...\n",
      "Content:\n",
      "If you want to be within a five-minute walk of the beach, you’ll have your choice of condos starting at around $1,000 per month; prices drop dramatically if you don’t mind a short drive to the city or beach, or a home in one of the other beach towns along the Caribbean coast.\n",
      "Unsurprisingly, homes near the beach and in resort areas will be more expensive than those in the central highlands or localities with fewer tourists or expats, though you should be able to buy a nice house in a good neighborhood for $150,000 or less nearly anywhere in the country.\n",
      "The city of Mérida, in southern Mexico’s Yucatán peninsula, has plenty of low-cost housing. Houses in the Centro Histórico sell for $100,000 or less, while you could easily find a one- or two-bedroom rental for under $600 per month. Prices are even lower in the nearby coastal town of Progreso and in the neighboring towns along the barrier islands, where beachfront condos can be rented for $500 or less per month.\n",
      "\n"
     ]
    },
    {
     "ename": "AttributeError",
     "evalue": "'NoneType' object has no attribute 'parameters'",
     "output_type": "error",
     "traceback": [
      "\u001b[0;31m---------------------------------------------------------------------------\u001b[0m",
      "\u001b[0;31mAttributeError\u001b[0m                            Traceback (most recent call last)",
      "Cell \u001b[0;32mIn[14], line 20\u001b[0m\n\u001b[1;32m     17\u001b[0m \u001b[38;5;28mprint\u001b[39m(\u001b[38;5;28mlen\u001b[39m(tokenizer(prompt)[\u001b[38;5;124m\"\u001b[39m\u001b[38;5;124minput_ids\u001b[39m\u001b[38;5;124m\"\u001b[39m]))\n\u001b[1;32m     18\u001b[0m \u001b[38;5;28mprint\u001b[39m(prompt)\n\u001b[0;32m---> 20\u001b[0m response, history \u001b[38;5;241m=\u001b[39m \u001b[43minference\u001b[49m\u001b[43m(\u001b[49m\u001b[43mmodel\u001b[49m\u001b[43m,\u001b[49m\u001b[43m \u001b[49m\u001b[43mtemplate\u001b[49m\u001b[43m,\u001b[49m\u001b[43m \u001b[49m\u001b[43mprompt\u001b[49m\u001b[43m)\u001b[49m\n\u001b[1;32m     21\u001b[0m \u001b[38;5;28mprint\u001b[39m(response\u001b[38;5;241m.\u001b[39mstrip())\n",
      "File \u001b[0;32m~/workspace/code/research/infodemic/LLM/swift/swift/llm/utils/utils.py:583\u001b[0m, in \u001b[0;36minference\u001b[0;34m(model, template, query, history, system, generation_config, stop_words, stream, verbose, prompt_prefix, output_prefix, **kwargs)\u001b[0m\n\u001b[1;32m    581\u001b[0m inputs\u001b[38;5;241m.\u001b[39mpop(\u001b[38;5;124m'\u001b[39m\u001b[38;5;124mlabels\u001b[39m\u001b[38;5;124m'\u001b[39m, \u001b[38;5;28;01mNone\u001b[39;00m)\n\u001b[1;32m    582\u001b[0m tokenizer \u001b[38;5;241m=\u001b[39m template\u001b[38;5;241m.\u001b[39mtokenizer\n\u001b[0;32m--> 583\u001b[0m device \u001b[38;5;241m=\u001b[39m \u001b[38;5;28mnext\u001b[39m(\u001b[43mmodel\u001b[49m\u001b[38;5;241;43m.\u001b[39;49m\u001b[43mparameters\u001b[49m())\u001b[38;5;241m.\u001b[39mdevice\n\u001b[1;32m    584\u001b[0m \u001b[38;5;28;01mif\u001b[39;00m \u001b[38;5;124m'\u001b[39m\u001b[38;5;124minput_ids\u001b[39m\u001b[38;5;124m'\u001b[39m \u001b[38;5;129;01min\u001b[39;00m inputs:\n\u001b[1;32m    585\u001b[0m     input_ids \u001b[38;5;241m=\u001b[39m torch\u001b[38;5;241m.\u001b[39mtensor(inputs[\u001b[38;5;124m'\u001b[39m\u001b[38;5;124minput_ids\u001b[39m\u001b[38;5;124m'\u001b[39m])[\u001b[38;5;28;01mNone\u001b[39;00m]\n",
      "\u001b[0;31mAttributeError\u001b[0m: 'NoneType' object has no attribute 'parameters'"
     ]
    }
   ],
   "source": [
    "K = 5\n",
    "def get_id(claim):\n",
    "    for i in range(len(data_search)):\n",
    "        if claim.strip() in data_search[i][\"claim\"].strip():\n",
    "            return i\n",
    "    \n",
    "i = 0\n",
    "i = get_id(\"The Government of Mexico City offers $1,000 weekly if you stay at home.\")\n",
    "\n",
    "claim = data_search[i][\"claim\"]\n",
    "search_results = data_search[i][f\"{search_engine}_search_results\"]\n",
    "\n",
    "prompt = prompt_rag.get_prompt_for_generating_prior_knowledge(\n",
    "    claim, data_search[i][\"date\"], search_engine, search_results, \n",
    "    K=K, sort=False, ids=data_search[i][\"random_ids\"])\n",
    "\n",
    "print(len(tokenizer(prompt)[\"input_ids\"]))\n",
    "print(prompt)\n",
    "\n",
    "# response, history = inference(model, template, prompt)\n",
    "# print(response.strip())\n"
   ]
  }
 ],
 "metadata": {
  "kernelspec": {
   "display_name": "langchain",
   "language": "python",
   "name": "python3"
  },
  "language_info": {
   "codemirror_mode": {
    "name": "ipython",
    "version": 3
   },
   "file_extension": ".py",
   "mimetype": "text/x-python",
   "name": "python",
   "nbconvert_exporter": "python",
   "pygments_lexer": "ipython3",
   "version": "3.10.13"
  }
 },
 "nbformat": 4,
 "nbformat_minor": 2
}
