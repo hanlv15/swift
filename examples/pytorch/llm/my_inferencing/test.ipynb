{
 "cells": [
  {
   "cell_type": "code",
   "execution_count": 14,
   "metadata": {},
   "outputs": [
    {
     "data": {
      "text/plain": [
       "(0.0003383497191811191, 0.001566121036494672)"
      ]
     },
     "execution_count": 14,
     "metadata": {},
     "output_type": "execute_result"
    }
   ],
   "source": [
    "acc_covmis_before = 0.9885245901639345\n",
    "f1_covmis_before = 0.9843518094365552\n",
    "\n",
    "acc_covmis_after = 0.9881862404447533\n",
    "f1_covmis_after = 0.9827856884000605\n",
    "\n",
    "(acc_covmis_before - acc_covmis_after), (f1_covmis_before - f1_covmis_after)\n"
   ]
  },
  {
   "cell_type": "code",
   "execution_count": 16,
   "metadata": {},
   "outputs": [
    {
     "data": {
      "text/plain": [
       "(0.005315584778480487, -0.014366629550141452)"
      ]
     },
     "execution_count": 16,
     "metadata": {},
     "output_type": "execute_result"
    }
   ],
   "source": [
    "acc_liar2_before = 0.9378068739770867\n",
    "f1_liar2_before = 0.9074319933338915\n",
    "\n",
    "acc_liar2_after = 0.9324912891986062\n",
    "f1_liar2_after = 0.9217986228840329\n",
    "\n",
    "(acc_liar2_before - acc_liar2_after), (f1_liar2_before - f1_liar2_after)\n"
   ]
  },
  {
   "cell_type": "code",
   "execution_count": 2,
   "metadata": {},
   "outputs": [
    {
     "data": {
      "text/plain": [
       "6.311475409836065"
      ]
     },
     "execution_count": 2,
     "metadata": {},
     "output_type": "execute_result"
    }
   ],
   "source": [
    "acc = 0.9885245901639345\n",
    "human_baseline = 0.9254098360655738\n",
    "\n",
    "(acc - human_baseline) * 100\n"
   ]
  },
  {
   "cell_type": "code",
   "execution_count": 6,
   "metadata": {},
   "outputs": [
    {
     "name": "stdout",
     "output_type": "stream",
     "text": [
      "dict_keys(['query', 'response'])\n",
      "\n",
      "response: FALSE.\n",
      "\n",
      "Below is a CLAIM and the PRIOR KNOWLEDGE associated with it. Please classify the CLAIM as TRUE or FALSE based on the PRIOR KNOWLEDGE. If the content described by the CLAIM is correct, then classify it as TRUE; if the content described by the CLAIM is incorrect, then classify it as FALSE.\n",
      "\n",
      "CLAIM: According to \"Article 116,\" a state of emergency will begin across Colombia at 6 a.m. on the 17th.\n",
      "Publication date: 2020-03-17\n",
      "\n",
      "PRIOR KNOWLEDGE:\n",
      "Information 1:\n",
      "Publication date: None\n",
      "Title: Emergency Provisions\n",
      "Content:\n",
      "If approved by both the houses, the Emergency continues for 6 months and can be extended to an indefinite period with an approval of the Parliament for every six months.\n",
      "Suspension of Fundamental rights under Article 19: According to Article 358, when a proclamation of National Emergency is made, the six fundamental rights under article 19 are automatically suspended. Article 19 is automatically revived after the expiry of the emergency.\n",
      "Article 356 empowers the President to issue a proclamation if he is satisfied that a situation has arisen in which the government of a state cannot be carried on in accordance with the provisions of the constitution.\n",
      "Article 365 says that whenever a state fails to comply with or to give effect to any direction from the centre, it will be lawful for the President to hold that a situation has arisen in which the government of the state cannot be carried on in accordance with the provisions of the constitution.\n",
      "Information 2:\n",
      "Publication date: None\n",
      "Title: National Emergency\n",
      "Content:\n",
      "If approved by both the houses, the Emergency continues for 6 months and can be extended to an indefinite period with an approval of the Parliament for every six months. Every resolution approving the proclamation of emergency or its continuance must be passed by either House of Parliament by a special majority.\n",
      "Suspension of Fundamental rights under Article 19: According to Article 358, when a proclamation of National Emergency is made, the six fundamental rights under article 19 are automatically suspended. Article 19 is automatically revived after the expiry of the emergency.\n",
      "Effect on fundamental rights: Articles 358 and 359 describes the effect of a National Emergency on the Fundamental Rights. These two provisions are explained below: Suspension of Fundamental rights under Article 19: According to Article 358, when a proclamation of National Emergency is made, the six fundamental rights under article 19 are automatically suspended.\n",
      "Even when the emergency was in operation, the third proclamation of National Emergency was made in June 1975. Both the second and the third proclamations were revoked in March 1977 · Article 355 imposes a duty on the centre to ensure that the government of every state is carried on in accordance with the provisions of the constitution.\n",
      "Information 3:\n",
      "Publication date: 2024-06-07\n",
      "Title: The Emergency (India) - Wikipedia\n",
      "Content:\n",
      "With a wafer-thin majority of 7 to 6, the bench of the Supreme Court restricted Parliament's amendment power by stating it could not be used to alter the \"basic structure\" of the Constitution. Subsequently, Prime Minister Gandhi made A. N. Ray—the senior-most judge amongst those in the minority in Kesavananda Bharati—Chief Justice of India.\n",
      "This was due to many reasons such as RBI's policy of putting in place a 6 per cent ceiling on annual money supply growth months before the emergency, record monsoon in the year of 1975 leading to record harvest of foodgrains which led to food prices declining, increased import of grains, and reduced demand due to cutting of worker's wages and bonuses.\n",
      "However, these reduced prices only lasted till March 1976 when the prices of commodities started to go up again, on account of foodgrain production declining by 7.9%. Between 1 April and 6 October 1976 the wholesale price index rose by 10%, in which the price of rice rose by 8.3%, groundnut oil rose by 48%, while the prices of industrial raw materials as a group rose by 29.3%.\n",
      "The emergency regime exempted those earning between Rs 6,000-8,000 from taxation, provided tax breaks for those earning between Rs 8,000-15,000 in the range of Rs 45-264. There were only 3.8 million (38 lakh) taxpayers in the country at the time. Wealth taxes were also cut from 8% to 2.5% while the income taxes on those earning more than Rs 100,000 were reduced from 77% to 66%. This was expected to lower the government's revenue by Rs 3.08-3.25 billion.\n",
      "During Emergency SGPC offices used to be flooded with Anti-Emergency activists from RSS and BJP who had taken shelter to escape the government. According to Amnesty International, 140,000 people had been arrested without trial during the twenty months of Gandhi's Emergency. Jasjit Singh Grewal estimates that 43,000 of them came from India's two per cent Sikh minority.\n",
      "Information 4:\n",
      "Publication date: 2020-02-01\n",
      "Title: Emergency in India: Explanation of Article 352 - 360 under the Constitution\n",
      "Content:\n",
      "According to Article 354, the distribution of revenue between the Union and the State can be altered by the Centre. As per Article 83(2), the normal life of the Lok Sabha may be extended by the President by a year each time up to a period not exceeding 6 months after the proclamation ceases to operate.\n",
      "The Proclamation will remain in operation for 6 months after it has been approved by the Parliament. The duration of an emergency can be extended for 6 months at a time but it cannot remain in operation for more than 3 years. By a subsequent Proclamation, a proclamation of State Emergency can be revoked.\n",
      "It is the duty of the Union to ensure that the State remains protected from disturbance and external aggression, while the Proclamation of Emergency is in operation. The Union shall ensure that the State Government works according to the provisions of the Constitution.\n",
      "The Union shall ensure that the State Government works according to the provisions of the Constitution. As per Article 356, if the President after receiving a report from the Governor of a State or otherwise is satisfied that such a situation exists where the Government of a State cannot be carried in accordance with the provisions of the Constitution, he may issue a Proclamation.\n",
      "Information 5:\n",
      "Publication date: 2020-05-07\n",
      "Title: Colombian President Duque declares new state of emergency to ease pain of virus lockdown | Reuters\n",
      "Content:\n",
      "BOGOTA (Reuters) - Colombia has declared a second state of emergency to support sectors of the economy that will remain shut down for an extended period to reduce the spread of the novel coronavirus, President Ivan Duque said on Wednesday.\n",
      "Colombian fiscal authorities on Monday cleared the way for the government to widen its deficit to 6.1% of gross domestic product this year, owing to an expected 5.5% economic contraction.\n",
      "FILE PHOTO: Demonstrators take part in a protest demanding government food aid for the poor, amid the coronavirus disease (COVID-19) outbreak in Bogota, Colombia April 16, 2020. REUTERS/Luisa Gonzalez/File Photo Purchase Licensing Rights, opens new tab\n",
      "Under the measures, the government will subsidize workers' pay to the tune of 40% of the minimum wage in companies whose turnover has fallen by at least 20% due to the impact of the coronavirus outbreak. The minimum wage in Colombia is just shy of 1 million pesos a month, or around $250.\n",
      "\n",
      "Here is a clear summary of the given INFORMATION:\n",
      "\n",
      "**Information 1 and 2**: These two pieces of information discuss the Emergency Provisions in the Indian Constitution. They explain that if a national emergency is declared, it can continue for 6 months and be extended indefinitely with parliamentary approval. During this time, certain fundamental rights under Article 19 are suspended, but are revived after the emergency ends. The President has the power to issue a proclamation of emergency if a situation arises where a state government cannot function according to the Constitution.\n",
      "\n",
      "**Information 3**: This article discusses the Emergency period in India in 1975-1977, during which time the government implemented various economic measures, including tax breaks and exemptions. The article also mentions that many people were arrested without trial during this period, including a significant number of Sikhs.\n",
      "\n",
      "**Information 4**: This article explains the provisions of Articles 352-360 of the Indian Constitution, which relate to emergency powers. It discusses how the President can declare a state of emergency, which can be extended for up to 3 years, and how the Union government is responsible for ensuring that state governments function according to the Constitution during this time.\n",
      "\n",
      "**Information 5**: This article is unrelated to the Indian Constitution and emergency provisions. It reports on a state of emergency declared in Colombia in 2020 in response to the COVID-19 pandemic, and the economic measures taken by the government to mitigate its impact.\n",
      "\n",
      "Now, to evaluate the <CLAIM>, we need to examine whether it is supported by the available information.\n",
      "\n",
      "The <CLAIM> states that according to \"Article 116,\" a state of emergency will begin across Colombia at 6 a.m. on the 17th. However, none of the provided INFORMATION mentions Article 116 or supports this specific claim. Information 5 does report on a state of emergency declared in Colombia, but it does not mention Article 116 or a specific start time of 6 a.m. on the 17th.\n",
      "\n",
      "Therefore, based on the available information, I would classify the <CLAIM> as FALSE.\n"
     ]
    }
   ],
   "source": [
    "x = {\"query\": \"Below is a CLAIM and the PRIOR KNOWLEDGE associated with it. Please classify the CLAIM as TRUE or FALSE based on the PRIOR KNOWLEDGE. If the content described by the CLAIM is correct, then classify it as TRUE; if the content described by the CLAIM is incorrect, then classify it as FALSE.\\n\\nCLAIM: According to \\\"Article 116,\\\" a state of emergency will begin across Colombia at 6 a.m. on the 17th.\\nPublication date: 2020-03-17\\n\\nPRIOR KNOWLEDGE:\\nInformation 1:\\nPublication date: None\\nTitle: Emergency Provisions\\nContent:\\nIf approved by both the houses, the Emergency continues for 6 months and can be extended to an indefinite period with an approval of the Parliament for every six months.\\nSuspension of Fundamental rights under Article 19: According to Article 358, when a proclamation of National Emergency is made, the six fundamental rights under article 19 are automatically suspended. Article 19 is automatically revived after the expiry of the emergency.\\nArticle 356 empowers the President to issue a proclamation if he is satisfied that a situation has arisen in which the government of a state cannot be carried on in accordance with the provisions of the constitution.\\nArticle 365 says that whenever a state fails to comply with or to give effect to any direction from the centre, it will be lawful for the President to hold that a situation has arisen in which the government of the state cannot be carried on in accordance with the provisions of the constitution.\\nInformation 2:\\nPublication date: None\\nTitle: National Emergency\\nContent:\\nIf approved by both the houses, the Emergency continues for 6 months and can be extended to an indefinite period with an approval of the Parliament for every six months. Every resolution approving the proclamation of emergency or its continuance must be passed by either House of Parliament by a special majority.\\nSuspension of Fundamental rights under Article 19: According to Article 358, when a proclamation of National Emergency is made, the six fundamental rights under article 19 are automatically suspended. Article 19 is automatically revived after the expiry of the emergency.\\nEffect on fundamental rights: Articles 358 and 359 describes the effect of a National Emergency on the Fundamental Rights. These two provisions are explained below: Suspension of Fundamental rights under Article 19: According to Article 358, when a proclamation of National Emergency is made, the six fundamental rights under article 19 are automatically suspended.\\nEven when the emergency was in operation, the third proclamation of National Emergency was made in June 1975. Both the second and the third proclamations were revoked in March 1977 · Article 355 imposes a duty on the centre to ensure that the government of every state is carried on in accordance with the provisions of the constitution.\\nInformation 3:\\nPublication date: 2024-06-07\\nTitle: The Emergency (India) - Wikipedia\\nContent:\\nWith a wafer-thin majority of 7 to 6, the bench of the Supreme Court restricted Parliament's amendment power by stating it could not be used to alter the \\\"basic structure\\\" of the Constitution. Subsequently, Prime Minister Gandhi made A. N. Ray—the senior-most judge amongst those in the minority in Kesavananda Bharati—Chief Justice of India.\\nThis was due to many reasons such as RBI's policy of putting in place a 6 per cent ceiling on annual money supply growth months before the emergency, record monsoon in the year of 1975 leading to record harvest of foodgrains which led to food prices declining, increased import of grains, and reduced demand due to cutting of worker's wages and bonuses.\\nHowever, these reduced prices only lasted till March 1976 when the prices of commodities started to go up again, on account of foodgrain production declining by 7.9%. Between 1 April and 6 October 1976 the wholesale price index rose by 10%, in which the price of rice rose by 8.3%, groundnut oil rose by 48%, while the prices of industrial raw materials as a group rose by 29.3%.\\nThe emergency regime exempted those earning between Rs 6,000-8,000 from taxation, provided tax breaks for those earning between Rs 8,000-15,000 in the range of Rs 45-264. There were only 3.8 million (38 lakh) taxpayers in the country at the time. Wealth taxes were also cut from 8% to 2.5% while the income taxes on those earning more than Rs 100,000 were reduced from 77% to 66%. This was expected to lower the government's revenue by Rs 3.08-3.25 billion.\\nDuring Emergency SGPC offices used to be flooded with Anti-Emergency activists from RSS and BJP who had taken shelter to escape the government. According to Amnesty International, 140,000 people had been arrested without trial during the twenty months of Gandhi's Emergency. Jasjit Singh Grewal estimates that 43,000 of them came from India's two per cent Sikh minority.\\nInformation 4:\\nPublication date: 2020-02-01\\nTitle: Emergency in India: Explanation of Article 352 - 360 under the Constitution\\nContent:\\nAccording to Article 354, the distribution of revenue between the Union and the State can be altered by the Centre. As per Article 83(2), the normal life of the Lok Sabha may be extended by the President by a year each time up to a period not exceeding 6 months after the proclamation ceases to operate.\\nThe Proclamation will remain in operation for 6 months after it has been approved by the Parliament. The duration of an emergency can be extended for 6 months at a time but it cannot remain in operation for more than 3 years. By a subsequent Proclamation, a proclamation of State Emergency can be revoked.\\nIt is the duty of the Union to ensure that the State remains protected from disturbance and external aggression, while the Proclamation of Emergency is in operation. The Union shall ensure that the State Government works according to the provisions of the Constitution.\\nThe Union shall ensure that the State Government works according to the provisions of the Constitution. As per Article 356, if the President after receiving a report from the Governor of a State or otherwise is satisfied that such a situation exists where the Government of a State cannot be carried in accordance with the provisions of the Constitution, he may issue a Proclamation.\\nInformation 5:\\nPublication date: 2020-05-07\\nTitle: Colombian President Duque declares new state of emergency to ease pain of virus lockdown | Reuters\\nContent:\\nBOGOTA (Reuters) - Colombia has declared a second state of emergency to support sectors of the economy that will remain shut down for an extended period to reduce the spread of the novel coronavirus, President Ivan Duque said on Wednesday.\\nColombian fiscal authorities on Monday cleared the way for the government to widen its deficit to 6.1% of gross domestic product this year, owing to an expected 5.5% economic contraction.\\nFILE PHOTO: Demonstrators take part in a protest demanding government food aid for the poor, amid the coronavirus disease (COVID-19) outbreak in Bogota, Colombia April 16, 2020. REUTERS/Luisa Gonzalez/File Photo Purchase Licensing Rights, opens new tab\\nUnder the measures, the government will subsidize workers' pay to the tune of 40% of the minimum wage in companies whose turnover has fallen by at least 20% due to the impact of the coronavirus outbreak. The minimum wage in Colombia is just shy of 1 million pesos a month, or around $250.\\n\\nHere is a clear summary of the given INFORMATION:\\n\\n**Information 1 and 2**: These two pieces of information discuss the Emergency Provisions in the Indian Constitution. They explain that if a national emergency is declared, it can continue for 6 months and be extended indefinitely with parliamentary approval. During this time, certain fundamental rights under Article 19 are suspended, but are revived after the emergency ends. The President has the power to issue a proclamation of emergency if a situation arises where a state government cannot function according to the Constitution.\\n\\n**Information 3**: This article discusses the Emergency period in India in 1975-1977, during which time the government implemented various economic measures, including tax breaks and exemptions. The article also mentions that many people were arrested without trial during this period, including a significant number of Sikhs.\\n\\n**Information 4**: This article explains the provisions of Articles 352-360 of the Indian Constitution, which relate to emergency powers. It discusses how the President can declare a state of emergency, which can be extended for up to 3 years, and how the Union government is responsible for ensuring that state governments function according to the Constitution during this time.\\n\\n**Information 5**: This article is unrelated to the Indian Constitution and emergency provisions. It reports on a state of emergency declared in Colombia in 2020 in response to the COVID-19 pandemic, and the economic measures taken by the government to mitigate its impact.\\n\\nNow, to evaluate the <CLAIM>, we need to examine whether it is supported by the available information.\\n\\nThe <CLAIM> states that according to \\\"Article 116,\\\" a state of emergency will begin across Colombia at 6 a.m. on the 17th. However, none of the provided INFORMATION mentions Article 116 or supports this specific claim. Information 5 does report on a state of emergency declared in Colombia, but it does not mention Article 116 or a specific start time of 6 a.m. on the 17th.\\n\\nTherefore, based on the available information, I would classify the <CLAIM> as FALSE.\", \"response\": \"FALSE.\"}\n",
    "\n",
    "print(x.keys())\n",
    "print()\n",
    "print('response:', x[\"response\"])\n",
    "print()\n",
    "print(x[\"query\"])\n"
   ]
  },
  {
   "cell_type": "code",
   "execution_count": 71,
   "metadata": {},
   "outputs": [
    {
     "data": {
      "text/plain": [
       "816.864"
      ]
     },
     "execution_count": 71,
     "metadata": {},
     "output_type": "execute_result"
    }
   ],
   "source": [
    "0.067 * 12192"
   ]
  },
  {
   "cell_type": "code",
   "execution_count": 74,
   "metadata": {},
   "outputs": [
    {
     "data": {
      "text/plain": [
       "0.06733923884514435"
      ]
     },
     "execution_count": 74,
     "metadata": {},
     "output_type": "execute_result"
    }
   ],
   "source": [
    "(136 * 6 + 5) / 12192"
   ]
  },
  {
   "cell_type": "code",
   "execution_count": 61,
   "metadata": {},
   "outputs": [
    {
     "name": "stdout",
     "output_type": "stream",
     "text": [
      "Fleiss' Kappa: 0.8489833376129666\n"
     ]
    }
   ],
   "source": [
    "import numpy as np\n",
    "from statsmodels.stats.inter_rater import fleiss_kappa\n",
    "\n",
    "# 构建标注矩阵\n",
    "data = np.array(\n",
    "    [[2, 1], [1, 2], [2, 1], [2, 1], [2, 1], [2, 1]] * 136 + [[2, 1], [1, 2], [2, 1], [2, 1], [2, 1]] + [\n",
    "    [3, 0],  # 三位标注者均选择第一类\n",
    "    [3, 0],\n",
    "    [3, 0],\n",
    "    [3, 0],\n",
    "    [0, 3],\n",
    "    [3, 0],  # 三位标注者均选择第一类\n",
    "]* 1895 + [[3, 0]]) \n",
    "\n",
    "# 计算 Fleiss' Kappa\n",
    "kappa = fleiss_kappa(data, method='fleiss')\n",
    "print(\"Fleiss' Kappa:\", kappa)\n"
   ]
  },
  {
   "cell_type": "code",
   "execution_count": 75,
   "metadata": {},
   "outputs": [
    {
     "data": {
      "text/plain": [
       "12192"
      ]
     },
     "execution_count": 75,
     "metadata": {},
     "output_type": "execute_result"
    }
   ],
   "source": [
    "len(data)\n"
   ]
  },
  {
   "cell_type": "markdown",
   "metadata": {},
   "source": [
    "Existing misinformation detection benchmark datasets (e.g., COVMIS and LIAR2) are limited by their reliance on fact-checking labels that are prone to fac-tual inaccuracies due to cognitive con-straints of fact-checkers and outdated la-bels. Prior real-time misinformation de-tection tasks have been hindered by the dual problems of label redundancy and cold start. To this end, we propose a nov-el Cyclic Evidence-based Misinfor-mation Detection (CEMD) framework, which incorporates two core mechanisms: (i) a Retrieval Augmented Generation (RAG) pipeline that accesses the latest external knowledge to augment insuffi-cient prior knowledge, and (ii) a cyclic evidence-bootstrapping mechanism that mitigates label redundancy and cold start. We introduce an improved bench-mark dataset, COVMIS2, built upon COVMIS, and conduct comprehensive experiments to evaluate the efficacy of our framework. Our results demonstrate that CEMD outperforms the prior state-of-the-art (SOTA) baseline on LIAR2 by 11.95% and surpasses the human baseline on COVMIS2 by 6.31%, leveraging the Llama-3-70B-Instruct model to augment prior knowledge and the DoRA fine-tuned Llama-3-8B-Instruct model for bi-nary classification.\n",
    "\n",
    "Existing misinformation detection benchmark datasets (e.g., COVMIS and LIAR2) are limited by their reliance on fact-checking labels that are prone to factual inaccuracies due to outdated la-bels and cognitive constraints of fact-checkers. Moreover, prior real-time mis-information detection tasks have been hindered by the dual problems of label redundancy and cold start. To this end, we propose a novel Cyclic Evidence-based Misinformation Detection (CEMD) framework, which incorporates two core mechanisms: (i) a Retrieval Augmented Generation (RAG) pipeline that accesses the latest external knowledge to augment insufficient prior knowledge, and (ii) a cyclic evidence-bootstrapping mecha-nism that mitigates label redundancy and cold start. We introduce an improved benchmark dataset, COVMIS2, built up-on COVMIS, and conduct comprehensive experiments to evaluate the efficacy of our framework. Our results demonstrate that CEMD outperforms the prior state-of-the-art (SOTA) baseline on LIAR2 by 11.95% and surpasses the human baseline on COVMIS2 by 6.31%, leveraging the Llama-3-70B-Instruct model to augment prior knowledge and the DoRA fine-tuned Llama-3-8B-Instruct model for bi-nary classification.\n"
   ]
  },
  {
   "cell_type": "code",
   "execution_count": 1,
   "metadata": {},
   "outputs": [
    {
     "name": "stdout",
     "output_type": "stream",
     "text": [
      "The default implementation runs in 927.106 microseconds\n"
     ]
    },
    {
     "name": "stderr",
     "output_type": "stream",
     "text": [
      "/home/hanlv/miniconda3/envs/swift/lib/python3.11/site-packages/torch/backends/cuda/__init__.py:342: FutureWarning: torch.backends.cuda.sdp_kernel() is deprecated. In the future, this context manager will be removed. Please see, torch.nn.attention.sdpa_kernel() for the new context manager, with updated signature.\n",
      "  warnings.warn(\n"
     ]
    },
    {
     "name": "stdout",
     "output_type": "stream",
     "text": [
      "The math implementation runs in 10094.952 microseconds\n",
      "The flash attention implementation runs in 918.287 microseconds\n",
      "The memory efficient implementation runs in 1782.254 microseconds\n"
     ]
    }
   ],
   "source": [
    "import torch\n",
    "import torch.utils.benchmark as benchmark\n",
    "from torch.backends.cuda import sdp_kernel, SDPBackend\n",
    "# from torch.nn.attention import sdp_kernel\n",
    "import torch.nn.functional as F\n",
    "import os\n",
    "import numpy as np\n",
    "import random\n",
    "\n",
    "DEFAULT_SEED = 42\n",
    "\n",
    "def set_seed(seed=DEFAULT_SEED):\n",
    "    torch.manual_seed(seed)\n",
    "    torch.cuda.manual_seed_all(seed)\n",
    "    np.random.seed(seed)\n",
    "    random.seed(seed)\n",
    "    torch.backends.cudnn.deterministic = True\n",
    "\n",
    "\n",
    "# os.environ['CUDA_VISIBLE_DEVICES'] = '2'\n",
    "# Lets define a helpful benchmarking function:\n",
    "def benchmark_torch_function_in_microseconds(f, *args, **kwargs):\n",
    "    t0 = benchmark.Timer(\n",
    "        stmt=\"f(*args, **kwargs)\", globals={\"args\": args, \"kwargs\": kwargs, \"f\": f}\n",
    "    )\n",
    "    return t0.blocked_autorange().mean * 1e6\n",
    "\n",
    "# Lets define the hyper-parameters of our input\n",
    "batch_size = 32\n",
    "max_sequence_len = 1024\n",
    "num_heads = 32\n",
    "embed_dimension = 32\n",
    "\n",
    "dtype = torch.float16\n",
    "device = \"cuda:0\"\n",
    "\n",
    "query = torch.rand(batch_size, num_heads, max_sequence_len, embed_dimension, device=device, dtype=dtype)\n",
    "key = torch.rand(batch_size, num_heads, max_sequence_len, embed_dimension, device=device, dtype=dtype)\n",
    "value = torch.rand(batch_size, num_heads, max_sequence_len, embed_dimension, device=device, dtype=dtype)\n",
    "\n",
    "print(f\"The default implementation runs in {benchmark_torch_function_in_microseconds(F.scaled_dot_product_attention, query, key, value):.3f} microseconds\")\n",
    "\n",
    "# Lets explore the speed of each of the 3 implementations\n",
    "\n",
    "# Helpful arg mapper\n",
    "backend_map = {\n",
    "    SDPBackend.MATH: {\"enable_math\": True, \"enable_flash\": False, \"enable_mem_efficient\": False},\n",
    "    SDPBackend.FLASH_ATTENTION: {\"enable_math\": False, \"enable_flash\": True, \"enable_mem_efficient\": False},\n",
    "    SDPBackend.EFFICIENT_ATTENTION: {\n",
    "        \"enable_math\": False, \"enable_flash\": False, \"enable_mem_efficient\": True}\n",
    "}\n",
    "\n",
    "with sdp_kernel(**backend_map[SDPBackend.MATH]):\n",
    "    print(f\"The math implementation runs in {benchmark_torch_function_in_microseconds(F.scaled_dot_product_attention, query, key, value):.3f} microseconds\")\n",
    "\n",
    "with sdp_kernel(**backend_map[SDPBackend.FLASH_ATTENTION]):\n",
    "    try:\n",
    "        print(f\"The flash attention implementation runs in {benchmark_torch_function_in_microseconds(F.scaled_dot_product_attention, query, key, value):.3f} microseconds\")\n",
    "    except RuntimeError:\n",
    "        print(\"FlashAttention is not supported. See warnings for reasons.\")\n",
    "\n",
    "with sdp_kernel(**backend_map[SDPBackend.EFFICIENT_ATTENTION]):\n",
    "    try:\n",
    "        print(f\"The memory efficient implementation runs in {benchmark_torch_function_in_microseconds(F.scaled_dot_product_attention, query, key, value):.3f} microseconds\")\n",
    "    except RuntimeError:\n",
    "        print(\"EfficientAttention is not supported. See warnings for reasons.\")\n"
   ]
  },
  {
   "cell_type": "code",
   "execution_count": 1,
   "metadata": {},
   "outputs": [],
   "source": [
    "dtype = torch.bfloat16\n",
    "\n",
    "set_seed()\n",
    "query = torch.rand(batch_size, num_heads, max_sequence_len, embed_dimension, device=device, dtype=dtype)\n",
    "key = torch.rand(batch_size, num_heads, max_sequence_len, embed_dimension, device=device, dtype=dtype)\n",
    "value = torch.rand(batch_size, num_heads, max_sequence_len, embed_dimension, device=device, dtype=dtype)\n",
    "\n",
    "\n",
    "# with sdp_kernel(**backend_map[SDPBackend.FLASH_ATTENTION]):\n",
    "# print(F.scaled_dot_product_attention(query, key, value))\n",
    "    \n"
   ]
  },
  {
   "cell_type": "code",
   "execution_count": 2,
   "metadata": {},
   "outputs": [
    {
     "name": "stdout",
     "output_type": "stream",
     "text": [
      "0.9877\n",
      "0.9833\n",
      "0.9884\n",
      "0.9784\n"
     ]
    }
   ],
   "source": [
    "from decimal import Decimal\n",
    "import decimal\n",
    "\n",
    "def data_round(x):\n",
    "    return str(Decimal(x).quantize(Decimal('0.0000'), rounding=decimal.ROUND_HALF_UP))\n",
    "\n",
    "\n",
    "def res_trans(res):\n",
    "    print(data_round(res[\"ACC\"]))\n",
    "    print(data_round(res[\"F1\"]))\n",
    "    print(data_round(res[\"Precision\"]))\n",
    "    print(data_round(res[\"Recall\"]))\n",
    "\n",
    "res = {\n",
    "        \"model\": \"Mistral-7B-Instruct-v0.3\",\n",
    "        \"train_test_split\": \"8:2\",\n",
    "        \"train_ratio\": \"1.0\",\n",
    "        \"train_loss\": 0.06997728,\n",
    "        \"lr\": \"1.4e-4\",\n",
    "        \"ACC\": 0.9877049180327869,\n",
    "        \"F1\": 0.9832533980502562,\n",
    "        \"Precision\": 0.9883868032359371,\n",
    "        \"Recall\": 0.9783695652173913\n",
    "    }\n",
    "\n",
    "res_trans(res)\n"
   ]
  },
  {
   "cell_type": "code",
   "execution_count": 4,
   "metadata": {},
   "outputs": [
    {
     "data": {
      "text/plain": [
       "0.98704"
      ]
     },
     "execution_count": 4,
     "metadata": {},
     "output_type": "execute_result"
    }
   ],
   "source": [
    "import numpy as np\n",
    "x = np.array([0.9869,\t0.9877,\t0.9852,\t0.9877,\t0.9877])\n",
    "x.mean()\n",
    "# 0.98672 0.98622 0.9852399999999999"
   ]
  },
  {
   "cell_type": "code",
   "execution_count": 10,
   "metadata": {},
   "outputs": [
    {
     "data": {
      "text/plain": [
       "['checkpoint-1148']"
      ]
     },
     "execution_count": 10,
     "metadata": {},
     "output_type": "execute_result"
    }
   ],
   "source": [
    "import os\n",
    "file = '/home/hanlv/workspace/code/research/infodemic/LLM/swift/examples/pytorch/llm/output/liar2/Llama-3-8B-Instruct/with_llama3_info/brave/data1a-split=8:1:1-ratio=1.0/dora-r=8/lr=1.1e-4-20240827-13:17:06'\n",
    "\n",
    "\n",
    "\n",
    "get_ckpts(file)"
   ]
  }
 ],
 "metadata": {
  "kernelspec": {
   "display_name": "swift",
   "language": "python",
   "name": "python3"
  },
  "language_info": {
   "codemirror_mode": {
    "name": "ipython",
    "version": 3
   },
   "file_extension": ".py",
   "mimetype": "text/x-python",
   "name": "python",
   "nbconvert_exporter": "python",
   "pygments_lexer": "ipython3",
   "version": "3.11.9"
  }
 },
 "nbformat": 4,
 "nbformat_minor": 2
}
