{
 "cells": [
  {
   "cell_type": "code",
   "execution_count": 3,
   "metadata": {},
   "outputs": [
    {
     "data": {
      "text/plain": [
       "False"
      ]
     },
     "execution_count": 3,
     "metadata": {},
     "output_type": "execute_result"
    }
   ],
   "source": [
    "s = \"1\"\n",
    "\n",
    "int(s) == 2\n"
   ]
  },
  {
   "cell_type": "code",
   "execution_count": 1,
   "metadata": {},
   "outputs": [
    {
     "name": "stderr",
     "output_type": "stream",
     "text": [
      "2024-02-16 01:25:26,550 - modelscope - INFO - PyTorch version 2.1.2 Found.\n",
      "2024-02-16 01:25:26,552 - modelscope - INFO - Loading ast index from /home/hanlv/.cache/modelscope/ast_indexer\n",
      "2024-02-16 01:25:26,670 - modelscope - INFO - Loading done! Current index file version is 1.11.0, with md5 dc3cda2b56a86b0242cd145399a14071 and a total number of 953 components indexed\n",
      "[INFO:swift] Setting torch_dtype: torch.bfloat16\n",
      "[INFO:swift] model_config: MistralConfig {\n",
      "  \"_name_or_path\": \"/home/css/models/openchat-3.5-0106\",\n",
      "  \"architectures\": [\n",
      "    \"MistralForCausalLM\"\n",
      "  ],\n",
      "  \"attention_dropout\": 0.0,\n",
      "  \"bos_token_id\": 1,\n",
      "  \"eos_token_id\": 32000,\n",
      "  \"hidden_act\": \"silu\",\n",
      "  \"hidden_size\": 4096,\n",
      "  \"initializer_range\": 0.02,\n",
      "  \"intermediate_size\": 14336,\n",
      "  \"max_position_embeddings\": 8192,\n",
      "  \"model_type\": \"mistral\",\n",
      "  \"num_attention_heads\": 32,\n",
      "  \"num_hidden_layers\": 32,\n",
      "  \"num_key_value_heads\": 8,\n",
      "  \"rms_norm_eps\": 1e-05,\n",
      "  \"rope_theta\": 10000.0,\n",
      "  \"sliding_window\": 4096,\n",
      "  \"tie_word_embeddings\": false,\n",
      "  \"torch_dtype\": \"bfloat16\",\n",
      "  \"transformers_version\": \"4.36.2\",\n",
      "  \"use_cache\": true,\n",
      "  \"vocab_size\": 32002\n",
      "}\n",
      "\n",
      "Special tokens have been added in the vocabulary, make sure the associated word embeddings are fine-tuned or trained.\n"
     ]
    },
    {
     "data": {
      "application/vnd.jupyter.widget-view+json": {
       "model_id": "889c88103de0462991ac1c2fcb8fe05e",
       "version_major": 2,
       "version_minor": 0
      },
      "text/plain": [
       "Loading checkpoint shards:   0%|          | 0/3 [00:00<?, ?it/s]"
      ]
     },
     "metadata": {},
     "output_type": "display_data"
    }
   ],
   "source": [
    "# 修改checkpoint路径\n",
    "ckpt_dir = \"/home/hanlv/workspace/code/research/infodemic/LLM/swift/examples/pytorch/llm/output/openchat_3.5/with_solar_info/brave/data1-split=8:2-ratio=1.0/adalora/lr=3.3e-4-20240215-20:05:01/checkpoint-609\"\n",
    "\n",
    "import os\n",
    "import sys\n",
    "import json\n",
    "os.environ['CUDA_VISIBLE_DEVICES'] = '0'\n",
    "\n",
    "dirs = [\"..\"]\n",
    "for _dir in dirs:\n",
    "    if _dir not in sys.path:\n",
    "        sys.path.append(_dir)\n",
    "\n",
    "from swift.llm import (\n",
    "    get_model_tokenizer, get_template, inference\n",
    ")\n",
    "from swift.tuners import Swift\n",
    "from custom import CustomModelType, CustomTemplateType\n",
    "import evaluation\n",
    "\n",
    "with open(f\"{ckpt_dir}/sft_args.json\", \"r\") as f:\n",
    "    sft_args = json.load(f)\n",
    "\n",
    "def get_model_template():\n",
    "    model_type, template_type = sft_args[\"model_type\"], sft_args[\"template_type\"]\n",
    "    model, tokenizer = get_model_tokenizer(\n",
    "        model_type, model_kwargs={'device_map': 'auto'},\n",
    "        model_dir=sft_args[\"model_cache_dir\"]\n",
    "    )\n",
    "    model = Swift.from_pretrained(model, ckpt_dir, inference_mode=True)\n",
    "    if sft_args[\"sft_type\"] == 'adalora':\n",
    "        model = model.to(model.dtype)\n",
    "    model.generation_config.max_new_tokens = 512\n",
    "    model.generation_config.do_sample = False\n",
    "\n",
    "    template = get_template(template_type, tokenizer)\n",
    "\n",
    "    return model, template\n",
    "\n",
    "model, template = get_model_template()\n",
    "\n"
   ]
  },
  {
   "cell_type": "code",
   "execution_count": 21,
   "metadata": {},
   "outputs": [
    {
     "name": "stdout",
     "output_type": "stream",
     "text": [
      "According to the CLAIM and the PRIOR KNOWLEDGE, please classify the CLAIM as TRUE or FALSE. If the content described by the CLAIM is correct, then classify it as TRUE; if the content described by the CLAIM is incorrect, then classify it as FALSE.\n",
      "\n",
      "CLAIM:\n",
      "Publication date: 2020-01-31\n",
      "Content: Yes, suspected case of coronavirus reported in Kenya, patient in hospital after showing symptoms\n",
      "\n",
      "PRIOR KNOWLEDGE:\n",
      "Information 1:\n",
      "Publication date: None\n",
      "Title: Yes, suspected case of coronavirus reported in Kenya, patient ...\n",
      "Content:\n",
      "NTV reported that a Kenyan student, a passenger on a plane from Guangzhou city in China to Nairobi’s Jomo Kenyatta International Airport, had shown symptoms of the virus. The student was admitted to Kenyatta National Hospital, the country’s biggest referral hospital, on the morning of 28 January, NTV said.\n",
      "On 28 January Kenya’s ministry of health issued a statement on its Facebook and Twitter pages confirming that a patient showing coronavirus symptoms had been admitted to hospital. “On the morning of 28 January 2020, the Ministry of Health was notified of a passenger aboard flight KQ 887 from Guangzhou China who upon screening on arrival at Jomo Kenyatta International Airport (JKIA) was found to have fever,” the statement reads.\n",
      "“He was immediately isolated in a temporary holding room at JKIA and later transferred to the Infectious Disease Unit, Kenyatta National Hospital (KNH) for investigation and admission.” A day later the ministry issued an update, saying the patient would remain in isolation until tests were completed.\n",
      "Information 2:\n",
      "Publication date: None\n",
      "Title: Yes, suspected case of coronavirus reported in Kenya, patient in ...\n",
      "Content:\n",
      "NTV reported that a Kenyan student, a passenger on a plane from Guangzhou city in China to Nairobi’s Jomo Kenyatta International Airport, had shown symptoms of the virus. The student was admitted to Kenyatta National Hospital, the country’s biggest referral hospital, on the morning of 28 January, NTV said.\n",
      "On 28 January Kenya’s ministry of health issued a statement on its Facebook and Twitter pages confirming that a patient showing coronavirus symptoms had been admitted to hospital. “On the morning of 28 January 2020, the Ministry of Health was notified of a passenger aboard flight KQ 887 from Guangzhou China who upon screening on arrival at Jomo Kenyatta International Airport (JKIA) was found to have fever,” the statement reads.\n",
      "“He was immediately isolated in a temporary holding room at JKIA and later transferred to the Infectious Disease Unit, Kenyatta National Hospital (KNH) for investigation and admission.” A day later the ministry issued an update, saying the patient would remain in isolation until tests were completed.\n",
      "Information 3:\n",
      "Publication date: None\n",
      "Title: Coronavirus Disease 2019 (COVID-19) in Kenya: Preparedness, response ...\n",
      "Content:\n",
      "The world and <strong>Kenya</strong> face a potential pandemic as the respiratory virus <strong>Coronavirus</strong> Disease 2019 (COVID-19) affects world populations. Nations have been forced to intervene and issue directions under executive orders to ensure the pandemic is contained. ...\n",
      "Information 4:\n",
      "Publication date: None\n",
      "Title: MoH | Ministry of Health\n",
      "Content:\n",
      "The Kenya Medical Training College (KMTC) is a State Corporation established through an Act of Parliament under the Ministry of Health, entrusted with the role of training various disciplines in the health sector to serve the Kenyan interests, East Africa and beyond.\n",
      "Malaria vaccination targeting children within Kenya's lake-endemic region\n",
      "Information 5:\n",
      "Publication date: 2020-03-13\n",
      "Title: Kenya Confirms First COVID-19 Infection\n",
      "Content:\n",
      "East African nation becomes 11th country in Africa to confirm the <strong>coronavirus</strong>\n",
      "\n",
      "To classify the CLAIM accurately, let's analyze the available information and relate it to the CLAIM.\n",
      "\n",
      "CLAIM: Publication date: 2020-01-31, Content: Yes, suspected case of coronavirus reported in Kenya, patient in hospital after showing symptoms.\n",
      "\n",
      "Information 1 and Information 2 both provide details about a Kenyan student who showed symptoms of the virus after arriving from Guangzhou, China. The student was admitted to the Kenyatta National Hospital for investigation. The Kenyan Ministry of Health confirmed this event and mentioned that the patient was in isolation until tests were completed.\n",
      "\n",
      "Information 3 discusses the potential pandemic caused by the coronavirus (COVID-19) and how nations, including Kenya, are preparing and responding to it. This information supports the presence of coronavirus concerns in Kenya.\n",
      "\n",
      "Information 4 is not directly related to the CLAIM but provides background information about the Kenya Medical Training College and the Ministry of Health's role in the health sector.\n",
      "\n",
      "Information 5 reports that Kenya confirmed its first COVID-19 infection on March 13, 2020. This information shows that the coronavirus did indeed reach Kenya, although it is not directly related to the specific suspected case mentioned in the CLAIM.\n",
      "\n",
      "Based on Information 1, Information 2, and Information 3, it can be concluded that the CLAIM is accurate. The information provided confirms the presence of a suspected coronavirus case in Kenya, with the patient being hospitalized after showing symptoms. Therefore, the CLAIM can be classified as TRUE.\n",
      "\n",
      "response: FALSE. label: FALSE.\n"
     ]
    }
   ],
   "source": [
    "items = [\n",
    "    {\"query\": \"According to the CLAIM and the PRIOR KNOWLEDGE, please classify the CLAIM as TRUE or FALSE. If the content described by the CLAIM is correct, then classify it as TRUE; if the content described by the CLAIM is incorrect, then classify it as FALSE.\\n\\nCLAIM:\\nPublication date: 2020-01-31\\nContent: Yes, suspected case of coronavirus reported in Kenya, patient in hospital after showing symptoms\\n\\nPRIOR KNOWLEDGE:\\nInformation 1:\\nPublication date: None\\nTitle: Yes, suspected case of coronavirus reported in Kenya, patient ...\\nContent:\\nNTV reported that a Kenyan student, a passenger on a plane from Guangzhou city in China to Nairobi’s Jomo Kenyatta International Airport, had shown symptoms of the virus. The student was admitted to Kenyatta National Hospital, the country’s biggest referral hospital, on the morning of 28 January, NTV said.\\nOn 28 January Kenya’s ministry of health issued a statement on its Facebook and Twitter pages confirming that a patient showing coronavirus symptoms had been admitted to hospital. “On the morning of 28 January 2020, the Ministry of Health was notified of a passenger aboard flight KQ 887 from Guangzhou China who upon screening on arrival at Jomo Kenyatta International Airport (JKIA) was found to have fever,” the statement reads.\\n“He was immediately isolated in a temporary holding room at JKIA and later transferred to the Infectious Disease Unit, Kenyatta National Hospital (KNH) for investigation and admission.” A day later the ministry issued an update, saying the patient would remain in isolation until tests were completed.\\nInformation 2:\\nPublication date: None\\nTitle: Yes, suspected case of coronavirus reported in Kenya, patient in ...\\nContent:\\nNTV reported that a Kenyan student, a passenger on a plane from Guangzhou city in China to Nairobi’s Jomo Kenyatta International Airport, had shown symptoms of the virus. The student was admitted to Kenyatta National Hospital, the country’s biggest referral hospital, on the morning of 28 January, NTV said.\\nOn 28 January Kenya’s ministry of health issued a statement on its Facebook and Twitter pages confirming that a patient showing coronavirus symptoms had been admitted to hospital. “On the morning of 28 January 2020, the Ministry of Health was notified of a passenger aboard flight KQ 887 from Guangzhou China who upon screening on arrival at Jomo Kenyatta International Airport (JKIA) was found to have fever,” the statement reads.\\n“He was immediately isolated in a temporary holding room at JKIA and later transferred to the Infectious Disease Unit, Kenyatta National Hospital (KNH) for investigation and admission.” A day later the ministry issued an update, saying the patient would remain in isolation until tests were completed.\\nInformation 3:\\nPublication date: None\\nTitle: Coronavirus Disease 2019 (COVID-19) in Kenya: Preparedness, response ...\\nContent:\\nThe world and <strong>Kenya</strong> face a potential pandemic as the respiratory virus <strong>Coronavirus</strong> Disease 2019 (COVID-19) affects world populations. Nations have been forced to intervene and issue directions under executive orders to ensure the pandemic is contained. ...\\nInformation 4:\\nPublication date: None\\nTitle: MoH | Ministry of Health\\nContent:\\nThe Kenya Medical Training College (KMTC) is a State Corporation established through an Act of Parliament under the Ministry of Health, entrusted with the role of training various disciplines in the health sector to serve the Kenyan interests, East Africa and beyond.\\nMalaria vaccination targeting children within Kenya's lake-endemic region\\nInformation 5:\\nPublication date: 2020-03-13\\nTitle: Kenya Confirms First COVID-19 Infection\\nContent:\\nEast African nation becomes 11th country in Africa to confirm the <strong>coronavirus</strong>\\n\\nTo classify the CLAIM accurately, let's analyze the available information and relate it to the CLAIM.\\n\\nCLAIM: Publication date: 2020-01-31, Content: Yes, suspected case of coronavirus reported in Kenya, patient in hospital after showing symptoms.\\n\\nInformation 1 and Information 2 both provide details about a Kenyan student who showed symptoms of the virus after arriving from Guangzhou, China. The student was admitted to the Kenyatta National Hospital for investigation. The Kenyan Ministry of Health confirmed this event and mentioned that the patient was in isolation until tests were completed.\\n\\nInformation 3 discusses the potential pandemic caused by the coronavirus (COVID-19) and how nations, including Kenya, are preparing and responding to it. This information supports the presence of coronavirus concerns in Kenya.\\n\\nInformation 4 is not directly related to the CLAIM but provides background information about the Kenya Medical Training College and the Ministry of Health's role in the health sector.\\n\\nInformation 5 reports that Kenya confirmed its first COVID-19 infection on March 13, 2020. This information shows that the coronavirus did indeed reach Kenya, although it is not directly related to the specific suspected case mentioned in the CLAIM.\\n\\nBased on Information 1, Information 2, and Information 3, it can be concluded that the CLAIM is accurate. The information provided confirms the presence of a suspected coronavirus case in Kenya, with the patient being hospitalized after showing symptoms. Therefore, the CLAIM can be classified as TRUE.\", \"response\": \"FALSE.\"}\n",
    "\t\n",
    "]\n",
    "_id = 0\n",
    "\n",
    "query = items[_id][\"query\"]\n",
    "# query = 'what is 1+1?'\n",
    "print(query + '\\n')\n",
    "response, history = inference(\n",
    "    model, template, query, \n",
    "    verbose=False, prompt_prefix='', output_prefix=''\n",
    ")\n",
    "\n",
    "print(f'response: {response} label: {items[_id][\"response\"]}')\n"
   ]
  }
 ],
 "metadata": {
  "kernelspec": {
   "display_name": "swift",
   "language": "python",
   "name": "python3"
  },
  "language_info": {
   "codemirror_mode": {
    "name": "ipython",
    "version": 3
   },
   "file_extension": ".py",
   "mimetype": "text/x-python",
   "name": "python",
   "nbconvert_exporter": "python",
   "pygments_lexer": "ipython3",
   "version": "3.10.13"
  }
 },
 "nbformat": 4,
 "nbformat_minor": 2
}
