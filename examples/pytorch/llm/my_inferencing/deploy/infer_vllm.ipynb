{
 "cells": [
  {
   "cell_type": "code",
   "execution_count": 1,
   "metadata": {},
   "outputs": [
    {
     "name": "stderr",
     "output_type": "stream",
     "text": [
      "2024-04-29 18:32:31,793 - modelscope - INFO - PyTorch version 2.2.1 Found.\n",
      "2024-04-29 18:32:31,795 - modelscope - INFO - Loading ast index from /home/hanlv/.cache/modelscope/ast_indexer\n",
      "2024-04-29 18:32:31,823 - modelscope - INFO - Loading done! Current index file version is 1.14.0, with md5 543353d790c7c1e5afd7a4dcd3609c68 and a total number of 976 components indexed\n",
      "[INFO:swift] Loading the model using model_dir: /home/css/models/Meta-Llama-3-70B-Instruct-GPTQ-Int4\n",
      "[INFO:swift] Setting torch_dtype: torch.float16\n",
      "[INFO:swift] model_config: LlamaConfig {\n",
      "  \"_name_or_path\": \"/home/css/models/Meta-Llama-3-70B-Instruct-GPTQ-Int4\",\n",
      "  \"architectures\": [\n",
      "    \"LlamaForCausalLM\"\n",
      "  ],\n",
      "  \"attention_bias\": false,\n",
      "  \"attention_dropout\": 0.0,\n",
      "  \"bos_token_id\": 128000,\n",
      "  \"eos_token_id\": 128001,\n",
      "  \"hidden_act\": \"silu\",\n",
      "  \"hidden_size\": 8192,\n",
      "  \"initializer_range\": 0.02,\n",
      "  \"intermediate_size\": 28672,\n",
      "  \"max_position_embeddings\": 8192,\n",
      "  \"model_type\": \"llama\",\n",
      "  \"num_attention_heads\": 64,\n",
      "  \"num_hidden_layers\": 80,\n",
      "  \"num_key_value_heads\": 8,\n",
      "  \"pretraining_tp\": 1,\n",
      "  \"quantization_config\": {\n",
      "    \"bits\": 4,\n",
      "    \"damp_percent\": 0.1,\n",
      "    \"desc_act\": false,\n",
      "    \"group_size\": 128,\n",
      "    \"modules_in_block_to_quantize\": null,\n",
      "    \"quant_method\": \"gptq\",\n",
      "    \"sym\": true,\n",
      "    \"true_sequential\": true\n",
      "  },\n",
      "  \"rms_norm_eps\": 1e-05,\n",
      "  \"rope_scaling\": null,\n",
      "  \"rope_theta\": 500000.0,\n",
      "  \"tie_word_embeddings\": false,\n",
      "  \"torch_dtype\": \"float16\",\n",
      "  \"transformers_version\": \"4.40.1\",\n",
      "  \"use_cache\": true,\n",
      "  \"vocab_size\": 128256\n",
      "}\n",
      "\n",
      "Special tokens have been added in the vocabulary, make sure the associated word embeddings are fine-tuned or trained.\n"
     ]
    },
    {
     "name": "stdout",
     "output_type": "stream",
     "text": [
      "WARNING 04-29 18:32:32 config.py:169] gptq quantization is not fully optimized yet. The speed can be slower than non-quantized models.\n"
     ]
    },
    {
     "name": "stderr",
     "output_type": "stream",
     "text": [
      "2024-04-29 18:32:34,319\tINFO worker.py:1749 -- Started a local Ray instance.\n"
     ]
    },
    {
     "name": "stdout",
     "output_type": "stream",
     "text": [
      "INFO 04-29 18:32:35 llm_engine.py:98] Initializing an LLM engine (v0.4.1) with config: model='/home/css/models/Meta-Llama-3-70B-Instruct-GPTQ-Int4', speculative_config=None, tokenizer='/home/css/models/Meta-Llama-3-70B-Instruct-GPTQ-Int4', skip_tokenizer_init=False, tokenizer_mode=auto, revision=None, tokenizer_revision=None, trust_remote_code=True, dtype=torch.float16, max_seq_len=8192, download_dir=None, load_format=auto, tensor_parallel_size=2, disable_custom_all_reduce=False, quantization=gptq, enforce_eager=False, kv_cache_dtype=auto, quantization_param_path=None, device_config=cuda, decoding_config=DecodingConfig(guided_decoding_backend='outlines'), seed=42)\n"
     ]
    },
    {
     "name": "stderr",
     "output_type": "stream",
     "text": [
      "Special tokens have been added in the vocabulary, make sure the associated word embeddings are fine-tuned or trained.\n"
     ]
    },
    {
     "name": "stdout",
     "output_type": "stream",
     "text": [
      "INFO 04-29 18:32:39 utils.py:608] Found nccl from library /home/hanlv/.config/vllm/nccl/cu12/libnccl.so.2.18.1\n",
      "\u001b[36m(RayWorkerWrapper pid=288263)\u001b[0m INFO 04-29 18:32:39 utils.py:608] Found nccl from library /home/hanlv/.config/vllm/nccl/cu12/libnccl.so.2.18.1\n",
      "INFO 04-29 18:32:39 selector.py:77] Cannot use FlashAttention backend because the flash_attn package is not found. Please install it for better performance.\n",
      "INFO 04-29 18:32:39 selector.py:33] Using XFormers backend.\n",
      "\u001b[36m(RayWorkerWrapper pid=288263)\u001b[0m INFO 04-29 18:32:40 selector.py:77] Cannot use FlashAttention backend because the flash_attn package is not found. Please install it for better performance.\n",
      "\u001b[36m(RayWorkerWrapper pid=288263)\u001b[0m INFO 04-29 18:32:40 selector.py:33] Using XFormers backend.\n",
      "INFO 04-29 18:32:42 pynccl_utils.py:43] vLLM is using nccl==2.18.1\n",
      "\u001b[36m(RayWorkerWrapper pid=288263)\u001b[0m INFO 04-29 18:32:42 pynccl_utils.py:43] vLLM is using nccl==2.18.1\n",
      "INFO 04-29 18:32:43 utils.py:129] reading GPU P2P access cache from /home/hanlv/.config/vllm/gpu_p2p_access_cache_for_1,2.json\n",
      "WARNING 04-29 18:32:43 custom_all_reduce.py:74] Custom allreduce is disabled because your platform lacks GPU P2P capability or P2P test failed. To silence this warning, specify disable_custom_all_reduce=True explicitly.\n",
      "\u001b[36m(RayWorkerWrapper pid=288263)\u001b[0m INFO 04-29 18:32:43 utils.py:129] reading GPU P2P access cache from /home/hanlv/.config/vllm/gpu_p2p_access_cache_for_1,2.json\n",
      "\u001b[36m(RayWorkerWrapper pid=288263)\u001b[0m WARNING 04-29 18:32:43 custom_all_reduce.py:74] Custom allreduce is disabled because your platform lacks GPU P2P capability or P2P test failed. To silence this warning, specify disable_custom_all_reduce=True explicitly.\n",
      "INFO 04-29 18:32:48 model_runner.py:173] Loading model weights took 18.5585 GB\n",
      "\u001b[36m(RayWorkerWrapper pid=288263)\u001b[0m INFO 04-29 18:32:53 model_runner.py:173] Loading model weights took 18.5585 GB\n",
      "INFO 04-29 18:32:57 ray_gpu_executor.py:217] # GPU blocks: 589, # CPU blocks: 1638\n",
      "\u001b[36m(RayWorkerWrapper pid=288263)\u001b[0m INFO 04-29 18:32:59 model_runner.py:976] Capturing the model for CUDA graphs. This may lead to unexpected consequences if the model is not static. To run the model in eager mode, set 'enforce_eager=True' or use '--enforce-eager' in the CLI.\n",
      "\u001b[36m(RayWorkerWrapper pid=288263)\u001b[0m INFO 04-29 18:32:59 model_runner.py:980] CUDA graphs can take additional 1~3 GiB memory per GPU. If you are running out of memory, consider decreasing `gpu_memory_utilization` or enforcing eager mode. You can also reduce the `max_num_seqs` as needed to decrease memory usage.\n",
      "INFO 04-29 18:32:59 model_runner.py:976] Capturing the model for CUDA graphs. This may lead to unexpected consequences if the model is not static. To run the model in eager mode, set 'enforce_eager=True' or use '--enforce-eager' in the CLI.\n",
      "INFO 04-29 18:32:59 model_runner.py:980] CUDA graphs can take additional 1~3 GiB memory per GPU. If you are running out of memory, consider decreasing `gpu_memory_utilization` or enforcing eager mode. You can also reduce the `max_num_seqs` as needed to decrease memory usage.\n",
      "\u001b[36m(RayWorkerWrapper pid=288263)\u001b[0m INFO 04-29 18:33:01 model_runner.py:1057] Graph capturing finished in 2 secs.\n",
      "INFO 04-29 18:33:01 model_runner.py:1057] Graph capturing finished in 2 secs.\n"
     ]
    }
   ],
   "source": [
    "import os\n",
    "import sys\n",
    "os.environ['CUDA_VISIBLE_DEVICES'] = '1,2'\n",
    "# os.environ['PYTORCH_CUDA_ALLOC_CONF'] = 'max_split_size_mb:512'\n",
    "dirs = [\"../..\"]\n",
    "for _dir in dirs:\n",
    "    if _dir not in sys.path:\n",
    "        sys.path.append(_dir)\n",
    "\n",
    "from swift.llm import (\n",
    "    ModelType, get_vllm_engine, get_default_template_type,\n",
    "    get_template, inference_vllm, VllmGenerationConfig\n",
    ")\n",
    "from custom import CustomModelType, CustomTemplateType\n",
    "\n",
    "model_type = CustomModelType.llama_3_70b_instruct_gptq_int4\n",
    "# model_type = ModelType.llama3_70b_instruct_int4\n",
    "\n",
    "llm_engine = get_vllm_engine(\n",
    "    model_type, \n",
    "    # torch_dtype=torch.float16,  # 检查正确的数据类型！！！！\n",
    "    tensor_parallel_size=2,\n",
    "    max_model_len=8192,\n",
    "    gpu_memory_utilization=0.95,\n",
    "    engine_kwargs = {\n",
    "        # \"enforce_eager\": True,\n",
    "        \"max_num_seqs\": 32,\n",
    "        \"seed\": 42,\n",
    "    }\n",
    ")\n",
    "\n",
    "template_type = get_default_template_type(model_type)\n",
    "template = get_template(template_type, llm_engine.hf_tokenizer)\n"
   ]
  },
  {
   "cell_type": "code",
   "execution_count": 16,
   "metadata": {},
   "outputs": [
    {
     "name": "stderr",
     "output_type": "stream",
     "text": [
      "100%|██████████| 1/1 [00:00<00:00,  3.89it/s]"
     ]
    },
    {
     "name": "stdout",
     "output_type": "stream",
     "text": [
      "query:\n",
      "Do not output.\n",
      "\n",
      "response:\n",
      "*silence*\n"
     ]
    },
    {
     "name": "stderr",
     "output_type": "stream",
     "text": [
      "\n"
     ]
    }
   ],
   "source": [
    "generation_config = VllmGenerationConfig(\n",
    "    max_new_tokens=4096,\n",
    "    temperature=0,\n",
    ")\n",
    "\n",
    "request_list = [\n",
    "#     {'query': 'Below is a CLAIM and some INFORMATION searched online. These pieces of INFORMATION are relevant to the CLAIM. This CLAIM and all INFORMATION include their respective publication dates and contents. To classify the CLAIM more accurately (if the content described by the CLAIM is correct, it will be classified as TRUE; if the content described by the CLAIM is incorrect, it will be classified as FALSE), please first provide a detailed summary of the given INFORMATION. Then analyze, reason, and provide reasonable evidence to judge the correctness of the CLAIM based on the available information and your knowledge.\\\n",
    "# \\n\\nCLAIM:\\nPublication date: 2020-08-13\\nContent: Illinois Strengthens Face Mask Rules in Businesses\\n\\nINFORMATION:\\nInformation 1:\\nPublication date: 2013-08-06\\nTitle: Illinois Strengthens Face Mask Rules in Businesses - WebMD\\nContent:\\nCOVID-19 is a new type of coronavirus that causes mild to severe cases. Here’s a quick guide on how to spot symptoms, risk factors, prevent spread of the disease, and find out what to do if you think you have it.\\nInformation 2:\\nPublication date: None\\nTitle: press-release\\nContent:\\nIllinoisans can resume activities without wearing a mask indoors on February 28th except where required by federal, state, local, tribal, or territorial laws, rules, and regulations, including local business and workplace guidance. Federal requirements, in effect through at least March 18, include all transportation systems such as airports, planes, trains, and buses. \"Preparing to repeal statewide masking mandates at the end of the month is aggressive and optimistic but reasonable,\" said Dr.\\n\"Broad mandates are not about individuals. They are put in place to help protect communities, businesses, and healthcare access. Repealing the mask mandate allows people to choose the mitigation layers that are best for them and I have no doubt that many should and will choose to keep mask rules.\"\\nIf these trends continue — and we expect them to —then on Monday, February 28th, we will lift the indoor mask requirement for the State of Illinois,\" said Governor JB Pritzker. \"I want to be clear: Many local jurisdictions, businesses and organizations have their own mask requirements and other mitigations that must be respected.\\nSeth Trueger, a Northwestern emergency physician who is also immunocompromised. \"Masking has helped slow the spread even in the face of omicron\\'s transmissibility. We can and must use this time to further increase vaccination uptake & outreach, especially among children and other populations with low vaccination rates, so when the next wave comes, we will be even better prepared.\"\\nInformation 3:\\nPublication date: None\\nTitle: Mask and Vaccine Requirements FAQ\\'s\\nContent:\\nOn September 3, 2021, the Governor signed Executive Order 21-22 which requires all individuals over the age of 2 and who can medically tolerate a face covering to wear a face covering when in indoor public places. The Executive Order also requires health care workers, school personnel, higher education personnel and students, and employees and contractors of state-owned or operated congregate facilities to be fully vaccinated, as described in the Order\\nInformation 4:\\nPublication date: None\\nTitle: FAQ for Businesses Concerning Use of Face-Coverings During COVID-19\\nContent:\\nA: Businesses reserve the right to refuse service to persons unable to comply with the requirement to wear a face covering, but they are required to provide a reasonable accommodation if it does not cause an undue hardship. Businesses are encouraged to inform customers there are exceptions to the requirement that all individuals must wear a mask.\\nThese frequently asked questions are to provide guidance regarding the application of the face covering requirement in Executive Order 2021-10 for businesses and other places of public accommodation subject to Article 5 of the Illinois Human Rights Act, 775 ILCS 5/. A: A face covering is a mask or cloth face covering that covers your nose and mouth.\\nExceptions may be made for individuals with medical conditions or disabilities that prevent them from safely wearing a face covering. For more information, refer to the questions on reasonable accommodations. A: Masks still must be worn by everyone on planes, buses, trains, and other forms of public transportation; in transportation hubs, such as airports and train and bus stations; in health care settings; and in congregate facilities, such as correctional facilities and homeless shelters.\\nThese frequently asked questions are to provide guidance regarding the application of the face covering requirement in Executive Order 2021-10 for businesses and other places of public accommodation subject to Article 5 of the Illinois Human Rights Act, 775 ILCS 5/. When Face Coverings are Required Q: What does it mean to wear a face covering?\\nInformation 5:\\nPublication date: 2020-04-22\\nTitle: Facing Your Face Mask Duties – A List of Statewide Orders | Littler ...\\nContent:\\n********************************************************NOTE: Given the reduction in activity on this topic,THIS POST WILL NO LONGER BE UPDATED, as of November 10, 2022.********************************************************Governors and public health officials across the country implemented stringent mitigation measures to help contain the spread of COVID-19.\\n'},\n",
    "    # {'query': 'Does the conclusion in the answer given below match the ground truth? If it does, please answer \"Yes\" in the first line; otherwise, answer \"No\" in the first line. Please provide a reason on the next line.\\nGround truth: The claim(Illinois Strengthens Face Mask Rules in Businesses) is true.\\nAnswer:True'},\n",
    "    \n",
    "    # {'query': 'Below is a claim and some information searched online. These pieces of Information are relevant to the claim. This claim and all information include their respective publication dates and contents. To classify the claim more accurately (if the content described by the claim is correct, it will be classified as true; if the content described by the claim is incorrect, it will be classified as false), please judge the correctness of the claim based on the available information and your knowledge. In reasoning, it is necessary to consider the sequential relationship between the date of publication of the claim and the date of publication of the information. Just provide the final conclusion without explaining the reasoning process. \\n\\nClaim:\\nPublication date: 2021-01-18\\nContent: 13 Israelis suffer FACIAL PARALYSIS after taking Pfizer Covid jab\\n\\nInformation:\\nInformation 1:\\nPublication date: 2021-01-17\\nTitle: 13 People Develop Facial Paralysis After Receiving Covid-19 Vaccine ...\\nContent:\\nAccording to WION, the Israeli Health Ministry has indicated that the number of people suffering from such side effects after being inoculated for Covid-19 could be higher. “For at least 28 hours I walked around with it (facial paralysis),” one person told Ynet adding that he recovered after that. This comes just days after 23 people died in Norway after receiving Pfizer’s Covid-19 jab.\\nAs many as 13 people in Israel have suffered from facial paralysis after being administered the Covid-19 vaccine, reports claimed. According to WION, the Israeli Health Ministry has indicated that the number of people suffering from such side effects after being inoculated for Covid-19 could be higher.\\nOne of the Covid-19 vaccine recipient’s face was paralysed for 28 hours, reports claimed\\nInformation 2:\\nPublication date: 2021-01-17\\nTitle: 13 People in Israel Suffer From Facial Paralysis After Taking ...\\nContent:\\nJerusalem: At least 13 people in Israel have suffered mild facial paralysis as a side-effect post Coronavirus vaccination, WION reported. The Health Ministry said that the actual number of people suffering from such side effects could be higher than reported. Experts are now apprehensive of giving the second dose of the shot to these people, even though the health ministry has insisted on giving the jab once the paralysis heals.\\nExperts are now apprehensive of giving the second dose of the shot to these people, even though the health ministry has insisted on giving the jab once the paralysis heals. “For at least 28 hours I walked around with it (facial paralysis),” one person told Ynet. “I can’t say it was completely gone afterwards, but other than that I had no other pains, except a minor pain where the injection was but there was nothing beyond that.” · Israel began its Covid-19 vaccination drive on December 20, 2020.\\nThe Health Ministry said that the actual number of people suffering from such side effects could be higher than reported. Experts are now apprehensive of giving the second dose of the shot to these people, even though the health ministry has insisted on giving the jab once the paralysis heals. “For at least 28 hours I walked around with it (facial paralysis),” one person told Ynet.\\n“For at least 28 hours I walked around with it (facial paralysis),” one person told Ynet. “I can’t say it was completely gone afterwards, but other than that I had no other pains, except a minor pain where the injection was but there was nothing beyond that.” · Israel began its Covid-19 vaccination drive on December 20, 2020. About 72 per cent of those aged 60 and over have already been vaccinated. In an similar incident which was reported last month, four volunteers who were given Pfizer vaccine shots during the trial stage had developed Bell’s Palsy in the UK.\\nInformation 3:\\nPublication date: 2021-01-19\\nTitle: 13 Israelis suffer FACIAL PARALYSIS after taking Pfizer Covid jab, ...\\nContent:\\nAt least 13 Israelis have experienced facial paralysis after being administered the Pfizer Covid-19 vaccine, a month after the US Food and Drug Administration reported similar issues but said they weren’t linked to the jab. ADDITIONAL CONTEXT: Over two million Israelis have been vaccinated against Covid-19 to date, and there has been no evidence the paralysis is linked to the vaccination. The French nonprofit Health Feedback has suggested that the number of facial paralysis cases among the vaccinated “is lower than what would be expected in the general population” and that “incidental illnesses are expected to occur at a certain rate in the general population.”\\nFor a handful of Israelis, however, the initiative has led to some unexpected health scares. At least 13 people have reported mild facial paralysis after receiving the Pfizer/BioNTech jab, Israeli outlet Ynet reported, citing the Health Ministry, adding that officials believe the number of such cases could be higher.\\nAt least 13 people have reported mild facial paralysis after receiving the Pfizer/BioNTech jab, Israeli outlet Ynet reported, citing the Health Ministry, adding that officials believe the number of such cases could be higher.  · “For at least 28 hours I walked around with it [facial paralysis],” one person who had the side effect told Ynet.\\nGalia Rahav, director of the Infectious Diseases Unit at Sheba Medical Center, who said she did not feel “comfortable” with administering the second dose to someone who had received the first jab and subsequently suffered from paralysis.  · “No one knows if this is connected to the vaccine or not. That\\'s why I would refrain from giving a second dose to someone who suffered from paralysis after the first dose,” she told the outlet.  · Last month the FDA disclosed that Bell’s palsy, a form of temporary facial paralysis, was reported by four participants during phase three trials of the Pfizer vaccine.\\nInformation 4:\\nPublication date: None\\nTitle: FarsNews Agency 13 Israelis Suffer Facial Paralysis After Taking ...\\nContent:\\nTEHRAN (FNA)- At least 13 Israelis have experienced facial paralysis after being administered the Pfizer COVID-19 vaccine, a month after the US Food and Drug Administration reported similar issues but said they weren’t linked to the jab. Israel has been hailed for its speedy and efficient mass inoculation program, which has vaccinated a staggering 20 percent of the country’s population since the drive began at the end of December. For a handful of Israelis, however, the initiative has led to some unexpected health scares. At least 13 people have reported mild facial paralysis after receiving the Pfizer/BioNTech jab, Israeli outlet Ynet reported, citing the Health Ministry, adding that officials believe the number of such cases could be higher.\\nFor a handful of Israelis, however, the initiative has led to some unexpected health scares. At least 13 people have reported mild facial paralysis after receiving the Pfizer/BioNTech jab, Israeli outlet Ynet reported, citing the Health Ministry, adding that officials believe the number of such cases could be higher.\\nAt least 13 people have reported mild facial paralysis after receiving the Pfizer/BioNTech jab, Israeli outlet Ynet reported, citing the Health Ministry, adding that officials believe the number of such cases could be higher. “For at least 28 hours I walked around with it [facial paralysis],” one person who had the side effect told Ynet, adding, “I can\\'t say it was completely gone afterwards, but other than that I had no other pains, except a minor pain where the injection was, but there was nothing beyond that.”\\nGalia Rahav, director of the Infectious Diseases Unit at Sheba Medical Center, who said she did not feel “comfortable” with administering the second dose to someone who had received the first jab and subsequently suffered from paralysis. “No one knows if this is connected to the vaccine or not. That\\'s why I would refrain from giving a second dose to someone who suffered from paralysis after the first dose,” she told the outlet. Last month the FDA disclosed that Bell’s palsy, a form of temporary facial paralysis, was reported by four participants during phase three trials of the Pfizer vaccine.\\nInformation 5:\\nPublication date: None\\nTitle: COVID-19 vaccine: 13 out of 2 mil. Israelis suffer facial paralysis ...\\nContent:\\nThat\\'s why I would refrain from giving a second dose to someone who suffered from paralysis after the first dose.\" The Health Ministry stated, however, that the second dose should of course be only provided if and when the paralysis passes, Ynet reported. ... More than two million Israelis have received the Pfizer coronavirus vaccine and the majority have experienced no side effects or mild side effects, according to the Health Ministry.\\nThe Health Ministry stated, however, that the second dose should of course be only provided if and when the paralysis passes, Ynet reported. ... More than two million Israelis have received the Pfizer coronavirus vaccine and the majority have experienced no side effects or mild side effects, according to the Health Ministry.  · This article was updated and corrected for accuracy on January 20. ... var cont = `Stay Informed As the war against Hamas unfolds, our unwavering newsroom remains committed to covering Israel\\'s most profound crisis.\\n'}\n",
    "    {'query': 'Do not output.'}\n",
    "\n",
    "]\n",
    "\n",
    "resp_list = inference_vllm(\n",
    "    llm_engine, template, request_list, generation_config=generation_config, \n",
    "    use_tqdm=True,\n",
    "    # verbose=True, prompt_prefix=\"\", output_prefix=\"\"\n",
    ")\n",
    "\n",
    "for request, resp in zip(request_list, resp_list):\n",
    "    print(f\"query:\\n{request['query']}\")\n",
    "    print()\n",
    "    print(f\"response:\\n{resp['response']}\")\n",
    "    break\n"
   ]
  }
 ],
 "metadata": {
  "kernelspec": {
   "display_name": "swift",
   "language": "python",
   "name": "python3"
  },
  "language_info": {
   "codemirror_mode": {
    "name": "ipython",
    "version": 3
   },
   "file_extension": ".py",
   "mimetype": "text/x-python",
   "name": "python",
   "nbconvert_exporter": "python",
   "pygments_lexer": "ipython3",
   "version": "3.10.14"
  }
 },
 "nbformat": 4,
 "nbformat_minor": 2
}
