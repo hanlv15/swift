{
 "cells": [
  {
   "cell_type": "code",
   "execution_count": 2,
   "metadata": {},
   "outputs": [
    {
     "name": "stderr",
     "output_type": "stream",
     "text": [
      "[INFO:swift] Successfully registered `/home/hanlv/workspace/code/research/infodemic/LLM/swift/swift/llm/data/dataset_info.json`\n"
     ]
    },
    {
     "name": "stdout",
     "output_type": "stream",
     "text": [
      "WARNING 07-16 01:56:10 config.py:244] awq quantization is not fully optimized yet. The speed can be slower than non-quantized models.\n",
      "INFO 07-16 01:56:10 config.py:698] Defaulting to use mp for distributed inference\n",
      "INFO 07-16 01:56:10 llm_engine.py:169] Initializing an LLM engine (v0.5.1) with config: model='/home/css/models/llama-3-70b-instruct-awq', speculative_config=None, tokenizer='/home/css/models/llama-3-70b-instruct-awq', skip_tokenizer_init=False, tokenizer_mode=auto, revision=None, rope_scaling=None, rope_theta=None, tokenizer_revision=None, trust_remote_code=False, dtype=torch.float16, max_seq_len=8192, download_dir=None, load_format=LoadFormat.AUTO, tensor_parallel_size=2, pipeline_parallel_size=1, disable_custom_all_reduce=False, quantization=awq, enforce_eager=False, kv_cache_dtype=auto, quantization_param_path=None, device_config=cuda, decoding_config=DecodingConfig(guided_decoding_backend='outlines'), observability_config=ObservabilityConfig(otlp_traces_endpoint=None), seed=42, served_model_name=/home/css/models/llama-3-70b-instruct-awq, use_v2_block_manager=False, enable_prefix_caching=False)\n"
     ]
    },
    {
     "name": "stderr",
     "output_type": "stream",
     "text": [
      "Special tokens have been added in the vocabulary, make sure the associated word embeddings are fine-tuned or trained.\n",
      "\u001b[1;36m(VllmWorkerProcess pid=510430)\u001b[0;0m Process VllmWorkerProcess:\n",
      "    self.run()\n",
      "\u001b[1;36m(VllmWorkerProcess pid=510430)\u001b[0;0m Traceback (most recent call last):\n"
     ]
    },
    {
     "name": "stdout",
     "output_type": "stream",
     "text": [
      "ERROR 07-16 01:56:11 multiproc_worker_utils.py:120] Worker VllmWorkerProcess pid 510430 died, exit code: 1\n"
     ]
    },
    {
     "name": "stderr",
     "output_type": "stream",
     "text": [
      "\u001b[1;36m(VllmWorkerProcess pid=510430)\u001b[0;0m   File \"/home/hanlv/miniconda3/envs/swift/lib/python3.11/multiprocessing/process.py\", line 314, in _bootstrap\n"
     ]
    },
    {
     "name": "stdout",
     "output_type": "stream",
     "text": [
      "INFO 07-16 01:56:11 multiproc_worker_utils.py:123] Killing local vLLM worker processes\n"
     ]
    },
    {
     "name": "stderr",
     "output_type": "stream",
     "text": [
      "\u001b[1;36m(VllmWorkerProcess pid=510430)\u001b[0;0m \u001b[1;36m(VllmWorkerProcess pid=510430)\u001b[0;0m   File \"/home/hanlv/miniconda3/envs/swift/lib/python3.11/multiprocessing/process.py\", line 108, in run\n",
      "\u001b[1;36m(VllmWorkerProcess pid=510430)\u001b[0;0m     self._target(*self._args, **self._kwargs)\n",
      "\u001b[1;36m(VllmWorkerProcess pid=510430)\u001b[0;0m   File \"/home/hanlv/miniconda3/envs/swift/lib/python3.11/site-packages/vllm/executor/multiproc_worker_utils.py\", line 210, in _run_worker_process\n",
      "\u001b[1;36m(VllmWorkerProcess pid=510430)\u001b[0;0m     worker = worker_factory()\n",
      "\u001b[1;36m(VllmWorkerProcess pid=510430)\u001b[0;0m              ^^^^^^^^^^^^^^^^\n",
      "\u001b[1;36m(VllmWorkerProcess pid=510430)\u001b[0;0m   File \"/home/hanlv/miniconda3/envs/swift/lib/python3.11/site-packages/vllm/executor/gpu_executor.py\", line 68, in _create_worker\n",
      "\u001b[1;36m(VllmWorkerProcess pid=510430)\u001b[0;0m     wrapper.init_worker(**self._get_worker_kwargs(local_rank, rank,\n",
      "\u001b[1;36m(VllmWorkerProcess pid=510430)\u001b[0;0m   File \"/home/hanlv/miniconda3/envs/swift/lib/python3.11/site-packages/vllm/worker/worker_base.py\", line 334, in init_worker\n",
      "\u001b[1;36m(VllmWorkerProcess pid=510430)\u001b[0;0m     self.worker = worker_class(*args, **kwargs)\n",
      "\u001b[1;36m(VllmWorkerProcess pid=510430)\u001b[0;0m                   ^^^^^^^^^^^^^^^^^^^^^^^^^^^^^\n",
      "\u001b[1;36m(VllmWorkerProcess pid=510430)\u001b[0;0m   File \"/home/hanlv/miniconda3/envs/swift/lib/python3.11/site-packages/vllm/worker/worker.py\", line 85, in __init__\n",
      "\u001b[1;36m(VllmWorkerProcess pid=510430)\u001b[0;0m     self.model_runner: GPUModelRunnerBase = ModelRunnerClass(\n",
      "\u001b[1;36m(VllmWorkerProcess pid=510430)\u001b[0;0m                                             ^^^^^^^^^^^^^^^^^\n",
      "\u001b[1;36m(VllmWorkerProcess pid=510430)\u001b[0;0m   File \"/home/hanlv/miniconda3/envs/swift/lib/python3.11/site-packages/vllm/worker/model_runner.py\", line 217, in __init__\n",
      "\u001b[1;36m(VllmWorkerProcess pid=510430)\u001b[0;0m     self.attn_backend = get_attn_backend(\n",
      "\u001b[1;36m(VllmWorkerProcess pid=510430)\u001b[0;0m                         ^^^^^^^^^^^^^^^^^\n",
      "\u001b[1;36m(VllmWorkerProcess pid=510430)\u001b[0;0m   File \"/home/hanlv/miniconda3/envs/swift/lib/python3.11/site-packages/vllm/attention/selector.py\", line 45, in get_attn_backend\n",
      "\u001b[1;36m(VllmWorkerProcess pid=510430)\u001b[0;0m     backend = which_attn_to_use(num_heads, head_size, num_kv_heads,\n",
      "\u001b[1;36m(VllmWorkerProcess pid=510430)\u001b[0;0m               ^^^^^^^^^^^^^^^^^^^^^^^^^^^^^^^^^^^^^^^^^^^^^^^^^^^^^\n",
      "\u001b[1;36m(VllmWorkerProcess pid=510430)\u001b[0;0m   File \"/home/hanlv/miniconda3/envs/swift/lib/python3.11/site-packages/vllm/attention/selector.py\", line 151, in which_attn_to_use\n",
      "\u001b[1;36m(VllmWorkerProcess pid=510430)\u001b[0;0m     if torch.cuda.get_device_capability()[0] < 8:\n",
      "\u001b[1;36m(VllmWorkerProcess pid=510430)\u001b[0;0m        ^^^^^^^^^^^^^^^^^^^^^^^^^^^^^^^^^^\n",
      "\u001b[1;36m(VllmWorkerProcess pid=510430)\u001b[0;0m   File \"/home/hanlv/miniconda3/envs/swift/lib/python3.11/site-packages/torch/cuda/__init__.py\", line 430, in get_device_capability\n",
      "\u001b[1;36m(VllmWorkerProcess pid=510430)\u001b[0;0m     prop = get_device_properties(device)\n",
      "\u001b[1;36m(VllmWorkerProcess pid=510430)\u001b[0;0m            ^^^^^^^^^^^^^^^^^^^^^^^^^^^^^\n",
      "\u001b[1;36m(VllmWorkerProcess pid=510430)\u001b[0;0m   File \"/home/hanlv/miniconda3/envs/swift/lib/python3.11/site-packages/torch/cuda/__init__.py\", line 444, in get_device_properties\n",
      "\u001b[1;36m(VllmWorkerProcess pid=510430)\u001b[0;0m     _lazy_init()  # will define _get_device_properties\n",
      "\u001b[1;36m(VllmWorkerProcess pid=510430)\u001b[0;0m     ^^^^^^^^^^^^\n",
      "\u001b[1;36m(VllmWorkerProcess pid=510430)\u001b[0;0m   File \"/home/hanlv/miniconda3/envs/swift/lib/python3.11/site-packages/torch/cuda/__init__.py\", line 279, in _lazy_init\n",
      "\u001b[1;36m(VllmWorkerProcess pid=510430)\u001b[0;0m     raise RuntimeError(\n",
      "\u001b[1;36m(VllmWorkerProcess pid=510430)\u001b[0;0m RuntimeError: Cannot re-initialize CUDA in forked subprocess. To use CUDA with multiprocessing, you must use the 'spawn' start method\n"
     ]
    }
   ],
   "source": [
    "import os\n",
    "import sys\n",
    "os.environ['CUDA_VISIBLE_DEVICES'] = '1,2'\n",
    "# os.environ['PYTORCH_CUDA_ALLOC_CONF'] = 'max_split_size_mb:512'\n",
    "dirs = [\"../..\"]\n",
    "for _dir in dirs:\n",
    "    if _dir not in sys.path:\n",
    "        sys.path.append(_dir)\n",
    "\n",
    "# from swift.llm import (\n",
    "#     # ModelType, \n",
    "#     get_vllm_engine, \n",
    "#     # get_default_template_type,\n",
    "#     # get_template, \n",
    "#     # inference_vllm, VllmGenerationConfig\n",
    "# )\n",
    "from custom import CustomModelType, CustomTemplateType\n",
    "# llama_3_70b_instruct_awq\n",
    "# openchat_35\n",
    "\n",
    "\n",
    "model_type = CustomModelType.llama_3_70b_instruct_awq  # mixtral_moe_7b_instruct_gptq_int4\n",
    "# model_type = ModelType.llama3_70b_instruct_int4\n",
    "\n",
    "llm_engine = get_vllm_engine(\n",
    "    model_type, \n",
    "    tensor_parallel_size=2,\n",
    "    max_model_len=4096,\n",
    "    # gpu_memory_utilization=0.95,\n",
    "    model_dir=\"/home/css/models/llama-3-70b-instruct-awq\",\n",
    "    engine_kwargs = {\n",
    "        # \"enforce_eager\": True,\n",
    "        \"max_num_seqs\": 16,\n",
    "        \"seed\": 42,\n",
    "    }\n",
    ")\n",
    "\n",
    "# template_type = get_default_template_type(model_type)\n",
    "# template = get_template(template_type, llm_engine.hf_tokenizer)\n",
    "\n"
   ]
  },
  {
   "cell_type": "code",
   "execution_count": 3,
   "metadata": {},
   "outputs": [
    {
     "name": "stderr",
     "output_type": "stream",
     "text": [
      "  0%|          | 0/10 [00:00<?, ?it/s]"
     ]
    },
    {
     "name": "stderr",
     "output_type": "stream",
     "text": [
      "100%|██████████| 10/10 [00:02<00:00,  4.59it/s]"
     ]
    },
    {
     "name": "stdout",
     "output_type": "stream",
     "text": [
      "query:\n",
      "how are you?\n",
      "\n",
      "response:\n",
      "I'm just a language model, I don't have feelings or emotions like humans do, so I don't have good or bad days. I'm always \"on\" and ready to assist with any questions or tasks you may have! How can I help you today?\n",
      "query:\n",
      "how are you?\n",
      "\n",
      "response:\n",
      "I'm just a language model, I don't have feelings or emotions like humans do, so I don't have good or bad days. I'm always \"on\" and ready to assist with any questions or tasks you may have! How can I help you today?\n",
      "query:\n",
      "how are you?\n",
      "\n",
      "response:\n",
      "I'm just a language model, I don't have feelings or emotions like humans do, so I don't have good or bad days. I'm always \"on\" and ready to assist with any questions or tasks you may have! How can I help you today?\n",
      "query:\n",
      "how are you?\n",
      "\n",
      "response:\n",
      "I'm just a language model, I don't have feelings or emotions like humans do, so I don't have good or bad days. I'm always \"on\" and ready to assist with any questions or tasks you may have! How can I help you today?\n",
      "query:\n",
      "how are you?\n",
      "\n",
      "response:\n",
      "I'm just a language model, I don't have feelings or emotions like humans do, so I don't have good or bad days. I'm always \"on\" and ready to assist with any questions or tasks you may have! How can I help you today?\n",
      "query:\n",
      "how are you?\n",
      "\n",
      "response:\n",
      "I'm just a language model, I don't have feelings or emotions like humans do, so I don't have good or bad days. I'm always \"on\" and ready to assist with any questions or tasks you may have! How can I help you today?\n",
      "query:\n",
      "how are you?\n",
      "\n",
      "response:\n",
      "I'm just a language model, I don't have feelings or emotions like humans do, so I don't have good or bad days. I'm always \"on\" and ready to assist with any questions or tasks you may have! How can I help you today?\n",
      "query:\n",
      "how are you?\n",
      "\n",
      "response:\n",
      "I'm just a language model, I don't have feelings or emotions like humans do, so I don't have good or bad days. I'm always \"on\" and ready to assist with any questions or tasks you may have! How can I help you today?\n",
      "query:\n",
      "how are you?\n",
      "\n",
      "response:\n",
      "I'm just a language model, I don't have feelings or emotions like humans do, so I don't have good or bad days. I'm always \"on\" and ready to assist with any questions or tasks you may have! How can I help you today?\n",
      "query:\n",
      "how are you?\n",
      "\n",
      "response:\n",
      "I'm just a language model, I don't have feelings or emotions like humans do, so I don't have good or bad days. I'm always \"on\" and ready to assist with any questions or tasks you may have! How can I help you today?\n"
     ]
    },
    {
     "name": "stderr",
     "output_type": "stream",
     "text": [
      "\n"
     ]
    }
   ],
   "source": [
    "generation_config = VllmGenerationConfig(\n",
    "    max_new_tokens=2048,\n",
    "    temperature=0,\n",
    ")\n",
    "\n",
    "request_list = [\n",
    "    # {'query': 'Below is a CLAIM and some INFORMATION searched online. These pieces of INFORMATION are relevant to the CLAIM. This CLAIM and all INFORMATION include their respective publication dates and contents. To classify the CLAIM more accurately (if the content described by the CLAIM is correct, it will be classified as TRUE; if the content described by the CLAIM is incorrect, it will be classified as FALSE), please first provide a detailed summary of the given INFORMATION. Then analyze, reason, and provide reasonable evidence to judge the correctness of the CLAIM based on the available information and your knowledge.\\n\\nCLAIM:\\nPublication date: 2020-08-13\\nContent: Illinois Strengthens Face Mask Rules in Businesses\\n\\nINFORMATION:\\nInformation 1:\\nPublication date: 2013-08-06\\nTitle: Illinois Strengthens Face Mask Rules in Businesses - WebMD\\nContent:\\nCOVID-19 is a new type of coronavirus that causes mild to severe cases. Here’s a quick guide on how to spot symptoms, risk factors, prevent spread of the disease, and find out what to do if you think you have it.\\nInformation 2:\\nPublication date: None\\nTitle: press-release\\nContent:\\nIllinoisans can resume activities without wearing a mask indoors on February 28th except where required by federal, state, local, tribal, or territorial laws, rules, and regulations, including local business and workplace guidance. Federal requirements, in effect through at least March 18, include all transportation systems such as airports, planes, trains, and buses. \"Preparing to repeal statewide masking mandates at the end of the month is aggressive and optimistic but reasonable,\" said Dr.\\n\"Broad mandates are not about individuals. They are put in place to help protect communities, businesses, and healthcare access. Repealing the mask mandate allows people to choose the mitigation layers that are best for them and I have no doubt that many should and will choose to keep mask rules.\"\\nIf these trends continue — and we expect them to —then on Monday, February 28th, we will lift the indoor mask requirement for the State of Illinois,\" said Governor JB Pritzker. \"I want to be clear: Many local jurisdictions, businesses and organizations have their own mask requirements and other mitigations that must be respected.\\nSeth Trueger, a Northwestern emergency physician who is also immunocompromised. \"Masking has helped slow the spread even in the face of omicron\\'s transmissibility. We can and must use this time to further increase vaccination uptake & outreach, especially among children and other populations with low vaccination rates, so when the next wave comes, we will be even better prepared.\"\\nInformation 3:\\nPublication date: None\\nTitle: Mask and Vaccine Requirements FAQ\\'s\\nContent:\\nOn September 3, 2021, the Governor signed Executive Order 21-22 which requires all individuals over the age of 2 and who can medically tolerate a face covering to wear a face covering when in indoor public places. The Executive Order also requires health care workers, school personnel, higher education personnel and students, and employees and contractors of state-owned or operated congregate facilities to be fully vaccinated, as described in the Order\\nInformation 4:\\nPublication date: None\\nTitle: FAQ for Businesses Concerning Use of Face-Coverings During COVID-19\\nContent:\\nA: Businesses reserve the right to refuse service to persons unable to comply with the requirement to wear a face covering, but they are required to provide a reasonable accommodation if it does not cause an undue hardship. Businesses are encouraged to inform customers there are exceptions to the requirement that all individuals must wear a mask.\\nThese frequently asked questions are to provide guidance regarding the application of the face covering requirement in Executive Order 2021-10 for businesses and other places of public accommodation subject to Article 5 of the Illinois Human Rights Act, 775 ILCS 5/. A: A face covering is a mask or cloth face covering that covers your nose and mouth.\\nExceptions may be made for individuals with medical conditions or disabilities that prevent them from safely wearing a face covering. For more information, refer to the questions on reasonable accommodations. A: Masks still must be worn by everyone on planes, buses, trains, and other forms of public transportation; in transportation hubs, such as airports and train and bus stations; in health care settings; and in congregate facilities, such as correctional facilities and homeless shelters.\\nThese frequently asked questions are to provide guidance regarding the application of the face covering requirement in Executive Order 2021-10 for businesses and other places of public accommodation subject to Article 5 of the Illinois Human Rights Act, 775 ILCS 5/. When Face Coverings are Required Q: What does it mean to wear a face covering?\\nInformation 5:\\nPublication date: 2020-04-22\\nTitle: Facing Your Face Mask Duties – A List of Statewide Orders | Littler ...\\nContent:\\n********************************************************NOTE: Given the reduction in activity on this topic,THIS POST WILL NO LONGER BE UPDATED, as of November 10, 2022.********************************************************Governors and public health officials across the country implemented stringent mitigation measures to help contain the spread of COVID-19.\\n'},\n",
    "    \n",
    "    # {'query': 'Does the conclusion in the answer given below match the ground truth? If it does, please answer \"Yes\" in the first line; otherwise, answer \"No\" in the first line. Please provide a reason on the next line.\\nGround truth: The claim(Illinois Strengthens Face Mask Rules in Businesses) is true.\\nAnswer:True'},\n",
    "    \n",
    "    # {'query': 'Below is a claim and some information searched online. These pieces of Information are relevant to the claim. This claim and all information include their respective publication dates and contents. To classify the claim more accurately (if the content described by the claim is correct, it will be classified as true; if the content described by the claim is incorrect, it will be classified as false), please judge the correctness of the claim based on the available information and your knowledge. In reasoning, it is necessary to consider the sequential relationship between the date of publication of the claim and the date of publication of the information. Just provide the final conclusion without explaining the reasoning process. \\n\\nClaim:\\nPublication date: 2021-01-18\\nContent: 13 Israelis suffer FACIAL PARALYSIS after taking Pfizer Covid jab\\n\\nInformation:\\nInformation 1:\\nPublication date: 2021-01-17\\nTitle: 13 People Develop Facial Paralysis After Receiving Covid-19 Vaccine ...\\nContent:\\nAccording to WION, the Israeli Health Ministry has indicated that the number of people suffering from such side effects after being inoculated for Covid-19 could be higher. “For at least 28 hours I walked around with it (facial paralysis),” one person told Ynet adding that he recovered after that. This comes just days after 23 people died in Norway after receiving Pfizer’s Covid-19 jab.\\nAs many as 13 people in Israel have suffered from facial paralysis after being administered the Covid-19 vaccine, reports claimed. According to WION, the Israeli Health Ministry has indicated that the number of people suffering from such side effects after being inoculated for Covid-19 could be higher.\\nOne of the Covid-19 vaccine recipient’s face was paralysed for 28 hours, reports claimed\\nInformation 2:\\nPublication date: 2021-01-17\\nTitle: 13 People in Israel Suffer From Facial Paralysis After Taking ...\\nContent:\\nJerusalem: At least 13 people in Israel have suffered mild facial paralysis as a side-effect post Coronavirus vaccination, WION reported. The Health Ministry said that the actual number of people suffering from such side effects could be higher than reported. Experts are now apprehensive of giving the second dose of the shot to these people, even though the health ministry has insisted on giving the jab once the paralysis heals.\\nExperts are now apprehensive of giving the second dose of the shot to these people, even though the health ministry has insisted on giving the jab once the paralysis heals. “For at least 28 hours I walked around with it (facial paralysis),” one person told Ynet. “I can’t say it was completely gone afterwards, but other than that I had no other pains, except a minor pain where the injection was but there was nothing beyond that.” · Israel began its Covid-19 vaccination drive on December 20, 2020.\\nThe Health Ministry said that the actual number of people suffering from such side effects could be higher than reported. Experts are now apprehensive of giving the second dose of the shot to these people, even though the health ministry has insisted on giving the jab once the paralysis heals. “For at least 28 hours I walked around with it (facial paralysis),” one person told Ynet.\\n“For at least 28 hours I walked around with it (facial paralysis),” one person told Ynet. “I can’t say it was completely gone afterwards, but other than that I had no other pains, except a minor pain where the injection was but there was nothing beyond that.” · Israel began its Covid-19 vaccination drive on December 20, 2020. About 72 per cent of those aged 60 and over have already been vaccinated. In an similar incident which was reported last month, four volunteers who were given Pfizer vaccine shots during the trial stage had developed Bell’s Palsy in the UK.\\nInformation 3:\\nPublication date: 2021-01-19\\nTitle: 13 Israelis suffer FACIAL PARALYSIS after taking Pfizer Covid jab, ...\\nContent:\\nAt least 13 Israelis have experienced facial paralysis after being administered the Pfizer Covid-19 vaccine, a month after the US Food and Drug Administration reported similar issues but said they weren’t linked to the jab. ADDITIONAL CONTEXT: Over two million Israelis have been vaccinated against Covid-19 to date, and there has been no evidence the paralysis is linked to the vaccination. The French nonprofit Health Feedback has suggested that the number of facial paralysis cases among the vaccinated “is lower than what would be expected in the general population” and that “incidental illnesses are expected to occur at a certain rate in the general population.”\\nFor a handful of Israelis, however, the initiative has led to some unexpected health scares. At least 13 people have reported mild facial paralysis after receiving the Pfizer/BioNTech jab, Israeli outlet Ynet reported, citing the Health Ministry, adding that officials believe the number of such cases could be higher.\\nAt least 13 people have reported mild facial paralysis after receiving the Pfizer/BioNTech jab, Israeli outlet Ynet reported, citing the Health Ministry, adding that officials believe the number of such cases could be higher.  · “For at least 28 hours I walked around with it [facial paralysis],” one person who had the side effect told Ynet.\\nGalia Rahav, director of the Infectious Diseases Unit at Sheba Medical Center, who said she did not feel “comfortable” with administering the second dose to someone who had received the first jab and subsequently suffered from paralysis.  · “No one knows if this is connected to the vaccine or not. That\\'s why I would refrain from giving a second dose to someone who suffered from paralysis after the first dose,” she told the outlet.  · Last month the FDA disclosed that Bell’s palsy, a form of temporary facial paralysis, was reported by four participants during phase three trials of the Pfizer vaccine.\\nInformation 4:\\nPublication date: None\\nTitle: FarsNews Agency 13 Israelis Suffer Facial Paralysis After Taking ...\\nContent:\\nTEHRAN (FNA)- At least 13 Israelis have experienced facial paralysis after being administered the Pfizer COVID-19 vaccine, a month after the US Food and Drug Administration reported similar issues but said they weren’t linked to the jab. Israel has been hailed for its speedy and efficient mass inoculation program, which has vaccinated a staggering 20 percent of the country’s population since the drive began at the end of December. For a handful of Israelis, however, the initiative has led to some unexpected health scares. At least 13 people have reported mild facial paralysis after receiving the Pfizer/BioNTech jab, Israeli outlet Ynet reported, citing the Health Ministry, adding that officials believe the number of such cases could be higher.\\nFor a handful of Israelis, however, the initiative has led to some unexpected health scares. At least 13 people have reported mild facial paralysis after receiving the Pfizer/BioNTech jab, Israeli outlet Ynet reported, citing the Health Ministry, adding that officials believe the number of such cases could be higher.\\nAt least 13 people have reported mild facial paralysis after receiving the Pfizer/BioNTech jab, Israeli outlet Ynet reported, citing the Health Ministry, adding that officials believe the number of such cases could be higher. “For at least 28 hours I walked around with it [facial paralysis],” one person who had the side effect told Ynet, adding, “I can\\'t say it was completely gone afterwards, but other than that I had no other pains, except a minor pain where the injection was, but there was nothing beyond that.”\\nGalia Rahav, director of the Infectious Diseases Unit at Sheba Medical Center, who said she did not feel “comfortable” with administering the second dose to someone who had received the first jab and subsequently suffered from paralysis. “No one knows if this is connected to the vaccine or not. That\\'s why I would refrain from giving a second dose to someone who suffered from paralysis after the first dose,” she told the outlet. Last month the FDA disclosed that Bell’s palsy, a form of temporary facial paralysis, was reported by four participants during phase three trials of the Pfizer vaccine.\\nInformation 5:\\nPublication date: None\\nTitle: COVID-19 vaccine: 13 out of 2 mil. Israelis suffer facial paralysis ...\\nContent:\\nThat\\'s why I would refrain from giving a second dose to someone who suffered from paralysis after the first dose.\" The Health Ministry stated, however, that the second dose should of course be only provided if and when the paralysis passes, Ynet reported. ... More than two million Israelis have received the Pfizer coronavirus vaccine and the majority have experienced no side effects or mild side effects, according to the Health Ministry.\\nThe Health Ministry stated, however, that the second dose should of course be only provided if and when the paralysis passes, Ynet reported. ... More than two million Israelis have received the Pfizer coronavirus vaccine and the majority have experienced no side effects or mild side effects, according to the Health Ministry.  · This article was updated and corrected for accuracy on January 20. ... var cont = `Stay Informed As the war against Hamas unfolds, our unwavering newsroom remains committed to covering Israel\\'s most profound crisis.\\n'}\n",
    "    {'query': 'how are you?'}\n",
    "] * 10\n",
    "\n",
    "resp_list = inference_vllm(\n",
    "    llm_engine, template, request_list, generation_config=generation_config, \n",
    "    use_tqdm=True,\n",
    "    # verbose=True, prompt_prefix=\"\", output_prefix=\"\"\n",
    ")\n",
    "\n",
    "for request, resp in zip(request_list, resp_list):\n",
    "    print(f\"query:\\n{request['query']}\")\n",
    "    print()\n",
    "    print(f\"response:\\n{resp['response']}\")\n",
    "    # break\n"
   ]
  }
 ],
 "metadata": {
  "kernelspec": {
   "display_name": "swift",
   "language": "python",
   "name": "python3"
  },
  "language_info": {
   "codemirror_mode": {
    "name": "ipython",
    "version": 3
   },
   "file_extension": ".py",
   "mimetype": "text/x-python",
   "name": "python",
   "nbconvert_exporter": "python",
   "pygments_lexer": "ipython3",
   "version": "3.11.9"
  }
 },
 "nbformat": 4,
 "nbformat_minor": 2
}
