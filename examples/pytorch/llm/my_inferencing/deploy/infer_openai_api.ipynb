{
 "cells": [
  {
   "cell_type": "code",
   "execution_count": 2,
   "metadata": {},
   "outputs": [
    {
     "name": "stdout",
     "output_type": "stream",
     "text": [
      "mixtral-moe-7b-instruct\n"
     ]
    }
   ],
   "source": [
    "from openai import OpenAI\n",
    "client = OpenAI(\n",
    "    api_key='EMPTY',\n",
    "    base_url='http://localhost:8005/v1',\n",
    ")\n",
    "model_type = client.models.list().data[0].id\n",
    "print(model_type)\n",
    "\n"
   ]
  },
  {
   "cell_type": "code",
   "execution_count": 8,
   "metadata": {},
   "outputs": [
    {
     "name": "stdout",
     "output_type": "stream",
     "text": [
      "query: \n",
      "Below is a CLAIM and some INFORMATION searched online. These pieces of INFORMATION are relevant to the CLAIM. This CLAIM and all INFORMATION include their respective publication dates and contents. To classify the CLAIM more accurately (if the content described by the CLAIM is correct, it will be classified as TRUE; if the content described by the CLAIM is incorrect, it will be classified as FALSE), please first provide a detailed summary of the given INFORMATION. Then reason, and provide reasonable evidence to judge the correctness of the CLAIM based on the available information and your knowledge. In reasoning, it is necessary to consider the sequential relationship between the date of publication of the CLAIM and the date of publication of the INFORMATION.\n",
      "\n",
      "CLAIM:\n",
      "Publication date: 2020-04-30\n",
      "Content: COVID-19 Daily: Hospital Mortality Data, Drug Trial Raises Eyebrows\n",
      "\n",
      "INFORMATION:\n",
      "Information 1:\n",
      "Publication date: 2020-04-30\n",
      "Title: COVID-19 Daily: Hospital Mortality Data, Drug Trial Raises Eyebrows\n",
      "Content:\n",
      "These are the coronavirus stories you need to know about today.\n",
      "Information 2:\n",
      "Publication date: 2013-08-06\n",
      "Title: COVID-19 Daily: Hospital Mortality Data, Drug Trial Raises ...\n",
      "Content:\n",
      "<strong>COVID</strong>-<strong>19</strong> is a new type of coronavirus that causes mild to severe cases. Here’s a quick guide on how to spot symptoms, risk factors, prevent spread of the disease, and find out what to do if you think you have it.\n",
      "Information 3:\n",
      "Publication date: None\n",
      "Title: COVID-19 Hospital Data - In-hospital mortality among confirmed ...\n",
      "Content:\n",
      "Tabulated data show the percentage of confirmed COVID-19 encounters in which an in-hospital death occurred. Data are presented for each setting (inpatient and ED) and for each week, by age and sex. Additionally, data show the percentage of in-hospital deaths among confirmed COVID-19 discharges, with and without intubation or ventilator use.\n",
      "Information 4:\n",
      "Publication date: None\n",
      "Title: Mortality Analyses - Johns Hopkins Coronavirus Resource Center\n",
      "Content:\n",
      "For the twenty countries currently most affected by COVID-19 worldwide, the bars in the chart below show the number of deaths either per 100 confirmed cases (observed case-fatality ratio) or per 100,000 population (this represents a country’s general population, with both confirmed cases and healthy people). Countries at the top of this figure have the most deaths proportionally to their COVID-19 cases or population, not necessarily the most deaths overall.\n",
      "Countries falling on the uppermost lines have the highest observed case fatality ratios. Points with a black border correspond to the 20 most affected countries by COVID-19 worldwide, based on the number of deaths. Hover over the circles to see the country name and a ratio value.\n",
      "One of the most important ways to measure the burden of COVID-19 is mortality. Countries throughout the world have reported very different case fatality ratios – the number of deaths divided by the number of confirmed cases. Differences in mortality numbers can be caused by:\n",
      "After three years of around-the-clock tracking of COVID-19 data from...\n",
      "Information 5:\n",
      "Publication date: None\n",
      "Title: Coronavirus (COVID-19) Deaths - Our World in Data\n",
      "Content:\n",
      "This page provides <strong>data</strong> on the number of confirmed deaths from <strong>COVID</strong>-<strong>19</strong>.\n",
      "\n",
      "response: \n",
      "Summary of Information:\n",
      "\n",
      "Information 1 and 2 are the same as the claim, providing an overview of COVID-19 related stories, including hospital mortality data and a drug trial. Information 3 presents tabulated data on in-hospital mortality among confirmed COVID-19 cases, broken down by age, sex, and week. Information 4, from the Johns Hopkins Coronavirus Resource Center, shows the number of deaths per 100 confirmed cases or per 100,000 population for the 20 countries most affected by COVID-19. Information 5, from Our World in Data, provides information on the number of confirmed deaths from COVID-19.\n",
      "\n",
      "Reasoning and Evidence:\n",
      "\n",
      "The claim is a news article about COVID-19, and the information presented in the article is consistent with the information presented in the other sources. However, the claim does not provide any specific details about the hospital mortality data or the drug trial that raised eyebrows.\n",
      "\n",
      "Information 3 provides specific data on in-hospital mortality among confirmed COVID-19 cases, but it does not mention any drug trial. Information 4 provides data on the number of deaths per 100 confirmed cases or per 100,000 population for the 20 countries most affected by COVID-19, but it does not mention any drug trial or hospital mortality data. Information 5 provides data on the number of confirmed deaths from COVID-19, but it does not mention any drug trial or hospital mortality data.\n",
      "\n",
      "Therefore, while the information presented in the claim is consistent with the information presented in the other sources, it does not provide any specific details about the hospital mortality data or the drug trial that raised eyebrows. Without this specific information, it is not possible to accurately classify the claim as true or false.\n",
      "\n",
      "In conclusion, while the claim is generally consistent with the information presented in other sources, it does not provide enough specific details to accurately classify it as true or false.\n"
     ]
    }
   ],
   "source": [
    "query = 'Below is a CLAIM and some INFORMATION searched online. These pieces of INFORMATION are relevant to the CLAIM. This CLAIM and all INFORMATION include their respective publication dates and contents. To classify the CLAIM more accurately (if the content described by the CLAIM is correct, it will be classified as TRUE; if the content described by the CLAIM is incorrect, it will be classified as FALSE), please first provide a detailed summary of the given INFORMATION. Then reason, and provide reasonable evidence to judge the correctness of the CLAIM based on the available information and your knowledge. In reasoning, it is necessary to consider the sequential relationship between the date of publication of the CLAIM and the date of publication of the INFORMATION.\\n\\nCLAIM:\\nPublication date: 2020-04-30\\nContent: COVID-19 Daily: Hospital Mortality Data, Drug Trial Raises Eyebrows\\n\\nINFORMATION:\\nInformation 1:\\nPublication date: 2020-04-30\\nTitle: COVID-19 Daily: Hospital Mortality Data, Drug Trial Raises Eyebrows\\nContent:\\nThese are the coronavirus stories you need to know about today.\\nInformation 2:\\nPublication date: 2013-08-06\\nTitle: COVID-19 Daily: Hospital Mortality Data, Drug Trial Raises ...\\nContent:\\n<strong>COVID</strong>-<strong>19</strong> is a new type of coronavirus that causes mild to severe cases. Here’s a quick guide on how to spot symptoms, risk factors, prevent spread of the disease, and find out what to do if you think you have it.\\nInformation 3:\\nPublication date: None\\nTitle: COVID-19 Hospital Data - In-hospital mortality among confirmed ...\\nContent:\\nTabulated data show the percentage of confirmed COVID-19 encounters in which an in-hospital death occurred. Data are presented for each setting (inpatient and ED) and for each week, by age and sex. Additionally, data show the percentage of in-hospital deaths among confirmed COVID-19 discharges, with and without intubation or ventilator use.\\nInformation 4:\\nPublication date: None\\nTitle: Mortality Analyses - Johns Hopkins Coronavirus Resource Center\\nContent:\\nFor the twenty countries currently most affected by COVID-19 worldwide, the bars in the chart below show the number of deaths either per 100 confirmed cases (observed case-fatality ratio) or per 100,000 population (this represents a country’s general population, with both confirmed cases and healthy people). Countries at the top of this figure have the most deaths proportionally to their COVID-19 cases or population, not necessarily the most deaths overall.\\nCountries falling on the uppermost lines have the highest observed case fatality ratios. Points with a black border correspond to the 20 most affected countries by COVID-19 worldwide, based on the number of deaths. Hover over the circles to see the country name and a ratio value.\\nOne of the most important ways to measure the burden of COVID-19 is mortality. Countries throughout the world have reported very different case fatality ratios – the number of deaths divided by the number of confirmed cases. Differences in mortality numbers can be caused by:\\nAfter three years of around-the-clock tracking of COVID-19 data from...\\nInformation 5:\\nPublication date: None\\nTitle: Coronavirus (COVID-19) Deaths - Our World in Data\\nContent:\\nThis page provides <strong>data</strong> on the number of confirmed deaths from <strong>COVID</strong>-<strong>19</strong>.\\n'\n",
    "\n",
    "\n",
    "\n",
    "messages = [\n",
    "    {\n",
    "    'role': 'user',\n",
    "    'content': query\n",
    "    }\n",
    "]\n",
    "\n",
    "resp = client.chat.completions.create(\n",
    "    model=model_type,\n",
    "    messages=messages,\n",
    "    seed=42,\n",
    "    temperature=0\n",
    ")\n",
    "\n",
    "response = resp.choices[0].message.content\n",
    "print(f'query: \\n{query}')\n",
    "print(f'response: \\n{response}')\n"
   ]
  }
 ],
 "metadata": {
  "kernelspec": {
   "display_name": "swift",
   "language": "python",
   "name": "python3"
  },
  "language_info": {
   "codemirror_mode": {
    "name": "ipython",
    "version": 3
   },
   "file_extension": ".py",
   "mimetype": "text/x-python",
   "name": "python",
   "nbconvert_exporter": "python",
   "pygments_lexer": "ipython3",
   "version": "3.10.13"
  }
 },
 "nbformat": 4,
 "nbformat_minor": 2
}
