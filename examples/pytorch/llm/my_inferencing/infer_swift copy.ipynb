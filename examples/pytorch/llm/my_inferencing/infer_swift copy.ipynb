{
 "cells": [
  {
   "cell_type": "code",
   "execution_count": 7,
   "metadata": {},
   "outputs": [
    {
     "name": "stdout",
     "output_type": "stream",
     "text": [
      "Chi2 Statistic: 0.128\n",
      "P-value: 0.7205147871362552\n",
      "Degrees of Freedom: 1\n",
      "Expected Frequencies:\n",
      "[[11.25 18.75]\n",
      " [18.75 31.25]]\n"
     ]
    }
   ],
   "source": [
    "import scipy.stats as stats\n",
    "import numpy as np\n",
    "\n",
    "# 创建一个示例的列联表\n",
    "# 假设我们有两个变量，每个变量有两个类别\n",
    "# 例如，变量 A 有类别1和类别2，变量 B 有类别1和类别2\n",
    "observed = np.array([[10, 20], [20, 30]])\n",
    "\n",
    "# 执行卡方检验\n",
    "chi2, p, dof, expected = stats.chi2_contingency(observed)\n",
    "\n",
    "print(f\"Chi2 Statistic: {chi2}\")\n",
    "print(f\"P-value: {p}\")\n",
    "print(f\"Degrees of Freedom: {dof}\")\n",
    "print(\"Expected Frequencies:\")\n",
    "print(expected)\n"
   ]
  }
 ],
 "metadata": {
  "kernelspec": {
   "display_name": "tune",
   "language": "python",
   "name": "python3"
  },
  "language_info": {
   "codemirror_mode": {
    "name": "ipython",
    "version": 3
   },
   "file_extension": ".py",
   "mimetype": "text/x-python",
   "name": "python",
   "nbconvert_exporter": "python",
   "pygments_lexer": "ipython3",
   "version": "3.11.9"
  }
 },
 "nbformat": 4,
 "nbformat_minor": 2
}
